{
 "cells": [
  {
   "cell_type": "code",
   "execution_count": 1,
   "id": "8951884f",
   "metadata": {},
   "outputs": [],
   "source": [
    "%run ./pulsar_ext.ipynb"
   ]
  },
  {
   "cell_type": "code",
   "execution_count": 2,
   "id": "5aafb976",
   "metadata": {},
   "outputs": [
    {
     "name": "stdout",
     "output_type": "stream",
     "text": [
      "Epoch 1: loss=0.139, result=0.089,0.975,0.624,0.761\n",
      "Epoch 2: loss=0.128, result=0.089,0.969,0.696,0.810\n",
      "Epoch 3: loss=0.130, result=0.089,0.951,0.734,0.828\n",
      "Epoch 4: loss=0.131, result=0.089,0.917,0.762,0.832\n",
      "Epoch 5: loss=0.130, result=0.089,0.953,0.755,0.843\n",
      "Epoch 6: loss=0.127, result=0.089,0.893,0.809,0.849\n",
      "Epoch 7: loss=0.130, result=0.089,0.950,0.718,0.818\n",
      "Epoch 8: loss=0.119, result=0.089,0.960,0.743,0.837\n",
      "Epoch 9: loss=0.116, result=0.089,0.971,0.727,0.832\n",
      "Epoch 10: loss=0.120, result=0.089,0.976,0.649,0.780\n",
      "\n",
      "Final Test: final result = 0.089,0.976,0.649,0.780\n"
     ]
    }
   ],
   "source": [
    "pulsar_exec()"
   ]
  },
  {
   "cell_type": "code",
   "execution_count": null,
   "id": "5006e665",
   "metadata": {},
   "outputs": [],
   "source": []
  }
 ],
 "metadata": {
  "kernelspec": {
   "display_name": "Python 3 (ipykernel)",
   "language": "python",
   "name": "python3"
  },
  "language_info": {
   "codemirror_mode": {
    "name": "ipython",
    "version": 3
   },
   "file_extension": ".py",
   "mimetype": "text/x-python",
   "name": "python",
   "nbconvert_exporter": "python",
   "pygments_lexer": "ipython3",
   "version": "3.9.9"
  }
 },
 "nbformat": 4,
 "nbformat_minor": 5
}
