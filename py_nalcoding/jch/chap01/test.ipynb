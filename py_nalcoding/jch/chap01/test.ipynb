{
 "cells": [
  {
   "cell_type": "code",
   "execution_count": 2,
   "id": "151a1b05",
   "metadata": {},
   "outputs": [],
   "source": [
    "import numpy as np"
   ]
  },
  {
   "cell_type": "code",
   "execution_count": 4,
   "id": "d58bc394",
   "metadata": {},
   "outputs": [
    {
     "name": "stdout",
     "output_type": "stream",
     "text": [
      "[[-0.00051431]\n",
      " [-0.00145973]\n",
      " [ 0.00258863]\n",
      " [-0.00281518]\n",
      " [ 0.00292126]\n",
      " [ 0.00419086]\n",
      " [-0.0066754 ]\n",
      " [ 0.00158877]\n",
      " [ 0.00356048]\n",
      " [ 0.00329027]]\n"
     ]
    }
   ],
   "source": [
    "weight = np.random.normal(0, 0.0030, [10, 1])\n",
    "print(weight)"
   ]
  },
  {
   "cell_type": "code",
   "execution_count": 45,
   "id": "80d533eb",
   "metadata": {},
   "outputs": [
    {
     "name": "stdout",
     "output_type": "stream",
     "text": [
      "[[0. 0. 0. 0. 0. 0. 0. 0. 0. 0.]\n",
      " [0. 0. 0. 0. 0. 0. 0. 0. 0. 0.]\n",
      " [0. 0. 0. 0. 0. 0. 0. 0. 0. 0.]\n",
      " [0. 0. 0. 0. 0. 0. 0. 0. 0. 0.]\n",
      " [0. 0. 0. 0. 0. 0. 0. 0. 0. 0.]]\n",
      "5\n"
     ]
    }
   ],
   "source": [
    "data = np.zeros([5, 10])\n",
    "print(data)\n",
    "print(data.shape[0])"
   ]
  },
  {
   "cell_type": "code",
   "execution_count": 5,
   "id": "ce28b760",
   "metadata": {},
   "outputs": [],
   "source": [
    "shuffle_map = np.arange(10)"
   ]
  },
  {
   "cell_type": "code",
   "execution_count": 6,
   "id": "82cd0e4c",
   "metadata": {},
   "outputs": [
    {
     "data": {
      "text/plain": [
       "array([0, 1, 2, 3, 4, 5, 6, 7, 8, 9])"
      ]
     },
     "execution_count": 6,
     "metadata": {},
     "output_type": "execute_result"
    }
   ],
   "source": [
    "shuffle_map"
   ]
  },
  {
   "cell_type": "code",
   "execution_count": 7,
   "id": "78b56b6e",
   "metadata": {},
   "outputs": [],
   "source": [
    "np.random.shuffle(shuffle_map)"
   ]
  },
  {
   "cell_type": "code",
   "execution_count": 8,
   "id": "c3cae3fa",
   "metadata": {},
   "outputs": [
    {
     "data": {
      "text/plain": [
       "array([6, 3, 5, 1, 2, 8, 7, 4, 0, 9])"
      ]
     },
     "execution_count": 8,
     "metadata": {},
     "output_type": "execute_result"
    }
   ],
   "source": [
    "shuffle_map"
   ]
  },
  {
   "cell_type": "code",
   "execution_count": 9,
   "id": "048a1edd",
   "metadata": {},
   "outputs": [],
   "source": [
    "mb_size = 2\n",
    "step_count = int(10 * 0.8) // mb_size\n",
    "test_begin_idx = step_count * mb_size"
   ]
  },
  {
   "cell_type": "code",
   "execution_count": 11,
   "id": "ab4d5d8a",
   "metadata": {},
   "outputs": [
    {
     "data": {
      "text/plain": [
       "8"
      ]
     },
     "execution_count": 11,
     "metadata": {},
     "output_type": "execute_result"
    }
   ],
   "source": [
    "test_begin_idx"
   ]
  },
  {
   "cell_type": "code",
   "execution_count": 17,
   "id": "5e4e81b8",
   "metadata": {},
   "outputs": [
    {
     "data": {
      "text/plain": [
       "0"
      ]
     },
     "execution_count": 17,
     "metadata": {},
     "output_type": "execute_result"
    }
   ],
   "source": [
    "shuffle_map[test_begin_idx:]"
   ]
  },
  {
   "cell_type": "code",
   "execution_count": null,
   "id": "bb21ed7a",
   "metadata": {},
   "outputs": [],
   "source": []
  }
 ],
 "metadata": {
  "kernelspec": {
   "display_name": "Python 3 (ipykernel)",
   "language": "python",
   "name": "python3"
  },
  "language_info": {
   "codemirror_mode": {
    "name": "ipython",
    "version": 3
   },
   "file_extension": ".py",
   "mimetype": "text/x-python",
   "name": "python",
   "nbconvert_exporter": "python",
   "pygments_lexer": "ipython3",
   "version": "3.9.9"
  }
 },
 "nbformat": 4,
 "nbformat_minor": 5
}
