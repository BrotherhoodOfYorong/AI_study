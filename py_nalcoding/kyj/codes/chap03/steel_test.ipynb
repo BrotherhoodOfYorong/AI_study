{
 "cells": [
  {
   "cell_type": "code",
   "execution_count": 1,
   "metadata": {
    "collapsed": true
   },
   "outputs": [
    {
     "name": "stdout",
     "output_type": "stream",
     "text": [
      "Epoch 1\" loss=15.9844, accuracy=0.306/0.320\n",
      "Epoch 2\" loss=15.5090, accuracy=0.326/0.197\n",
      "Epoch 3\" loss=15.9844, accuracy=0.306/0.348\n",
      "Epoch 4\" loss=15.0039, accuracy=0.348/0.197\n",
      "Epoch 5\" loss=15.2862, accuracy=0.336/0.202\n",
      "Epoch 6\" loss=15.3902, accuracy=0.332/0.440\n",
      "Epoch 7\" loss=15.5090, accuracy=0.326/0.442\n",
      "Epoch 8\" loss=15.6279, accuracy=0.321/0.455\n",
      "Epoch 9\" loss=15.3605, accuracy=0.333/0.322\n",
      "Epoch 10\" loss=15.3159, accuracy=0.335/0.455\n",
      "\n",
      "Final Test: final accuracy = 0.455\n"
     ]
    }
   ],
   "source": [
    "%run steel.ipynb"
   ]
  },
  {
   "cell_type": "code",
   "execution_count": 6,
   "outputs": [
    {
     "name": "stdout",
     "output_type": "stream",
     "text": [
      "Epoch 1\" loss=18.2684, accuracy=0.202/0.228\n",
      "Epoch 2\" loss=18.2684, accuracy=0.202/0.228\n",
      "Epoch 3\" loss=18.2684, accuracy=0.202/0.228\n",
      "Epoch 4\" loss=18.2684, accuracy=0.202/0.228\n",
      "Epoch 5\" loss=18.2684, accuracy=0.202/0.228\n",
      "Epoch 6\" loss=18.2684, accuracy=0.202/0.228\n",
      "Epoch 7\" loss=18.2684, accuracy=0.202/0.228\n",
      "Epoch 8\" loss=18.2684, accuracy=0.202/0.228\n",
      "Epoch 9\" loss=18.2684, accuracy=0.202/0.228\n",
      "Epoch 10\" loss=18.2684, accuracy=0.202/0.228\n",
      "\n",
      "Final Test: final accuracy = 0.228\n"
     ]
    }
   ],
   "source": [
    "LEARNING_RATE = 0.0000000000000001\n",
    "steel_exec()"
   ],
   "metadata": {
    "collapsed": false,
    "pycharm": {
     "name": "#%%\n"
    }
   }
  },
  {
   "cell_type": "code",
   "execution_count": null,
   "outputs": [],
   "source": [],
   "metadata": {
    "collapsed": false,
    "pycharm": {
     "name": "#%%\n"
    }
   }
  }
 ],
 "metadata": {
  "kernelspec": {
   "name": "ten230v1",
   "language": "python",
   "display_name": "ten230"
  },
  "language_info": {
   "codemirror_mode": {
    "name": "ipython",
    "version": 2
   },
   "file_extension": ".py",
   "mimetype": "text/x-python",
   "name": "python",
   "nbconvert_exporter": "python",
   "pygments_lexer": "ipython2",
   "version": "2.7.6"
  }
 },
 "nbformat": 4,
 "nbformat_minor": 0
}