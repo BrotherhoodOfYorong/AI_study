{
 "cells": [
  {
   "cell_type": "code",
   "execution_count": 1,
   "metadata": {
    "collapsed": true
   },
   "outputs": [],
   "source": [
    "import csv\n",
    "\n",
    "import numpy as np\n",
    "%run ../chap01/abalone.ipynb"
   ]
  },
  {
   "cell_type": "code",
   "execution_count": 2,
   "outputs": [],
   "source": [
    "#메인 함수 정의\n",
    "def steel_exec(epoch_count=10, mb_size=10, report=1):\n",
    "    load_steel_dataset()\n",
    "    init_model()\n",
    "    train_and_test(epoch_count, mb_size, report)"
   ],
   "metadata": {
    "collapsed": false,
    "pycharm": {
     "name": "#%%\n"
    }
   }
  },
  {
   "cell_type": "code",
   "execution_count": 3,
   "outputs": [],
   "source": [
    "#데이터 적재 함수 정의\n",
    "def load_steel_dataset():\n",
    "    with open('../../data/chap03/faults.csv') as csvfile:\n",
    "        csvreader = csv.reader(csvfile)\n",
    "        next(csvreader, None)\n",
    "        rows = []\n",
    "        for row in csvreader:\n",
    "            rows.append(row)\n",
    "    global data, input_cnt, output_cnt\n",
    "    input_cnt, output_cnt = 27, 7 #output_cnt -> 철강 표면에 대한 분류 항목 수 7개로 지정\n",
    "    data = np.asarray(rows, dtype='float32')"
   ],
   "metadata": {
    "collapsed": false,
    "pycharm": {
     "name": "#%%\n"
    }
   }
  },
  {
   "cell_type": "code",
   "execution_count": 4,
   "outputs": [],
   "source": [
    "#후처리 과정에 대한 순전파와 역전파 함수의 재정의\n",
    "def forward_postproc(output, y):\n",
    "    entropy = softmax_cross_entropy_with_logits(y, output)\n",
    "    loss =  np.mean(entropy)\n",
    "    return loss, [y, output, entropy]\n",
    "\n",
    "def backprop_postproc(G_loss, aux):\n",
    "    y, output, entropy = aux\n",
    "\n",
    "    g_loss_entropy = 1.0 / np.prod(entropy.shape)\n",
    "    g_entropy_outut = softmax_cross_entropy_with_logits_derv(y, output)\n",
    "\n",
    "    G_entropy = g_loss_entropy * G_loss\n",
    "    G_output = g_entropy_outut * G_entropy\n",
    "\n",
    "    return G_output"
   ],
   "metadata": {
    "collapsed": false,
    "pycharm": {
     "name": "#%%\n"
    }
   }
  },
  {
   "cell_type": "code",
   "execution_count": 5,
   "outputs": [],
   "source": [
    "#정확도 계산 함수의 재정의\n",
    "def eval_accuracy(output, y):\n",
    "    #argmax() 함수: 후보 항목에 관한 각 로짓값을 담고 있는 벡터에서 가장 큰 값이 어디있는지 확인\n",
    "    estimate = np.argmax(output, axis=1)\n",
    "    answer = np.argmax(y, axis=1)\n",
    "    correct = np.equal(estimate, answer)\n",
    "\n",
    "    return np.mean(correct)"
   ],
   "metadata": {
    "collapsed": false,
    "pycharm": {
     "name": "#%%\n"
    }
   }
  },
  {
   "cell_type": "code",
   "execution_count": 6,
   "outputs": [],
   "source": [
    "#소프트맥스 관련 함수 정의\n",
    "def softmax(x):\n",
    "    max_elem = np.max(x, axis=1)\n",
    "    diff = (x.transpose() - max_elem).transpose()\n",
    "    exp = np.exp(diff)\n",
    "    sum_exp = np.sum(exp, axis=1)\n",
    "    probs = (exp.transpose() / sum_exp).transpose()\n",
    "    return probs\n",
    "\n",
    "def softmax_derv(x, y):\n",
    "    mb_size, nom_size = x.shape\n",
    "    derv = np.ndarray([mb_size, nom_size, nom_size])\n",
    "    for n in range(mb_size):\n",
    "        for i in range(nom_size):\n",
    "            for j in range(nom_size):\n",
    "                derv[n, i, j] = -y[n, i] * y[n, j]\n",
    "            derv[n, i, i] += y[n, i]\n",
    "    return derv\n",
    "\n",
    "def softmax_cross_entropy_with_logits(labels, logits):\n",
    "    probs = softmax(logits)\n",
    "    return -np.sum(labels * np.log(probs+1.0e-10), axis=1)\n",
    "\n",
    "def softmax_cross_entropy_with_logits_derv(labels, logits):\n",
    "    return softmax(logits) - labels\n",
    "\n"
   ],
   "metadata": {
    "collapsed": false,
    "pycharm": {
     "name": "#%%\n"
    }
   }
  },
  {
   "cell_type": "code",
   "execution_count": 10,
   "outputs": [
    {
     "name": "stdout",
     "output_type": "stream",
     "text": [
      "Epoch 1\" loss=16.8757, accuracy=0.267/0.297\n",
      "Epoch 2\" loss=15.3456, accuracy=0.334/0.238\n",
      "Epoch 3\" loss=15.2862, accuracy=0.336/0.238\n",
      "Epoch 4\" loss=15.5684, accuracy=0.324/0.440\n",
      "Epoch 5\" loss=15.6873, accuracy=0.319/0.248\n",
      "Epoch 6\" loss=15.6873, accuracy=0.319/0.235\n",
      "Epoch 7\" loss=15.5090, accuracy=0.326/0.361\n",
      "Epoch 8\" loss=15.6576, accuracy=0.320/0.317\n",
      "Epoch 9\" loss=15.1079, accuracy=0.344/0.437\n",
      "Epoch 10\" loss=15.2713, accuracy=0.337/0.496\n",
      "\n",
      "Final Test: final accuracy = 0.496\n"
     ]
    }
   ],
   "source": [
    "steel_exec()"
   ],
   "metadata": {
    "collapsed": false,
    "pycharm": {
     "name": "#%%\n"
    }
   }
  },
  {
   "cell_type": "code",
   "execution_count": null,
   "outputs": [],
   "source": [],
   "metadata": {
    "collapsed": false,
    "pycharm": {
     "name": "#%%\n"
    }
   }
  }
 ],
 "metadata": {
  "kernelspec": {
   "name": "ten230v1",
   "language": "python",
   "display_name": "ten230"
  },
  "language_info": {
   "codemirror_mode": {
    "name": "ipython",
    "version": 2
   },
   "file_extension": ".py",
   "mimetype": "text/x-python",
   "name": "python",
   "nbconvert_exporter": "python",
   "pygments_lexer": "ipython2",
   "version": "2.7.6"
  }
 },
 "nbformat": 4,
 "nbformat_minor": 0
}