{
 "cells": [
  {
   "cell_type": "code",
   "execution_count": 6,
   "metadata": {
    "collapsed": true
   },
   "outputs": [
    {
     "name": "stdout",
     "output_type": "stream",
     "text": [
      "Epoch 1\" loss=0.1767, accuracy=0.956/0.967\n",
      "Epoch 2\" loss=0.1419, accuracy=0.962/0.972\n",
      "Epoch 3\" loss=0.1496, accuracy=0.964/0.967\n",
      "Epoch 4\" loss=0.1509, accuracy=0.965/0.969\n",
      "Epoch 5\" loss=0.1379, accuracy=0.966/0.971\n",
      "Epoch 6\" loss=0.1589, accuracy=0.968/0.973\n",
      "Epoch 7\" loss=0.1368, accuracy=0.968/0.974\n",
      "Epoch 8\" loss=0.1371, accuracy=0.968/0.970\n",
      "Epoch 9\" loss=0.1373, accuracy=0.968/0.974\n",
      "Epoch 10\" loss=0.1538, accuracy=0.965/0.970\n",
      "\n",
      "Final Test: final accuracy = 0.970\n"
     ]
    }
   ],
   "source": [
    "%run ./pulsar_ext.ipynb"
   ]
  },
  {
   "cell_type": "code",
   "execution_count": 7,
   "outputs": [
    {
     "name": "stdout",
     "output_type": "stream",
     "text": [
      "Epoch 1: loss=0.156 result=0.972,0.951,0.067,0.124\n",
      "Epoch 2: loss=0.142 result=0.970,0.969,0.064,0.120\n",
      "Epoch 3: loss=0.140 result=0.955,0.988,0.047,0.089\n",
      "Epoch 4: loss=0.147 result=0.967,0.986,0.060,0.112\n",
      "Epoch 5: loss=0.141 result=0.970,0.874,0.072,0.132\n",
      "Epoch 6: loss=0.147 result=0.973,0.963,0.067,0.125\n",
      "Epoch 7: loss=0.149 result=0.972,0.966,0.065,0.122\n",
      "Epoch 8: loss=0.148 result=0.971,0.982,0.063,0.119\n",
      "Epoch 9: loss=0.133 result=0.972,0.970,0.066,0.123\n",
      "Epoch 10: loss=0.131 result=0.965,0.985,0.057,0.109\n",
      "\n",
      "Final Test: final result=0.965,0.985,0.057,0.109\n"
     ]
    }
   ],
   "source": [
    "pulsar_exec()"
   ],
   "metadata": {
    "collapsed": false,
    "pycharm": {
     "name": "#%%\n"
    }
   }
  },
  {
   "cell_type": "code",
   "execution_count": null,
   "outputs": [],
   "source": [],
   "metadata": {
    "collapsed": false,
    "pycharm": {
     "name": "#%%\n"
    }
   }
  }
 ],
 "metadata": {
  "kernelspec": {
   "name": "ten230v1",
   "language": "python",
   "display_name": "ten230"
  },
  "language_info": {
   "codemirror_mode": {
    "name": "ipython",
    "version": 2
   },
   "file_extension": ".py",
   "mimetype": "text/x-python",
   "name": "python",
   "nbconvert_exporter": "python",
   "pygments_lexer": "ipython2",
   "version": "2.7.6"
  }
 },
 "nbformat": 4,
 "nbformat_minor": 0
}