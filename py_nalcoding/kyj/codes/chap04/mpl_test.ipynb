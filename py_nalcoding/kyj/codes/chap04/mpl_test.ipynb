{
 "cells": [
  {
   "cell_type": "code",
   "execution_count": 1,
   "outputs": [
    {
     "name": "stdout",
     "output_type": "stream",
     "text": [
      "은닉 계층 0개를 갖는 다층 퍼셉트론이 작동되었습니다.\n",
      "Epoch 1\" loss=33.8751, accuracy=0.557/0.812\n",
      "Epoch 2\" loss=8.2262, accuracy=0.820/0.814\n",
      "Epoch 3\" loss=7.5817, accuracy=0.812/0.809\n",
      "Epoch 4\" loss=7.4752, accuracy=0.808/0.811\n",
      "Epoch 5\" loss=7.3948, accuracy=0.810/0.809\n",
      "Epoch 6\" loss=7.3281, accuracy=0.808/0.810\n",
      "Epoch 7\" loss=7.2689, accuracy=0.808/0.811\n",
      "Epoch 8\" loss=7.2171, accuracy=0.808/0.812\n",
      "Epoch 9\" loss=7.1749, accuracy=0.810/0.810\n",
      "Epoch 10\" loss=7.1347, accuracy=0.809/0.810\n",
      "\n",
      "Final Test: final accuracy = 0.810\n"
     ]
    }
   ],
   "source": [
    "# 단층 퍼셉트론로 전복 고리수 추정\n",
    "%run ../chap01/abalone.ipynb\n",
    "%run ../chap04/mlp.ipynb\n",
    "set_hidden([])\n",
    "abalone_exec()"
   ],
   "metadata": {
    "collapsed": false,
    "pycharm": {
     "name": "#%%\n"
    }
   }
  },
  {
   "cell_type": "code",
   "execution_count": 2,
   "outputs": [
    {
     "name": "stdout",
     "output_type": "stream",
     "text": [
      "은닉 계층 하나를 갖는 다층 퍼셉트론이 작동되었습니다.\n",
      "Epoch 10\" loss=6.4515, accuracy=0.813/0.807\n",
      "Epoch 20\" loss=5.5360, accuracy=0.827/0.824\n",
      "Epoch 30\" loss=5.0170, accuracy=0.837/0.846\n",
      "Epoch 40\" loss=4.9371, accuracy=0.838/0.845\n",
      "Epoch 50\" loss=4.9154, accuracy=0.839/0.837\n",
      "\n",
      "Final Test: final accuracy = 0.837\n"
     ]
    }
   ],
   "source": [
    "# 은닉 계층 하나로 풀어보는 전복 고리 수 추정\n",
    "set_hidden(4)\n",
    "abalone_exec(epoch_count=50, report=10)"
   ],
   "metadata": {
    "collapsed": false,
    "pycharm": {
     "name": "#%%\n"
    }
   }
  },
  {
   "cell_type": "code",
   "execution_count": 3,
   "outputs": [
    {
     "name": "stdout",
     "output_type": "stream",
     "text": [
      "은닉 계층 하나를 갖는 다층 퍼셉트론이 작동되었습니다.\n",
      "Epoch 10\" loss=6.3482, accuracy=0.815/0.820\n",
      "Epoch 20\" loss=5.5092, accuracy=0.829/0.829\n",
      "Epoch 30\" loss=4.9949, accuracy=0.838/0.828\n",
      "Epoch 40\" loss=4.9266, accuracy=0.839/0.845\n",
      "Epoch 50\" loss=4.9061, accuracy=0.841/0.827\n",
      "\n",
      "Final Test: final accuracy = 0.827\n"
     ]
    }
   ],
   "source": [
    "# 난수 함수의 효과 확인\n",
    "abalone_exec(epoch_count=50, report=10)"
   ],
   "metadata": {
    "collapsed": false,
    "pycharm": {
     "name": "#%%\n"
    }
   }
  },
  {
   "cell_type": "code",
   "execution_count": 10,
   "outputs": [
    {
     "name": "stdout",
     "output_type": "stream",
     "text": [
      "은닉 계층 하나를 갖는 다층 퍼셉트론이 작동되었습니다.\n",
      "Epoch 10\" loss=0.1360, accuracy=0.932/0.939\n",
      "Epoch 20\" loss=0.1337, accuracy=0.941/0.943\n",
      "Epoch 30\" loss=0.1332, accuracy=0.944/0.945\n",
      "Epoch 40\" loss=0.1319, accuracy=0.949/0.952\n",
      "Epoch 50\" loss=0.1310, accuracy=0.955/0.956\n",
      "\n",
      "Final Test: final accuracy = 0.956\n"
     ]
    }
   ],
   "source": [
    "# pulsar\n",
    "# 은닉 계층 1개\n",
    "%run ../chap02/pulsar.ipynb\n",
    "%run ../chap04/mlp.ipynb\n",
    "set_hidden(6)\n",
    "pulsar_exec(epoch_count=50, report=10)"
   ],
   "metadata": {
    "collapsed": false,
    "pycharm": {
     "name": "#%%\n"
    }
   }
  },
  {
   "cell_type": "code",
   "execution_count": 11,
   "outputs": [
    {
     "name": "stdout",
     "output_type": "stream",
     "text": [
      "은닉 계층 1개를 갖는 다층 퍼셉트론이 작동되었습니다.\n",
      "Epoch 10\" loss=0.1304, accuracy=0.910/0.903\n",
      "Epoch 20\" loss=0.1298, accuracy=0.910/0.903\n",
      "Epoch 30\" loss=0.1292, accuracy=0.915/0.908\n",
      "Epoch 40\" loss=0.1282, accuracy=0.932/0.923\n",
      "Epoch 50\" loss=0.1281, accuracy=0.942/0.936\n",
      "\n",
      "Final Test: final accuracy = 0.936\n"
     ]
    }
   ],
   "source": [
    "# 은닉 계층 1개인 다층 퍼셉트론\n",
    "set_hidden([6])\n",
    "pulsar_exec(epoch_count=50, report=10)"
   ],
   "metadata": {
    "collapsed": false,
    "pycharm": {
     "name": "#%%\n"
    }
   }
  },
  {
   "cell_type": "code",
   "execution_count": 12,
   "outputs": [
    {
     "name": "stdout",
     "output_type": "stream",
     "text": [
      "은닉 계층 2개를 갖는 다층 퍼셉트론이 작동되었습니다.\n",
      "Epoch 40\" loss=0.1350, accuracy=0.907/0.912\n",
      "Epoch 80\" loss=0.1308, accuracy=0.907/0.912\n",
      "Epoch 120\" loss=0.1299, accuracy=0.907/0.912\n",
      "Epoch 160\" loss=0.1286, accuracy=0.907/0.912\n",
      "Epoch 200\" loss=0.1281, accuracy=0.907/0.912\n",
      "\n",
      "Final Test: final accuracy = 0.912\n"
     ]
    }
   ],
   "source": [
    "# 은닉 계층 2개인 다층 퍼셉트론\n",
    "set_hidden([12, 6])\n",
    "pulsar_exec(epoch_count=200, report=40)"
   ],
   "metadata": {
    "collapsed": false,
    "pycharm": {
     "name": "#%%\n"
    }
   }
  },
  {
   "cell_type": "code",
   "execution_count": 14,
   "outputs": [
    {
     "name": "stdout",
     "output_type": "stream",
     "text": [
      "은닉 계층 하나를 갖는 다층 퍼셉트론이 작동되었습니다.\n",
      "Epoch 10\" loss=1.8493, accuracy=0.352/0.325\n",
      "Epoch 20\" loss=1.7855, accuracy=0.352/0.325\n",
      "Epoch 30\" loss=1.7468, accuracy=0.352/0.325\n",
      "Epoch 40\" loss=1.7229, accuracy=0.352/0.325\n",
      "Epoch 50\" loss=1.7078, accuracy=0.352/0.325\n",
      "\n",
      "Final Test: final accuracy = 0.325\n"
     ]
    }
   ],
   "source": [
    "# steel\n",
    "# 은닉 계층 1개\n",
    "%run ../chap03/steel.ipynb\n",
    "%run ../chap04/mlp.ipynb\n",
    "set_hidden(10)\n",
    "steel_exec(epoch_count=50, report=10)"
   ],
   "metadata": {
    "collapsed": false,
    "pycharm": {
     "name": "#%%\n"
    }
   }
  },
  {
   "cell_type": "code",
   "execution_count": 15,
   "outputs": [
    {
     "name": "stdout",
     "output_type": "stream",
     "text": [
      "은닉 계층 3개를 갖는 다층 퍼셉트론이 작동되었습니다.\n",
      "Epoch 10\" loss=1.8549, accuracy=0.346/0.350\n",
      "Epoch 20\" loss=1.7947, accuracy=0.346/0.350\n",
      "Epoch 30\" loss=1.7583, accuracy=0.346/0.350\n",
      "Epoch 40\" loss=1.7354, accuracy=0.346/0.350\n",
      "Epoch 50\" loss=1.7209, accuracy=0.346/0.350\n",
      "\n",
      "Final Test: final accuracy = 0.350\n"
     ]
    }
   ],
   "source": [
    "# 은닉 계층 3개인 다층 퍼셉트론\n",
    "set_hidden([12, 6, 4])\n",
    "steel_exec(epoch_count=50, report=10)"
   ],
   "metadata": {
    "collapsed": false,
    "pycharm": {
     "name": "#%%\n"
    }
   }
  },
  {
   "cell_type": "code",
   "execution_count": 16,
   "outputs": [
    {
     "name": "stdout",
     "output_type": "stream",
     "text": [
      "은닉 계층 3개를 갖는 다층 퍼셉트론이 작동되었습니다.\n",
      "Epoch 10\" loss=1.7382, accuracy=0.257/0.182\n",
      "Epoch 20\" loss=1.6184, accuracy=0.315/0.468\n",
      "Epoch 30\" loss=1.6043, accuracy=0.390/0.389\n",
      "Epoch 40\" loss=1.5937, accuracy=0.422/0.471\n",
      "Epoch 50\" loss=1.5843, accuracy=0.444/0.471\n",
      "\n",
      "Final Test: final accuracy = 0.471\n"
     ]
    }
   ],
   "source": [
    "# 학습률을 바꿔보자\n",
    "LEARNING_RATE=0.0001\n",
    "set_hidden([12, 6, 4])\n",
    "steel_exec(epoch_count=50, report=10)"
   ],
   "metadata": {
    "collapsed": false,
    "pycharm": {
     "name": "#%%\n"
    }
   }
  },
  {
   "cell_type": "code",
   "execution_count": null,
   "outputs": [],
   "source": [],
   "metadata": {
    "collapsed": false,
    "pycharm": {
     "name": "#%%\n"
    }
   }
  }
 ],
 "metadata": {
  "kernelspec": {
   "name": "ten230v1",
   "language": "python",
   "display_name": "ten230"
  },
  "language_info": {
   "codemirror_mode": {
    "name": "ipython",
    "version": 2
   },
   "file_extension": ".py",
   "mimetype": "text/x-python",
   "name": "python",
   "nbconvert_exporter": "python",
   "pygments_lexer": "ipython2",
   "version": "2.7.6"
  }
 },
 "nbformat": 4,
 "nbformat_minor": 0
}