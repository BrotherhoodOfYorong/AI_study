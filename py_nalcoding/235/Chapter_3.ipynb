{
 "cells": [
  {
   "cell_type": "markdown",
   "id": "29b175f0",
   "metadata": {},
   "source": [
    "## 선택 분류 문제의 신경망 처리\n",
    "- 선택 분류 문제는 몇 가지 정해진 후보 가운데 하나를 골라 답하는 문제\n",
    "- 2개를 판정하는 문제 -> 이진 판단 문제\n",
    "- 퍼셉트론 하나가 후보 하나에 대한 로짓값을 출력하기 때문에, 후보 수 만큼 퍼셉트론이 필요\n",
    "    - 로짓: 실제 표현하려는 값을 로그값으로 나타낸 값\n",
    "\n",
    "## 소프트맥스 함수\n",
    "- 로짓값 벡터를 확률 분포 벡터로 변환해주는 비선형 함수\n",
    "- 로짓값들은 후보 항들에 대한 선택 확률을 로그 척도로 표현한 것, 따라서 다시 로그 계산을 하지 않아도 최대항만 확인하면 됨\n",
    "- 손실 함숫값도 '소프트맥스 교차 엔트로피'를 이용해 바로 계산할 수 있음\n",
    "- 로짓값을 확률값으로 바꿔줘야 하는 이유\n",
    "    - 사용자가 시각 분포를 눈으로 확인 할 수 있음\n",
    "    - 손실 함수에 대한 편미분을 구해 역전파를 진행할 때 이러한 확률 분포가 필요\n",
    "- 따라서 로짓값을 확률값으로 바꿔주는 소프트맥스 함수가 필요\n",
    "- 소프트맥스 함수의 입력은 로짓값 벡터\n",
    "- 소프트맥스 함수의 출력은 확률값 벡터"
   ]
  },
  {
   "cell_type": "code",
   "execution_count": 5,
   "id": "97578a5a",
   "metadata": {},
   "outputs": [
    {
     "name": "stdout",
     "output_type": "stream",
     "text": [
      "Epoch 1: loss=33.875, accuracy=0.557/0.812\n",
      "Epoch 2: loss=8.226, accuracy=0.820/0.814\n",
      "Epoch 3: loss=7.582, accuracy=0.812/0.809\n",
      "Epoch 4: loss=7.475, accuracy=0.808/0.811\n",
      "Epoch 5: loss=7.395, accuracy=0.810/0.809\n",
      "Epoch 6: loss=7.328, accuracy=0.808/0.810\n",
      "Epoch 7: loss=7.269, accuracy=0.808/0.811\n",
      "Epoch 8: loss=7.217, accuracy=0.808/0.812\n",
      "Epoch 9: loss=7.175, accuracy=0.810/0.810\n",
      "Epoch 10: loss=7.135, accuracy=0.809/0.810\n",
      "\n",
      "Final Test: final accuracy = 0.810\n",
      "[[1.02697603]\n",
      " [1.47450981]\n",
      " [1.66960135]\n",
      " [2.04468668]\n",
      " [1.62513525]\n",
      " [0.60292627]\n",
      " [2.39993815]\n",
      " [0.54107313]\n",
      " [0.46878034]\n",
      " [1.01969382]]\n",
      "[4.16894769]\n",
      "Epoch 20: loss=5.804, accuracy=0.825/0.831\n",
      "Epoch 40: loss=5.259, accuracy=0.834/0.828\n",
      "Epoch 60: loss=5.056, accuracy=0.837/0.838\n",
      "Epoch 80: loss=4.950, accuracy=0.838/0.840\n",
      "Epoch 100: loss=4.910, accuracy=0.840/0.826\n",
      "\n",
      "Final Test: final accuracy = 0.826\n"
     ]
    }
   ],
   "source": [
    "%run Chapter_1.ipynb"
   ]
  },
  {
   "cell_type": "code",
   "execution_count": 6,
   "id": "370d02b0",
   "metadata": {},
   "outputs": [],
   "source": [
    "def steel_exec(epoch_count=10, mb_size=10, report=1):\n",
    "    load_steel_dataset()\n",
    "    init_model()\n",
    "    train_and_test(epoch_count, mb_size, report)"
   ]
  },
  {
   "cell_type": "code",
   "execution_count": 7,
   "id": "c751f7f0",
   "metadata": {},
   "outputs": [],
   "source": [
    "def load_steel_dataset():\n",
    "    with open('../jch/chap03/faults.csv') as csvfile:\n",
    "        csvreader = csv.reader(csvfile)\n",
    "        next(csvreader, None)\n",
    "        rows = []\n",
    "        for row in csvreader:\n",
    "            rows.append(row)\n",
    "            \n",
    "    global data, input_cnt, output_cnt\n",
    "    input_cnt, output_cnt = 27, 7\n",
    "    data = np.asarray(rows, dtype='float32')"
   ]
  },
  {
   "cell_type": "code",
   "execution_count": 8,
   "id": "d4b8c696",
   "metadata": {},
   "outputs": [],
   "source": [
    "def forward_postproc(output, y):\n",
    "    entropy = softmax_cross_entropy_with_logits(y, output)\n",
    "    loss = np.mean(entropy) \n",
    "    return loss, [y, output, entropy]\n",
    "\n",
    "def backprop_postproc(G_loss, aux):\n",
    "    y, output, entropy = aux\n",
    "    \n",
    "    g_loss_entropy = 1.0 / np.prod(entropy.shape)\n",
    "    g_entropy_output = softmax_cross_entropy_with_logits_derv(y, output)\n",
    "    \n",
    "    G_entropy = g_loss_entropy * G_loss\n",
    "    G_output = g_entropy_output * G_entropy\n",
    "    \n",
    "    return G_output"
   ]
  },
  {
   "cell_type": "code",
   "execution_count": 9,
   "id": "e9e50628",
   "metadata": {},
   "outputs": [],
   "source": [
    "def eval_accuracy(output, y):\n",
    "    estimate = np.argmax(output, axis=1)\n",
    "    answer = np.argmax(y, axis=1)\n",
    "    correct = np.equal(estimate, answer)\n",
    "    \n",
    "    return np.mean(correct)"
   ]
  },
  {
   "cell_type": "code",
   "execution_count": 10,
   "id": "693d9655",
   "metadata": {},
   "outputs": [],
   "source": [
    "def softmax(x):\n",
    "    max_elem = np.max(x, axis=1)\n",
    "    diff = (x.transpose() - max_elem).transpose()\n",
    "    exp = np.exp(diff)\n",
    "    sum_exp = np.sum(exp, axis=1)\n",
    "    probs = (exp.transpose() / sum_exp).transpose()\n",
    "    return probs\n",
    "\n",
    "def softmax_derv(x, y):\n",
    "    mb_size, nom_size = x.shape\n",
    "    derv = np.ndarray([mb_size, nom_size, nom_size])\n",
    "    for n in range(mb_size):\n",
    "        for i in range(nom_size):\n",
    "            for j in range(nom_size):\n",
    "                derv[n, i, j] = -y[n,i] * y[n,j]\n",
    "            derv[n, i, i] += y[n,i]\n",
    "    return derv\n",
    "\n",
    "def softmax_cross_entropy_with_logits(labels, logits):\n",
    "    probs = softmax(logits)\n",
    "    return -np.sum(labels * np.log(probs+1.0e-10), axis=1)\n",
    "\n",
    "def softmax_cross_entropy_with_logits_derv(labels, logits):\n",
    "    return softmax(logits) - labels"
   ]
  },
  {
   "cell_type": "code",
   "execution_count": 14,
   "id": "9faecbe2",
   "metadata": {},
   "outputs": [
    {
     "name": "stdout",
     "output_type": "stream",
     "text": [
      "Epoch 1: loss=16.593, accuracy=0.279/0.271\n",
      "Epoch 2: loss=15.747, accuracy=0.316/0.425\n",
      "Epoch 3: loss=14.603, accuracy=0.366/0.307\n",
      "Epoch 4: loss=15.316, accuracy=0.335/0.315\n",
      "Epoch 5: loss=15.509, accuracy=0.326/0.379\n",
      "Epoch 6: loss=15.479, accuracy=0.328/0.304\n",
      "Epoch 7: loss=15.242, accuracy=0.338/0.315\n",
      "Epoch 8: loss=15.539, accuracy=0.325/0.427\n",
      "Epoch 9: loss=15.301, accuracy=0.335/0.164\n",
      "Epoch 10: loss=15.880, accuracy=0.310/0.205\n",
      "\n",
      "Final Test: final accuracy = 0.205\n"
     ]
    }
   ],
   "source": [
    "steel_exec()"
   ]
  },
  {
   "cell_type": "code",
   "execution_count": 12,
   "id": "9a1873df",
   "metadata": {},
   "outputs": [
    {
     "name": "stdout",
     "output_type": "stream",
     "text": [
      "Epoch 1: loss=16.564, accuracy=0.281/0.248\n",
      "Epoch 2: loss=15.821, accuracy=0.313/0.358\n",
      "Epoch 3: loss=15.687, accuracy=0.319/0.355\n",
      "Epoch 4: loss=15.583, accuracy=0.323/0.419\n",
      "Epoch 5: loss=15.093, accuracy=0.345/0.207\n",
      "Epoch 6: loss=15.152, accuracy=0.342/0.358\n",
      "Epoch 7: loss=15.628, accuracy=0.321/0.419\n",
      "Epoch 8: loss=15.539, accuracy=0.325/0.189\n",
      "Epoch 9: loss=15.539, accuracy=0.325/0.353\n",
      "Epoch 10: loss=15.390, accuracy=0.332/0.435\n",
      "\n",
      "Final Test: final accuracy = 0.435\n"
     ]
    }
   ],
   "source": [
    "LEARNING_RATE = 0.0001\n",
    "steel_exec()"
   ]
  },
  {
   "cell_type": "code",
   "execution_count": null,
   "id": "778686ee",
   "metadata": {},
   "outputs": [],
   "source": []
  }
 ],
 "metadata": {
  "kernelspec": {
   "display_name": "Python 3",
   "language": "python",
   "name": "python3"
  },
  "language_info": {
   "codemirror_mode": {
    "name": "ipython",
    "version": 3
   },
   "file_extension": ".py",
   "mimetype": "text/x-python",
   "name": "python",
   "nbconvert_exporter": "python",
   "pygments_lexer": "ipython3",
   "version": "3.8.8"
  }
 },
 "nbformat": 4,
 "nbformat_minor": 5
}
