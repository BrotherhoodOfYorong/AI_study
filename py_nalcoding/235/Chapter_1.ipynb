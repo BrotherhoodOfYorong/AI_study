{
 "cells": [
  {
   "cell_type": "markdown",
   "id": "859cfb16",
   "metadata": {},
   "source": [
    "# 회귀 분석 : 전복의 고리 수 추정 신경망"
   ]
  },
  {
   "cell_type": "code",
   "execution_count": 1,
   "id": "af63dcf7",
   "metadata": {},
   "outputs": [],
   "source": [
    "# dataset : www.kaggle.com/rodolfomendes/abalone-dataset"
   ]
  },
  {
   "cell_type": "markdown",
   "id": "155c1ad7",
   "metadata": {},
   "source": [
    "### 딥러닝이랑\n",
    "- 문제 풀이에 적합한 파라미터값의 조합을 구하는 것\n",
    "\n",
    "### 퍼셉트론\n",
    "- 입력 벡터로부터 출력 벡터를 얻어내려면, 출력 벡터의 크기의 스칼라 성분만큼 퍼셉트론이 필요\n",
    "\n",
    "### 파라미터\n",
    "- 파라미터 : 학습 과정 중에 끊임없이 변경되어 가면서 퍼셉트론의 동작 특성을 결정하는 값들\n",
    "- 하이퍼파라미터: 에포크 수나 미니배치 크기처럼, 학습 과정에서 변경되지 않으면서 신경망 구조나 학습 결과에 영향을 미치는 고려 요인들\n",
    "\n",
    "### 단층 퍼셉트론\n",
    "- 은닉 계층 없이 출력 계층 하나만으로 구성되는 가장 간단한 신경망 구조\n",
    "\n",
    "### 텐서\n",
    "- 다차원 숫자 배열 정도로만 이해해도 큰 문제 없음\n",
    "- 텐서 종류\n",
    "    - 0차원 : 스칼라\n",
    "    - 1차원 : 벡터\n",
    "    - 2차원 : 행렬\n",
    "    - 3차원 이상도 모두 텐서\n",
    "- 반복문 대신 텐서를 이용해 처리하는 편이 프로그램도 간단하고 처리 속도도 훨씬 빠름\n",
    "- 파이썬 인터프리터가 반복문보다 텐서 연산을 더 효율적으로 처리함\n",
    "\n",
    "### 선형 연산, 비선형 연산\n",
    "- 선형 연산 : 입력 성분의 일차식으로 표현되는 계산 과정\n",
    "- 비선형 연산 : 일차식으로 나타낼 수 없는 계산 과정\n",
    "\n",
    "### 에포크, epoch\n",
    "- 학습 데이터 전체에 대한 한 차례 처리\n",
    "\n",
    "### 신경망의 출력 유형\n",
    "- 회귀 분석\n",
    "- 이진 판단\n",
    "- 선택 분류\n",
    "\n",
    "### 회귀 분석\n",
    "- 옛날 상태로 돌아간다는 뜻\n",
    "- 부모와 자녀 키 사이의 상관관계를 연구하면서 가설을 세웠고, 이 같은 분석 방법을 회귀 분석 이라고 부름\n",
    "- 통계학에서는 연속형 변수 사이의 모형을 구한 뒤, 적합도를 측정하는 분석 방법을 의미\n",
    "\n",
    "### 평균제곱오차, MSE\n",
    "- 얼마나 정확한지 숫자로 보여주는 정량적 지표가 필요\n",
    "- 회귀 분석에서는 보통 평균제곱오차를 평가 지표로 삼음\n",
    "- MSE : 출력 각 성분에 대해 추정값과 정답 사이의 차이인 오차를 제곱한 뒤 모두 합해 전체 성분 수로 나눈 값\n",
    "- 제곱으로 항상 양수\n",
    "- 추정이 정확할 수록 0에 가까움\n",
    "\n",
    "### 손실 함수, loss function\n",
    "- 다음과 같은 성질의 평가 지표를 손실 함수(loss function) 또는 비용 함수(cost function)라고 부름\n",
    "    - 값이 항상 0 이상이며\n",
    "    - 추정이 정확해질수록 값이 작아짐\n",
    "    - 미분 가능\n",
    "- 이를 최소화하는 것을 목표로 학습을 수행\n",
    "- 함수라는 표현이 붙는 이유는 입력이나 신경망의 가중치에 따라 그 값이 달라지기 때문\n",
    "\n",
    "### 경사하강법\n",
    "- 함수의 기울기를 반복 계산하면서 이 기울기에 따라 함숫값이 낮아지는 방향으로 이동하는 기본적인 딥러닝 학습 알고리즘\n",
    "- 딥러닝은 기본적으로 가변 파라미터를 갖는 신경망 구조를 설정한 후 학습을 통해 파라미터 값들을 조절하는 기법\n",
    "- 퍼셉트론에서 파라미터란 가중치와 편향을 의미\n",
    "- 경사하강법은 미니배치 입력 데이터에 대해 순전파와 역전파 과정을 번갈아 수행하는 과정을 반복하면서 신경망 파라미터들을 원하는 방향으로 바꿈\n",
    "\n",
    "### 순전파, 역전파\n",
    "- 순전파(forward propagation) : 입력 데이터에 대해 신경망 구조를 따라가면서 현재 파라미터값들을 이용해 손실 함숫값을 계산하는 과정\n",
    "- 역전파(backward propagation, backpropagation) : 순전파의 계산 과정을 역순으로 거슬러가면서 손실 함숫값에 직간접적으로 영향을 미친 모든 성분에 대하여 손실 기울기를 계산하는 과정\n",
    "\n",
    "### 경사하강법의 한계\n",
    "- 항상 최적의 바닥점에 도달할 수 있다는 보장은 없음\n",
    "- local minimum에 도달하는 문제가 있음\n",
    "- 이를 위한 개선책과 보조 기법들이 제안되고 있음\n",
    "\n",
    "### 학습률\n",
    "- 역전파 과정 중에 가중치나 편향 같은 파라미터 성분에 대해서는 해당 성분의 손실 기울기에 학습률을 곱한 값을 빼줌으로써 그 값을 변경 시킴\n",
    "- 학습률이 너무 작으면 바닥점에 도달하기까지 너무 긴 시간이 필요\n",
    "- 학습률이 너무 크면 바닥점에 도달하지 못한 채 근처를 멤돌게 만들 수 있음\n",
    "- 고정된 학습률 대신 학습 초반에는 큰 학습률을 사용하고 바닥점에 가까워질수록 학습률을 줄이는 기법들이 이용되고 있음\n",
    "\n",
    "### 딥러닝 모델에서 값들\n",
    "- 외부에서 주어지는 값\n",
    "    - input\n",
    "- 파라미터\n",
    "- 각종 중간 계산 결과\n",
    "- 하이퍼파라미터\n",
    "\n",
    "### one-hot vector\n",
    "- 비선형 정보를 항목별로 분할하여 해당 항목은 1, 나머지는 0으로 나타내는 방식\n",
    "- 순서 관계나 값의 크기에 선형적 의미를 찾을 수 없을때 사용"
   ]
  },
  {
   "cell_type": "code",
   "execution_count": 4,
   "id": "ffdc2e8a",
   "metadata": {},
   "outputs": [],
   "source": [
    "import numpy as np\n",
    "import csv\n",
    "import time\n"
   ]
  },
  {
   "cell_type": "code",
   "execution_count": 3,
   "id": "08f5a6a3",
   "metadata": {},
   "outputs": [],
   "source": [
    "np.random.seed(1234)\n",
    "def randomize(): np.random.seed(time.time())\n",
    "\n",
    "RND_MEAN = 0\n",
    "RND_STD = 0.0030\n",
    "\n",
    "LEARNING_RATE = 0.001"
   ]
  },
  {
   "cell_type": "code",
   "execution_count": 5,
   "id": "9c5eebd5",
   "metadata": {},
   "outputs": [],
   "source": [
    "def load_abalone_dataset():\n",
    "    with open('../jch/chap01/abalone.csv') as csvfile:\n",
    "        csvreader = csv.reader(csvfile)\n",
    "        next(csvreader, None)\n",
    "        rows = []\n",
    "        for row in csvreader:\n",
    "            rows.append(row)\n",
    "            \n",
    "    global data, input_cnt, output_cnt\n",
    "    input_cnt, output_cnt = 10, 1\n",
    "    data = np.zeros([len(rows), input_cnt+output_cnt])\n",
    "\n",
    "    for n, row in enumerate(rows):\n",
    "        if row[0] == 'I': data[n, 0] = 1\n",
    "        if row[0] == 'M': data[n, 1] = 1\n",
    "        if row[0] == 'F': data[n, 2] = 1\n",
    "        data[n, 3:] = row[1:]"
   ]
  },
  {
   "cell_type": "code",
   "execution_count": 6,
   "id": "172bca14",
   "metadata": {},
   "outputs": [],
   "source": [
    "def abalone_exec(epoch_count=10, mb_size=10, report=1):\n",
    "    load_abalone_dataset()\n",
    "    init_model()\n",
    "    train_and_test(epoch_count, mb_size, report)"
   ]
  },
  {
   "cell_type": "code",
   "execution_count": 7,
   "id": "6a4bbb9e",
   "metadata": {},
   "outputs": [],
   "source": [
    "def init_model():\n",
    "    global weight, bias, input_cnt, output_cnt\n",
    "    weight = np.random.normal(RND_MEAN, RND_STD,[input_cnt, output_cnt])\n",
    "    bias = np.zeros([output_cnt])"
   ]
  },
  {
   "cell_type": "code",
   "execution_count": 8,
   "id": "16aa90e3",
   "metadata": {},
   "outputs": [],
   "source": [
    "def train_and_test(epoch_count, mb_size, report):\n",
    "    step_count = arrange_data(mb_size)\n",
    "    test_x, test_y = get_test_data()\n",
    "    \n",
    "    for epoch in range(epoch_count):\n",
    "        losses, accs = [], []\n",
    "        \n",
    "        for n in range(step_count):\n",
    "            train_x, train_y = get_train_data(mb_size, n)\n",
    "            loss, acc = run_train(train_x, train_y)\n",
    "            losses.append(loss)\n",
    "            accs.append(acc)\n",
    "            \n",
    "        if report > 0 and (epoch+1) % report == 0:\n",
    "            acc = run_test(test_x, test_y)\n",
    "            print('Epoch {}: loss={:5.3f}, accuracy={:5.3f}/{:5.3f}'. \\\n",
    "                  format(epoch+1, np.mean(losses), np.mean(accs), acc))\n",
    "            \n",
    "    final_acc = run_test(test_x, test_y)\n",
    "    print('\\nFinal Test: final accuracy = {:5.3f}'.format(final_acc))"
   ]
  },
  {
   "cell_type": "code",
   "execution_count": 9,
   "id": "dbbb89e7",
   "metadata": {},
   "outputs": [],
   "source": [
    "def arrange_data(mb_size):\n",
    "    global data, shuffle_map, test_begin_idx\n",
    "    shuffle_map = np.arange(data.shape[0])\n",
    "    np.random.shuffle(shuffle_map)\n",
    "    step_count = int(data.shape[0] * 0.8) // mb_size\n",
    "    test_begin_idx = step_count * mb_size\n",
    "    return step_count\n",
    "\n",
    "def get_test_data():\n",
    "    global data, shuffle_map, test_begin_idx, output_cnt\n",
    "    test_data = data[shuffle_map[test_begin_idx:]]\n",
    "    return test_data[:, :-output_cnt], test_data[:, -output_cnt:]\n",
    "\n",
    "def get_train_data(mb_size, nth):\n",
    "    global data, shuffle_map, test_begin_idx, output_cnt\n",
    "    if nth == 0:\n",
    "        np.random.shuffle(shuffle_map[:test_begin_idx])\n",
    "    train_data = data[shuffle_map[mb_size*nth:mb_size*(nth+1)]]\n",
    "    return train_data[:, :-output_cnt], train_data[:, -output_cnt:]"
   ]
  },
  {
   "cell_type": "code",
   "execution_count": 10,
   "id": "3f99a108",
   "metadata": {},
   "outputs": [],
   "source": [
    "def run_train(x, y):\n",
    "    output, aux_nn = forward_neuralnet(x)\n",
    "    loss, aux_pp = forward_postproc(output, y)\n",
    "    accuracy = eval_accuracy(output, y)\n",
    "    \n",
    "    G_loss = 1.0\n",
    "    G_output = backprop_postproc(G_loss, aux_pp)\n",
    "    backprop_neuralnet(G_output, aux_nn)\n",
    "    \n",
    "    return loss, accuracy\n",
    "\n",
    "def run_test(x, y):\n",
    "    output, _ = forward_neuralnet(x)\n",
    "    accuracy = eval_accuracy(output, y)\n",
    "    return accuracy"
   ]
  },
  {
   "cell_type": "code",
   "execution_count": 11,
   "id": "391ecf72",
   "metadata": {},
   "outputs": [],
   "source": [
    "def forward_neuralnet(x):\n",
    "    global weight, bias\n",
    "    output = np.matmul(x, weight) + bias\n",
    "    return output, x\n",
    "\n",
    "def backprop_neuralnet(G_output, x):\n",
    "    global weight, bias\n",
    "    g_output_w = x.transpose()\n",
    "    \n",
    "    G_w = np.matmul(g_output_w, G_output)\n",
    "    G_b = np.sum(G_output, axis=0)\n",
    "\n",
    "    weight -= LEARNING_RATE * G_w\n",
    "    bias -= LEARNING_RATE * G_b"
   ]
  },
  {
   "cell_type": "code",
   "execution_count": 12,
   "id": "2476c8e0",
   "metadata": {},
   "outputs": [],
   "source": [
    "def forward_postproc(output, y):\n",
    "    diff = output - y\n",
    "    square = np.square(diff)\n",
    "    loss = np.mean(square)\n",
    "    return loss, diff\n",
    "\n",
    "def backprop_postproc(G_loss, diff):\n",
    "    shape = diff.shape\n",
    "    \n",
    "    g_loss_square = np.ones(shape) / np.prod(shape)\n",
    "    g_square_diff = 2 * diff\n",
    "    g_diff_output = 1\n",
    "\n",
    "    G_square = g_loss_square * G_loss\n",
    "    G_diff = g_square_diff * G_square\n",
    "    G_output = g_diff_output * G_diff\n",
    "    \n",
    "    return G_output"
   ]
  },
  {
   "cell_type": "code",
   "execution_count": 13,
   "id": "d2b23d4a",
   "metadata": {},
   "outputs": [],
   "source": [
    "def eval_accuracy(output, y):\n",
    "    mdiff = np.mean(np.abs((output - y)/y))\n",
    "    return 1 - mdiff"
   ]
  },
  {
   "cell_type": "code",
   "execution_count": 14,
   "id": "76bf5f53",
   "metadata": {},
   "outputs": [],
   "source": [
    "def backprop_postproc_oneline(G_loss, diff):  # backprop_postproc() 대신 사용 가능\n",
    "    return 2 * diff / np.prod(diff.shape)"
   ]
  },
  {
   "cell_type": "code",
   "execution_count": null,
   "id": "8a2ade67",
   "metadata": {},
   "outputs": [],
   "source": []
  },
  {
   "cell_type": "code",
   "execution_count": null,
   "id": "4b9c1630",
   "metadata": {},
   "outputs": [],
   "source": []
  },
  {
   "cell_type": "code",
   "execution_count": null,
   "id": "e34d076c",
   "metadata": {},
   "outputs": [],
   "source": []
  },
  {
   "cell_type": "code",
   "execution_count": 15,
   "id": "a388ae6c",
   "metadata": {},
   "outputs": [
    {
     "name": "stdout",
     "output_type": "stream",
     "text": [
      "Epoch 1: loss=33.875, accuracy=0.557/0.812\n",
      "Epoch 2: loss=8.226, accuracy=0.820/0.814\n",
      "Epoch 3: loss=7.582, accuracy=0.812/0.809\n",
      "Epoch 4: loss=7.475, accuracy=0.808/0.811\n",
      "Epoch 5: loss=7.395, accuracy=0.810/0.809\n",
      "Epoch 6: loss=7.328, accuracy=0.808/0.810\n",
      "Epoch 7: loss=7.269, accuracy=0.808/0.811\n",
      "Epoch 8: loss=7.217, accuracy=0.808/0.812\n",
      "Epoch 9: loss=7.175, accuracy=0.810/0.810\n",
      "Epoch 10: loss=7.135, accuracy=0.809/0.810\n",
      "\n",
      "Final Test: final accuracy = 0.810\n"
     ]
    }
   ],
   "source": [
    "abalone_exec()"
   ]
  },
  {
   "cell_type": "code",
   "execution_count": 16,
   "id": "8392462b",
   "metadata": {},
   "outputs": [
    {
     "name": "stdout",
     "output_type": "stream",
     "text": [
      "[[1.02697603]\n",
      " [1.47450981]\n",
      " [1.66960135]\n",
      " [2.04468668]\n",
      " [1.62513525]\n",
      " [0.60292627]\n",
      " [2.39993815]\n",
      " [0.54107313]\n",
      " [0.46878034]\n",
      " [1.01969382]]\n",
      "[4.16894769]\n"
     ]
    }
   ],
   "source": [
    "print(weight)\n",
    "print(bias)"
   ]
  },
  {
   "cell_type": "code",
   "execution_count": 17,
   "id": "3b0badcd",
   "metadata": {},
   "outputs": [
    {
     "name": "stdout",
     "output_type": "stream",
     "text": [
      "Epoch 20: loss=5.804, accuracy=0.825/0.831\n",
      "Epoch 40: loss=5.259, accuracy=0.834/0.828\n",
      "Epoch 60: loss=5.056, accuracy=0.837/0.838\n",
      "Epoch 80: loss=4.950, accuracy=0.838/0.840\n",
      "Epoch 100: loss=4.910, accuracy=0.840/0.826\n",
      "\n",
      "Final Test: final accuracy = 0.826\n"
     ]
    }
   ],
   "source": [
    "LEARNING_RATE = 0.1\n",
    "abalone_exec(epoch_count=100, mb_size=100, report=20)"
   ]
  },
  {
   "cell_type": "code",
   "execution_count": null,
   "id": "bf9ca587",
   "metadata": {},
   "outputs": [],
   "source": []
  }
 ],
 "metadata": {
  "kernelspec": {
   "display_name": "Python 3",
   "language": "python",
   "name": "python3"
  },
  "language_info": {
   "codemirror_mode": {
    "name": "ipython",
    "version": 3
   },
   "file_extension": ".py",
   "mimetype": "text/x-python",
   "name": "python",
   "nbconvert_exporter": "python",
   "pygments_lexer": "ipython3",
   "version": "3.8.8"
  }
 },
 "nbformat": 4,
 "nbformat_minor": 5
}
