{
 "cells": [
  {
   "cell_type": "markdown",
   "id": "e21f65a8",
   "metadata": {},
   "source": [
    "# 이진 판단: 천체의 펄서 여부 판정 신경망"
   ]
  },
  {
   "cell_type": "code",
   "execution_count": 11,
   "id": "1e8df11f",
   "metadata": {},
   "outputs": [],
   "source": [
    "# dataset : www.kaggle.com/pavanraj159/predicting-a-pulsar-star\n",
    "# explanation : https://towering-payment-a36.notion.site/Chapter2-8d957bb3746d4bdd873eeca35f718303"
   ]
  },
  {
   "cell_type": "code",
   "execution_count": 12,
   "id": "b448b28a",
   "metadata": {},
   "outputs": [
    {
     "name": "stdout",
     "output_type": "stream",
     "text": [
      "Epoch 1: loss=33.875, accuracy=0.557/0.812\n",
      "Epoch 2: loss=8.226, accuracy=0.820/0.814\n",
      "Epoch 3: loss=7.582, accuracy=0.812/0.809\n",
      "Epoch 4: loss=7.475, accuracy=0.808/0.811\n",
      "Epoch 5: loss=7.395, accuracy=0.810/0.809\n",
      "Epoch 6: loss=7.328, accuracy=0.808/0.810\n",
      "Epoch 7: loss=7.269, accuracy=0.808/0.811\n",
      "Epoch 8: loss=7.217, accuracy=0.808/0.812\n",
      "Epoch 9: loss=7.175, accuracy=0.810/0.810\n",
      "Epoch 10: loss=7.135, accuracy=0.809/0.810\n",
      "\n",
      "Final Test: final accuracy = 0.810\n",
      "[[1.02697603]\n",
      " [1.47450981]\n",
      " [1.66960135]\n",
      " [2.04468668]\n",
      " [1.62513525]\n",
      " [0.60292627]\n",
      " [2.39993815]\n",
      " [0.54107313]\n",
      " [0.46878034]\n",
      " [1.01969382]]\n",
      "[4.16894769]\n",
      "Epoch 20: loss=5.804, accuracy=0.825/0.831\n",
      "Epoch 40: loss=5.259, accuracy=0.834/0.828\n",
      "Epoch 60: loss=5.056, accuracy=0.837/0.838\n",
      "Epoch 80: loss=4.950, accuracy=0.838/0.840\n",
      "Epoch 100: loss=4.910, accuracy=0.840/0.826\n",
      "\n",
      "Final Test: final accuracy = 0.826\n"
     ]
    }
   ],
   "source": [
    "%run Chapter_1.ipynb"
   ]
  },
  {
   "cell_type": "markdown",
   "id": "6694c214",
   "metadata": {},
   "source": [
    "## 구현 순서\n",
    "- 메인 함수 정의\n",
    "- 데이터 적재 함수 정의\n",
    "- 이진 판단 후처리를 위한 순전파 및 역전파 함수 재정의\n",
    "- 정확도 계산함수 재정의\n",
    "- 시그모이드 관련 함수 정의"
   ]
  },
  {
   "cell_type": "code",
   "execution_count": 13,
   "id": "e589e028",
   "metadata": {},
   "outputs": [],
   "source": [
    "def pulsar_exec(epoch_count=10, mb_size=10, report=1):\n",
    "    load_pulsar_dataset()\n",
    "    init_model()\n",
    "    train_and_test(epoch_count, mb_size, report)\n",
    "    \n",
    "def load_pulsar_dataset():\n",
    "    with open('../jch/chap02/pulsar_stars.csv') as csvfile:\n",
    "        csvreader = csv.reader(csvfile)\n",
    "        next(csvreader, None)\n",
    "        rows = []\n",
    "        for row in csvreader:\n",
    "            rows.append(row)\n",
    "            \n",
    "    global data, input_cnt, output_cnt\n",
    "    input_cnt, output_cnt = 8, 1\n",
    "    data = np.asarray(rows, dtype='float32')\n",
    "    \n",
    "def forward_postproc(output, y):\n",
    "    entropy = sigmoid_cross_entropy_with_logits(y, output)\n",
    "    loss = np.mean(entropy)\n",
    "    return loss, [y, output, entropy]\n",
    "\n",
    "def backprop_postproc(G_loss, aux):\n",
    "    y, output, entropy = aux\n",
    "    \n",
    "    g_loss_entropy = 1.0 / np.prod(entropy.shape)\n",
    "    g_entropy_output = sigmoid_cross_entropy_with_logits_derv(y, output)    \n",
    "    \n",
    "    G_entropy = g_loss_entropy * G_loss\n",
    "    G_output = g_entropy_output * G_entropy\n",
    "    \n",
    "    return G_output\n",
    "\n",
    "def eval_accuracy(output, y):\n",
    "    estimate = np.greater(output, 0)\n",
    "    answer = np.greater(y, 0.5)\n",
    "    correct = np.equal(estimate, answer)\n",
    "    \n",
    "    return np.mean(correct)\n",
    "\n",
    "def relu(x):\n",
    "    return np.maximum(x, 0)\n",
    "\n",
    "def sigmoid(x):\n",
    "    return np.exp(-relu(-x)) / (1.0 + np.exp(-np.abs(x)))\n",
    "        \n",
    "def sigmoid_derv(x, y):\n",
    "    return y * (1 - y)\n",
    "\n",
    "def sigmoid_cross_entropy_with_logits(z, x):\n",
    "    return relu(x) - x * z + np.log(1 + np.exp(-np.abs(x)))\n",
    "\n",
    "def sigmoid_cross_entropy_with_logits_derv(z, x):\n",
    "    return -z + sigmoid(x)"
   ]
  },
  {
   "cell_type": "code",
   "execution_count": 16,
   "id": "e3686264",
   "metadata": {},
   "outputs": [],
   "source": [
    "def pulsar_exec(epoch_count=10, mb_size=10, report=1, adjust_ratio=False):\n",
    "    load_pulsar_dataset(adjust_ratio)\n",
    "    init_model()\n",
    "    train_and_test(epoch_count, mb_size, report)\n",
    "    \n",
    "def load_pulsar_dataset(adjust_ratio):\n",
    "    pulsars, stars = [], []\n",
    "    with open('../jch/chap02/pulsar_stars.csv') as csvfile:\n",
    "        csvreader = csv.reader(csvfile)\n",
    "        next(csvreader, None)\n",
    "        rows = []\n",
    "        for row in csvreader:\n",
    "            if row[8] == '1': pulsars.append(row)\n",
    "            else: stars.append(row)\n",
    "            \n",
    "    global data, input_cnt, output_cnt\n",
    "    input_cnt, output_cnt = 8, 1\n",
    "    \n",
    "    star_cnt, pulsar_cnt = len(stars), len(pulsars)\n",
    "\n",
    "    if adjust_ratio:\n",
    "        data = np.zeros([2*star_cnt, 9])\n",
    "        data[0:star_cnt, :] = np.asarray(stars, dtype='float32')\n",
    "        for n in range(star_cnt):\n",
    "            data[star_cnt+n] = np.asarray(pulsars[n % pulsar_cnt], dtype='float32')\n",
    "    else:\n",
    "        data = np.zeros([star_cnt+pulsar_cnt, 9])\n",
    "        data[0:star_cnt, :] = np.asarray(stars, dtype='float32')\n",
    "        data[star_cnt:, :] = np.asarray(pulsars, dtype='float32')\n",
    "        \n",
    "def eval_accuracy(output, y):\n",
    "    est_yes = np.greater(output, 0)\n",
    "    ans_yes = np.greater(y, 0.5)\n",
    "    est_no = np.logical_not(est_yes)\n",
    "    ans_no = np.logical_not(ans_yes)\n",
    "    \n",
    "    tp = np.sum(np.logical_and(est_yes, ans_yes))\n",
    "    fp = np.sum(np.logical_and(est_yes, ans_no))\n",
    "    fn = np.sum(np.logical_and(est_no, ans_yes))\n",
    "    tn = np.sum(np.logical_and(est_no, ans_no))\n",
    "    \n",
    "    accuracy = safe_div(tp+tn, tp+tn+fp+fn)\n",
    "    precision = safe_div(tp, tp+fp)\n",
    "    recall = safe_div(tp, tp+fn)\n",
    "    f1 = 2 * safe_div(recall*precision, recall+precision)\n",
    "    \n",
    "    return [accuracy, precision, recall, f1]\n",
    "\n",
    "def safe_div(p, q):\n",
    "    p, q = float(p), float(q)\n",
    "    if np.abs(q) < 1.0e-20: return np.sign(p)\n",
    "    return p / q\n",
    "\n",
    "def train_and_test(epoch_count, mb_size, report):\n",
    "    step_count = arrange_data(mb_size)\n",
    "    test_x, test_y = get_test_data()\n",
    "    \n",
    "    for epoch in range(epoch_count):\n",
    "        losses = []\n",
    "        \n",
    "        for n in range(step_count):\n",
    "            train_x, train_y = get_train_data(mb_size, n)\n",
    "            loss, _ = run_train(train_x, train_y)\n",
    "            losses.append(loss)\n",
    "            \n",
    "        if report > 0 and (epoch+1) % report == 0:\n",
    "            acc = run_test(test_x, test_y)\n",
    "            acc_str = ','.join(['%5.3f']*4) % tuple(acc)\n",
    "            print('Epoch {}: loss={:5.3f}, result={}'. \\\n",
    "                  format(epoch+1, np.mean(losses), acc_str))\n",
    "            \n",
    "    acc = run_test(test_x, test_y)\n",
    "    acc_str = ','.join(['%5.3f']*4) % tuple(acc)\n",
    "    print('\\nFinal Test: final result = {}'.format(acc_str))"
   ]
  },
  {
   "cell_type": "code",
   "execution_count": 17,
   "id": "a53f55df",
   "metadata": {},
   "outputs": [
    {
     "name": "stdout",
     "output_type": "stream",
     "text": [
      "Epoch 1: loss=14.104, result=0.932,0.591,0.869,0.704\n",
      "Epoch 2: loss=12.449, result=0.973,0.958,0.746,0.839\n",
      "Epoch 3: loss=11.660, result=0.973,0.951,0.752,0.840\n",
      "Epoch 4: loss=10.214, result=0.948,0.675,0.851,0.753\n",
      "Epoch 5: loss=12.217, result=0.953,0.994,0.504,0.669\n",
      "Epoch 6: loss=11.340, result=0.970,0.857,0.821,0.838\n",
      "Epoch 7: loss=11.239, result=0.961,0.758,0.860,0.806\n",
      "Epoch 8: loss=10.970, result=0.972,0.968,0.722,0.827\n",
      "Epoch 9: loss=11.369, result=0.970,0.838,0.836,0.837\n",
      "Epoch 10: loss=10.798, result=0.949,1.000,0.451,0.621\n",
      "\n",
      "Final Test: final result = 0.949,1.000,0.451,0.621\n"
     ]
    }
   ],
   "source": [
    "pulsar_exec()"
   ]
  },
  {
   "cell_type": "code",
   "execution_count": 18,
   "id": "fad18a99",
   "metadata": {},
   "outputs": [
    {
     "name": "stdout",
     "output_type": "stream",
     "text": [
      "Epoch 1: loss=41.395, result=0.850,0.996,0.709,0.828\n",
      "Epoch 2: loss=37.350, result=0.916,0.925,0.909,0.917\n",
      "Epoch 3: loss=37.621, result=0.886,0.855,0.936,0.893\n",
      "Epoch 4: loss=35.285, result=0.516,0.513,1.000,0.678\n",
      "Epoch 5: loss=34.152, result=0.908,0.990,0.829,0.902\n",
      "Epoch 6: loss=33.929, result=0.916,0.919,0.916,0.917\n",
      "Epoch 7: loss=33.684, result=0.918,0.982,0.856,0.914\n",
      "Epoch 8: loss=36.195, result=0.925,0.967,0.883,0.923\n",
      "Epoch 9: loss=34.916, result=0.853,0.798,0.953,0.869\n",
      "Epoch 10: loss=37.392, result=0.876,0.831,0.951,0.887\n",
      "\n",
      "Final Test: final result = 0.876,0.831,0.951,0.887\n"
     ]
    }
   ],
   "source": [
    "pulsar_exec(adjust_ratio=True)"
   ]
  },
  {
   "cell_type": "code",
   "execution_count": 19,
   "id": "b837fbe3",
   "metadata": {},
   "outputs": [
    {
     "name": "stdout",
     "output_type": "stream",
     "text": [
      "Epoch 1: loss=-4005.318, result=1.000,1.000,1.000,1.000\n",
      "Epoch 2: loss=-12038.183, result=1.000,1.000,1.000,1.000\n",
      "Epoch 3: loss=-20070.984, result=1.000,1.000,1.000,1.000\n",
      "Epoch 4: loss=-28103.800, result=1.000,1.000,1.000,1.000\n",
      "Epoch 5: loss=-36136.732, result=1.000,1.000,1.000,1.000\n",
      "Epoch 6: loss=-44169.581, result=1.000,1.000,1.000,1.000\n",
      "Epoch 7: loss=-52202.471, result=1.000,1.000,1.000,1.000\n",
      "Epoch 8: loss=-60235.356, result=1.000,1.000,1.000,1.000\n",
      "Epoch 9: loss=-68268.149, result=1.000,1.000,1.000,1.000\n",
      "Epoch 10: loss=-76301.046, result=1.000,1.000,1.000,1.000\n",
      "\n",
      "Final Test: final result = 1.000,1.000,1.000,1.000\n"
     ]
    }
   ],
   "source": [
    "abalone_exec()"
   ]
  },
  {
   "cell_type": "code",
   "execution_count": null,
   "id": "b7229a2e",
   "metadata": {},
   "outputs": [],
   "source": []
  }
 ],
 "metadata": {
  "kernelspec": {
   "display_name": "Python 3",
   "language": "python",
   "name": "python3"
  },
  "language_info": {
   "codemirror_mode": {
    "name": "ipython",
    "version": 3
   },
   "file_extension": ".py",
   "mimetype": "text/x-python",
   "name": "python",
   "nbconvert_exporter": "python",
   "pygments_lexer": "ipython3",
   "version": "3.8.8"
  }
 },
 "nbformat": 4,
 "nbformat_minor": 5
}
