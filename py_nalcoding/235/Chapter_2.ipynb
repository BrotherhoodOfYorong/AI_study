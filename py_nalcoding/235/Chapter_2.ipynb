{
 "cells": [
  {
   "cell_type": "markdown",
   "id": "e21f65a8",
   "metadata": {},
   "source": [
    "# 이진 판단: 천체의 펄서 여부 판정 신경망"
   ]
  },
  {
   "cell_type": "code",
   "execution_count": 3,
   "id": "1e8df11f",
   "metadata": {},
   "outputs": [],
   "source": [
    "# dataset : www.kaggle.com/pavanraj159/predicting-a-pulsar-star\n",
    "# explanation : https://towering-payment-a36.notion.site/Chapter2-8d957bb3746d4bdd873eeca35f718303"
   ]
  },
  {
   "cell_type": "code",
   "execution_count": 17,
   "id": "b448b28a",
   "metadata": {},
   "outputs": [],
   "source": [
    "import numpy as np\n",
    "import csv"
   ]
  },
  {
   "cell_type": "code",
   "execution_count": 18,
   "id": "05135cf2",
   "metadata": {},
   "outputs": [],
   "source": [
    "def sigmoid(x):\n",
    "    return 1.0 / (1.0 + np.exp(-x))"
   ]
  },
  {
   "cell_type": "code",
   "execution_count": 19,
   "id": "6096d27d",
   "metadata": {},
   "outputs": [
    {
     "name": "stdout",
     "output_type": "stream",
     "text": [
      "0.7310585786300049\n",
      "0.0\n"
     ]
    },
    {
     "name": "stderr",
     "output_type": "stream",
     "text": [
      "<ipython-input-18-58db7051c8a7>:2: RuntimeWarning: overflow encountered in exp\n",
      "  return 1.0 / (1.0 + np.exp(-x))\n"
     ]
    }
   ],
   "source": [
    "print(sigmoid(1.0))\n",
    "print(sigmoid(-1000.0))"
   ]
  },
  {
   "cell_type": "markdown",
   "id": "6694c214",
   "metadata": {},
   "source": [
    "## 구현 순서\n",
    "- 메인 함수 정의\n",
    "- 데이터 적재 함수 정의\n",
    "- 이진 판단 후처리를 위한 순전파 및 역전파 함수 재정의\n",
    "- 정확도 계산함수 재정의\n",
    "- 시그모이드 관련 함수 정의"
   ]
  },
  {
   "cell_type": "code",
   "execution_count": 20,
   "id": "e589e028",
   "metadata": {},
   "outputs": [],
   "source": [
    "RND_MEAN = 0\n",
    "RND_STD = 0.0030\n",
    "\n",
    "LEARNING_RATE = 0.001\n",
    "\n",
    "\n",
    "def init_model():\n",
    "    global weight, bias, input_cnt, output_cnt\n",
    "    weight = np.random.normal(RND_MEAN, RND_STD,[input_cnt, output_cnt])\n",
    "    bias = np.zeros([output_cnt])\n",
    "\n",
    "\n",
    "def train_and_test(epoch_count, mb_size, report):\n",
    "    step_count = arrange_data(mb_size)\n",
    "    test_x, test_y = get_test_data()\n",
    "    \n",
    "    for epoch in range(epoch_count):\n",
    "        losses, accs = [], []\n",
    "        \n",
    "        for n in range(step_count):\n",
    "            train_x, train_y = get_train_data(mb_size, n)\n",
    "            loss, acc = run_train(train_x, train_y)\n",
    "            losses.append(loss)\n",
    "            accs.append(acc)\n",
    "            \n",
    "        if report > 0 and (epoch+1) % report == 0:\n",
    "            acc = run_test(test_x, test_y)\n",
    "            print('Epoch {}: loss={:5.3f}, accuracy={:5.3f}/{:5.3f}'. \\\n",
    "                  format(epoch+1, np.mean(losses), np.mean(accs), acc))\n",
    "            \n",
    "    final_acc = run_test(test_x, test_y)\n",
    "    print('\\nFinal Test: final accuracy = {:5.3f}'.format(final_acc))\n",
    "    \n",
    "def arrange_data(mb_size):\n",
    "    global data, shuffle_map, test_begin_idx\n",
    "    shuffle_map = np.arange(data.shape[0])\n",
    "    np.random.shuffle(shuffle_map)\n",
    "    step_count = int(data.shape[0] * 0.8) // mb_size\n",
    "    test_begin_idx = step_count * mb_size\n",
    "    return step_count\n",
    "\n",
    "def get_test_data():\n",
    "    global data, shuffle_map, test_begin_idx, output_cnt\n",
    "    test_data = data[shuffle_map[test_begin_idx:]]\n",
    "    return test_data[:, :-output_cnt], test_data[:, -output_cnt:]\n",
    "\n",
    "def get_train_data(mb_size, nth):\n",
    "    global data, shuffle_map, test_begin_idx, output_cnt\n",
    "    if nth == 0:\n",
    "        np.random.shuffle(shuffle_map[:test_begin_idx])\n",
    "    train_data = data[shuffle_map[mb_size*nth:mb_size*(nth+1)]]\n",
    "    return train_data[:, :-output_cnt], train_data[:, -output_cnt:]\n",
    "\n",
    "def run_train(x, y):\n",
    "    output, aux_nn = forward_neuralnet(x)\n",
    "    loss, aux_pp = forward_postproc(output, y)\n",
    "    accuracy = eval_accuracy(output, y)\n",
    "    \n",
    "    G_loss = 1.0\n",
    "    G_output = backprop_postproc(G_loss, aux_pp)\n",
    "    backprop_neuralnet(G_output, aux_nn)\n",
    "    \n",
    "    return loss, accuracy\n",
    "\n",
    "def run_test(x, y):\n",
    "    output, _ = forward_neuralnet(x)\n",
    "    accuracy = eval_accuracy(output, y)\n",
    "    return accuracy\n",
    "\n",
    "def forward_neuralnet(x):\n",
    "    global weight, bias\n",
    "    output = np.matmul(x, weight) + bias\n",
    "    return output, x\n",
    "\n",
    "def backprop_neuralnet(G_output, x):\n",
    "    global weight, bias\n",
    "    g_output_w = x.transpose()\n",
    "    \n",
    "    G_w = np.matmul(g_output_w, G_output)\n",
    "    G_b = np.sum(G_output, axis=0)\n",
    "\n",
    "    weight -= LEARNING_RATE * G_w\n",
    "    bias -= LEARNING_RATE * G_b"
   ]
  },
  {
   "cell_type": "code",
   "execution_count": 33,
   "id": "cb82ffda",
   "metadata": {},
   "outputs": [],
   "source": [
    "def pulsar_exec(epoch_count=10, mb_size=10, report=1):\n",
    "    load_pulsar_dataset()\n",
    "    init_model()\n",
    "    train_and_test(epoch_count, mb_size, report)\n",
    "\n",
    "    \n",
    "def load_pulsar_dataset():\n",
    "    with open('../jch/chap02/pulsar_stars.csv') as csvfile:\n",
    "        csvreader = csv.reader(csvfile)\n",
    "        next(csvreader, None)\n",
    "        rows = []\n",
    "        for row in csvreader:\n",
    "            rows.append(row)\n",
    "            \n",
    "    global data, input_cnt, output_cnt\n",
    "    input_cnt, output_cnt = 8, 1\n",
    "    data = np.asarray(rows, dtype='float32')\n",
    "       \n",
    "        \n",
    "def forward_postproc(output, y):\n",
    "    entropy = sigmoid_cross_entropy_with_logits(y, output)\n",
    "    loss = np.mean(entropy)\n",
    "    return loss, [y, output, entropy]\n",
    "\n",
    "\n",
    "def backprop_postproc(G_loss, aux):\n",
    "    y, output, entropy = aux\n",
    "    \n",
    "    g_loss_entropy = 1.0 / np.prod(entropy.shape)\n",
    "    g_entropy_output = sigmoid_cross_entropy_with_logits_derv(y, output)\n",
    "    \n",
    "    G_entropy = g_loss_entropy * G_loss\n",
    "    G_output = g_entropy_output * G_entropy\n",
    "    \n",
    "    return G_output\n",
    "\n",
    "\n",
    "def sigmoid_cross_entropy_with_logits(z, x):\n",
    "    return relu(x) - x * z + np.log(1 + np.exp(-np.abs(x)))\n",
    "\n",
    "\n",
    "def sigmoid_cross_entropy_with_logits_derv(z, x):\n",
    "    return -z + sigmoid(x)\n",
    "\n",
    "\n",
    "def eval_accuracy(output, y):\n",
    "    estimate = np.greater(output, 0)\n",
    "    answer = np.greater(y, 0.5)\n",
    "    correct = np.equal(estimate, answer)\n",
    "    \n",
    "    return np.mean(correct)\n",
    "\n",
    "\n",
    "def relu(x):\n",
    "    return np.maximum(x, 0)\n",
    "\n",
    "\n",
    "def sigmoid(x):\n",
    "    return np.exp(-relu(-x)) / (1.0 + np.exp(-np.abs(x)))\n",
    "        \n",
    "    \n",
    "def sigmoid_derv(x, y):\n",
    "    return y * (1 - y)\n",
    "\n",
    "\n",
    "def sigmoid_cross_entropy_with_logits(z, x):\n",
    "    return relu(x) - x * z + np.log(1 + np.exp(-np.abs(x)))\n",
    "\n",
    "\n",
    "def sigmoid_cross_entropy_with_logits_derv(z, x):\n",
    "    return -z + sigmoid(x)"
   ]
  },
  {
   "cell_type": "code",
   "execution_count": 34,
   "id": "4a3d2081",
   "metadata": {},
   "outputs": [
    {
     "name": "stdout",
     "output_type": "stream",
     "text": [
      "Epoch 1: loss=0.134, accuracy=0.962/0.963\n",
      "Epoch 2: loss=0.129, accuracy=0.967/0.972\n",
      "Epoch 3: loss=0.124, accuracy=0.967/0.971\n",
      "Epoch 4: loss=0.127, accuracy=0.968/0.968\n",
      "Epoch 5: loss=0.134, accuracy=0.967/0.975\n",
      "Epoch 6: loss=0.130, accuracy=0.967/0.974\n",
      "Epoch 7: loss=0.129, accuracy=0.969/0.972\n",
      "Epoch 8: loss=0.120, accuracy=0.968/0.975\n",
      "Epoch 9: loss=0.126, accuracy=0.969/0.975\n",
      "Epoch 10: loss=0.130, accuracy=0.969/0.957\n",
      "\n",
      "Final Test: final accuracy = 0.957\n"
     ]
    }
   ],
   "source": [
    "pulsar_exec()"
   ]
  },
  {
   "cell_type": "code",
   "execution_count": 35,
   "id": "3b231f64",
   "metadata": {},
   "outputs": [
    {
     "data": {
      "text/plain": [
       "array([[140.5625    ,  55.68378   ,  -0.23457141, ...,   7.9755316 ,\n",
       "         74.242226  ,   0.        ],\n",
       "       [102.50781   ,  58.88243   ,   0.46531814, ...,  10.576487  ,\n",
       "        127.39358   ,   0.        ],\n",
       "       [103.015625  ,  39.34165   ,   0.32332838, ...,   7.735822  ,\n",
       "         63.17191   ,   0.        ],\n",
       "       ...,\n",
       "       [119.33594   ,  59.93594   ,   0.1593631 , ...,   2.4995172 ,\n",
       "          4.595173  ,   0.        ],\n",
       "       [114.50781   ,  53.9024    ,   0.20116138, ...,  10.007967  ,\n",
       "        134.2389    ,   0.        ],\n",
       "       [ 57.0625    ,  85.79734   ,   1.406391  , ...,  -1.5975266 ,\n",
       "          1.4294753 ,   0.        ]], dtype=float32)"
      ]
     },
     "execution_count": 35,
     "metadata": {},
     "output_type": "execute_result"
    }
   ],
   "source": [
    "data"
   ]
  },
  {
   "cell_type": "code",
   "execution_count": 36,
   "id": "ebaee345",
   "metadata": {},
   "outputs": [
    {
     "data": {
      "text/plain": [
       "(17898, 9)"
      ]
     },
     "execution_count": 36,
     "metadata": {},
     "output_type": "execute_result"
    }
   ],
   "source": [
    "data.shape"
   ]
  },
  {
   "cell_type": "code",
   "execution_count": null,
   "id": "49561bbc",
   "metadata": {},
   "outputs": [],
   "source": []
  },
  {
   "cell_type": "code",
   "execution_count": 43,
   "id": "99cde335",
   "metadata": {},
   "outputs": [],
   "source": [
    "def pulsar_exec_ext(epoch_count=10, mb_size=10, report=1, adjust_ratio=False):\n",
    "    load_pulsar_dataset_ext(adjust_ratio)\n",
    "    init_model()\n",
    "    train_and_test_ext(epoch_count, mb_size, report)\n",
    "    \n",
    "    \n",
    "def load_pulsar_dataset_ext(adjust_ratio):\n",
    "    pulsars, stars = [], []\n",
    "    with open('../jch/chap02/pulsar_stars.csv') as csvfile:\n",
    "        csvreader = csv.reader(csvfile)\n",
    "        next(csvreader, None)\n",
    "        rows = []\n",
    "        for row in csvreader:\n",
    "            if row[8] == '1': pulsars.append(row)\n",
    "            else: stars.append(row)\n",
    "            \n",
    "    global data, input_cnt, output_cnt\n",
    "    input_cnt, output_cnt = 8, 1\n",
    "    \n",
    "    star_cnt, pulsar_cnt = len(stars), len(pulsars)\n",
    "\n",
    "    if adjust_ratio:\n",
    "        data = np.zeros([2*star_cnt, 9])\n",
    "        data[0:star_cnt, :] = np.asarray(stars, dtype='float32')\n",
    "        for n in range(star_cnt):\n",
    "            data[star_cnt+n] = np.asarray(pulsars[n % pulsar_cnt], dtype='float32')\n",
    "    else:\n",
    "        data = np.zeros([star_cnt+pulsar_cnt, 9])\n",
    "        data[0:star_cnt, :] = np.asarray(stars, dtype='float32')\n",
    "        data[star_cnt:, :] = np.asarray(pulsars, dtype='float32')\n",
    "        \n",
    "        \n",
    "def eval_accuracy(output, y):\n",
    "    est_yes = np.greater(output, 0)\n",
    "    ans_yes = np.greater(y, 0.5)\n",
    "    est_no = np.logical_not(est_yes)\n",
    "    ans_no = np.logical_not(ans_yes)\n",
    "    \n",
    "    tp = np.sum(np.logical_and(est_yes, ans_yes))\n",
    "    fp = np.sum(np.logical_and(est_yes, ans_no))\n",
    "    fn = np.sum(np.logical_and(est_no, ans_yes))\n",
    "    tn = np.sum(np.logical_and(est_no, ans_no))\n",
    "    \n",
    "    accuracy = safe_div(tp+tn, tp+tn+fp+fn)\n",
    "    precision = safe_div(tp, tp+fp)\n",
    "    recall = safe_div(tp, tp+fn)\n",
    "    f1 = 2 * safe_div(recall*precision, recall+precision)\n",
    "    \n",
    "    return [accuracy, precision, recall, f1]\n",
    "\n",
    "def safe_div(p, q):\n",
    "    p, q = float(p), float(q)\n",
    "    if np.abs(q) < 1.0e-20: return np.sign(p)\n",
    "    return p / q\n",
    "\n",
    "\n",
    "def train_and_test(epoch_count, mb_size, report):\n",
    "    step_count = arrange_data(mb_size)\n",
    "    test_x, test_y = get_test_data()\n",
    "    \n",
    "    for epoch in range(epoch_count):\n",
    "        losses = []\n",
    "        \n",
    "        for n in range(step_count):\n",
    "            train_x, train_y = get_train_data(mb_size, n)\n",
    "            loss, _ = run_train(train_x, train_y)\n",
    "            losses.append(loss)\n",
    "            \n",
    "        if report > 0 and (epoch+1) % report == 0:\n",
    "            acc = run_test(test_x, test_y)\n",
    "            acc_str = ','.join(['%5.3f']*4) % tuple(acc)\n",
    "            print('Epoch {}: loss={:5.3f}, result={}'. \\\n",
    "                  format(epoch+1, np.mean(losses), acc_str))\n",
    "            \n",
    "    acc = run_test(test_x, test_y)\n",
    "    acc_str = ','.join(['%5.3f']*4) % tuple(acc)\n",
    "    print('\\nFinal Test: final result = {}'.format(acc_str))"
   ]
  },
  {
   "cell_type": "code",
   "execution_count": 44,
   "id": "f8c0d78c",
   "metadata": {},
   "outputs": [
    {
     "name": "stdout",
     "output_type": "stream",
     "text": [
      "Epoch 1: loss=0.132, result=0.972,0.938,0.746,0.831\n",
      "Epoch 2: loss=0.141, result=0.956,0.967,0.535,0.689\n",
      "Epoch 3: loss=0.145, result=0.972,0.948,0.731,0.826\n",
      "Epoch 4: loss=0.123, result=0.975,0.905,0.813,0.857\n",
      "Epoch 5: loss=0.132, result=0.972,0.945,0.737,0.828\n",
      "Epoch 6: loss=0.131, result=0.975,0.925,0.792,0.853\n",
      "Epoch 7: loss=0.132, result=0.971,0.963,0.713,0.819\n",
      "Epoch 8: loss=0.132, result=0.976,0.923,0.807,0.861\n",
      "Epoch 9: loss=0.137, result=0.967,0.930,0.688,0.791\n",
      "Epoch 10: loss=0.127, result=0.976,0.914,0.810,0.859\n",
      "\n",
      "Final Test: final result = 0.976,0.914,0.810,0.859\n"
     ]
    }
   ],
   "source": [
    "pulsar_exec_ext()"
   ]
  },
  {
   "cell_type": "code",
   "execution_count": 47,
   "id": "d4bc6ef8",
   "metadata": {},
   "outputs": [
    {
     "data": {
      "text/plain": [
       "array([[140.5625    ,  55.68378067,  -0.23457141, ...,   7.97553158,\n",
       "         74.24222565,   0.        ],\n",
       "       [102.5078125 ,  58.88243103,   0.46531814, ...,  10.57648659,\n",
       "        127.39357758,   0.        ],\n",
       "       [103.015625  ,  39.3416481 ,   0.32332838, ...,   7.7358222 ,\n",
       "         63.17190933,   0.        ],\n",
       "       ...,\n",
       "       [ 48.3671875 ,  30.057724  ,   4.50091219, ...,   0.740556  ,\n",
       "         -0.60604012,   1.        ],\n",
       "       [ 65.0703125 ,  34.73317719,   2.26607513, ...,   3.77811432,\n",
       "         14.68210793,   1.        ],\n",
       "       [ 84.0078125 ,  34.25239563,   1.36355782, ...,   4.08432388,\n",
       "         15.84995556,   1.        ]])"
      ]
     },
     "execution_count": 47,
     "metadata": {},
     "output_type": "execute_result"
    }
   ],
   "source": [
    "data"
   ]
  },
  {
   "cell_type": "code",
   "execution_count": 48,
   "id": "d7fc214a",
   "metadata": {},
   "outputs": [
    {
     "data": {
      "text/plain": [
       "(32518, 9)"
      ]
     },
     "execution_count": 48,
     "metadata": {},
     "output_type": "execute_result"
    }
   ],
   "source": [
    "data.shape"
   ]
  },
  {
   "cell_type": "code",
   "execution_count": 49,
   "id": "129c8cc0",
   "metadata": {},
   "outputs": [
    {
     "name": "stdout",
     "output_type": "stream",
     "text": [
      "Epoch 1: loss=0.408, result=0.916,0.972,0.859,0.912\n",
      "Epoch 2: loss=0.380, result=0.911,0.911,0.914,0.913\n",
      "Epoch 3: loss=0.368, result=0.722,0.649,0.980,0.781\n",
      "Epoch 4: loss=0.373, result=0.909,0.983,0.834,0.902\n",
      "Epoch 5: loss=0.363, result=0.915,0.921,0.910,0.915\n",
      "Epoch 6: loss=0.366, result=0.904,0.893,0.921,0.907\n",
      "Epoch 7: loss=0.380, result=0.914,0.970,0.856,0.910\n",
      "Epoch 8: loss=0.384, result=0.911,0.908,0.917,0.913\n",
      "Epoch 9: loss=0.357, result=0.910,0.986,0.833,0.903\n",
      "Epoch 10: loss=0.344, result=0.925,0.958,0.892,0.924\n",
      "\n",
      "Final Test: final result = 0.925,0.958,0.892,0.924\n"
     ]
    }
   ],
   "source": [
    "pulsar_exec_ext(adjust_ratio=True)"
   ]
  },
  {
   "cell_type": "code",
   "execution_count": 50,
   "id": "57dbc431",
   "metadata": {},
   "outputs": [
    {
     "data": {
      "text/plain": [
       "array([[140.5625    ,  55.68378067,  -0.23457141, ...,   7.97553158,\n",
       "         74.24222565,   0.        ],\n",
       "       [102.5078125 ,  58.88243103,   0.46531814, ...,  10.57648659,\n",
       "        127.39357758,   0.        ],\n",
       "       [103.015625  ,  39.3416481 ,   0.32332838, ...,   7.7358222 ,\n",
       "         63.17190933,   0.        ],\n",
       "       ...,\n",
       "       [ 48.3671875 ,  30.057724  ,   4.50091219, ...,   0.740556  ,\n",
       "         -0.60604012,   1.        ],\n",
       "       [ 65.0703125 ,  34.73317719,   2.26607513, ...,   3.77811432,\n",
       "         14.68210793,   1.        ],\n",
       "       [ 84.0078125 ,  34.25239563,   1.36355782, ...,   4.08432388,\n",
       "         15.84995556,   1.        ]])"
      ]
     },
     "execution_count": 50,
     "metadata": {},
     "output_type": "execute_result"
    }
   ],
   "source": [
    "data"
   ]
  },
  {
   "cell_type": "code",
   "execution_count": 51,
   "id": "f3988bb5",
   "metadata": {},
   "outputs": [
    {
     "data": {
      "text/plain": [
       "(32518, 9)"
      ]
     },
     "execution_count": 51,
     "metadata": {},
     "output_type": "execute_result"
    }
   ],
   "source": [
    "data.shape"
   ]
  },
  {
   "cell_type": "code",
   "execution_count": null,
   "id": "8e8f772c",
   "metadata": {},
   "outputs": [],
   "source": []
  }
 ],
 "metadata": {
  "kernelspec": {
   "display_name": "Python 3",
   "language": "python",
   "name": "python3"
  },
  "language_info": {
   "codemirror_mode": {
    "name": "ipython",
    "version": 3
   },
   "file_extension": ".py",
   "mimetype": "text/x-python",
   "name": "python",
   "nbconvert_exporter": "python",
   "pygments_lexer": "ipython3",
   "version": "3.8.8"
  }
 },
 "nbformat": 4,
 "nbformat_minor": 5
}
