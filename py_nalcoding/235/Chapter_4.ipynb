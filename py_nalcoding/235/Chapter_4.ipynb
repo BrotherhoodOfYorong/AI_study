{
 "cells": [
  {
   "cell_type": "code",
   "execution_count": 12,
   "id": "1c9b0a63",
   "metadata": {},
   "outputs": [],
   "source": [
    "def init_model_hidden1():\n",
    "    global pm_output, pm_hidden, input_cnt, output_cnt, hidden_cnt\n",
    "    \n",
    "    pm_hidden = alloc_param_pair([input_cnt, hidden_cnt])\n",
    "    pm_output = alloc_param_pair([hidden_cnt, output_cnt])\n",
    "    \n",
    "def alloc_param_pair(shape):\n",
    "    weight = np.random.normal(RND_MEAN, RND_STD, shape)\n",
    "    bias = np.zeros(shape[-1])\n",
    "    return {'w':weight, 'b':bias}\n",
    "\n",
    "def forward_neuralnet_hidden1(x):\n",
    "    global pm_output, pm_hidden\n",
    "    \n",
    "    hidden = relu(np.matmul(x, pm_hidden['w']) + pm_hidden['b'])\n",
    "    output = np.matmul(hidden, pm_output['w']) + pm_output['b']\n",
    "    \n",
    "    return output, [x, hidden]\n",
    "\n",
    "def relu(x):\n",
    "    return np.maximum(x, 0)\n",
    "\n",
    "def backprop_neuralnet_hidden1(G_output, aux):\n",
    "    global pm_output, pm_hidden\n",
    "    \n",
    "    x, hidden = aux\n",
    "\n",
    "    g_output_w_out = hidden.transpose()                      \n",
    "    G_w_out = np.matmul(g_output_w_out, G_output)            \n",
    "    G_b_out = np.sum(G_output, axis=0)                       \n",
    "\n",
    "    g_output_hidden = pm_output['w'].transpose()             \n",
    "    G_hidden = np.matmul(G_output, g_output_hidden)          \n",
    "\n",
    "    pm_output['w'] -= LEARNING_RATE * G_w_out                \n",
    "    pm_output['b'] -= LEARNING_RATE * G_b_out                \n",
    "    \n",
    "    G_hidden = G_hidden * relu_derv(hidden)\n",
    "    \n",
    "    g_hidden_w_hid = x.transpose()                           \n",
    "    G_w_hid = np.matmul(g_hidden_w_hid, G_hidden)            \n",
    "    G_b_hid = np.sum(G_hidden, axis=0)                       \n",
    "    \n",
    "    pm_hidden['w'] -= LEARNING_RATE * G_w_hid                \n",
    "    pm_hidden['b'] -= LEARNING_RATE * G_b_hid                \n",
    "    \n",
    "def relu_derv(y):\n",
    "    return np.sign(y)\n",
    "\n",
    "def init_model_hiddens():\n",
    "    global pm_output, pm_hiddens, input_cnt, output_cnt, hidden_config\n",
    "    \n",
    "    pm_hiddens = []\n",
    "    prev_cnt = input_cnt\n",
    "    \n",
    "    for hidden_cnt in hidden_config:\n",
    "        pm_hiddens.append(alloc_param_pair([prev_cnt, hidden_cnt]))\n",
    "        prev_cnt = hidden_cnt\n",
    "    \n",
    "    pm_output = alloc_param_pair([prev_cnt, output_cnt])\n",
    "    \n",
    "def forward_neuralnet_hiddens(x):\n",
    "    global pm_output, pm_hiddens\n",
    "    \n",
    "    hidden = x\n",
    "    hiddens = [x]\n",
    "    \n",
    "    for pm_hidden in pm_hiddens:\n",
    "        hidden = relu(np.matmul(hidden, pm_hidden['w']) + pm_hidden['b'])\n",
    "        hiddens.append(hidden)\n",
    "        \n",
    "    output = np.matmul(hidden, pm_output['w']) + pm_output['b']\n",
    "    \n",
    "    return output, hiddens\n",
    "\n",
    "def backprop_neuralnet_hiddens(G_output, aux):\n",
    "    global pm_output, pm_hiddens\n",
    "\n",
    "    hiddens = aux\n",
    "    \n",
    "    g_output_w_out = hiddens[-1].transpose()\n",
    "    G_w_out = np.matmul(g_output_w_out, G_output)\n",
    "    G_b_out = np.sum(G_output, axis=0)\n",
    "\n",
    "    g_output_hidden = pm_output['w'].transpose() \n",
    "    G_hidden = np.matmul(G_output, g_output_hidden)\n",
    "\n",
    "    pm_output['w'] -= LEARNING_RATE * G_w_out\n",
    "    pm_output['b'] -= LEARNING_RATE * G_b_out\n",
    "    \n",
    "    for n in reversed(range(len(pm_hiddens))):\n",
    "        G_hidden = G_hidden * relu_derv(hiddens[n+1])\n",
    "\n",
    "        g_hidden_w_hid = hiddens[n].transpose()\n",
    "        G_w_hid = np.matmul(g_hidden_w_hid, G_hidden)\n",
    "        G_b_hid = np.sum(G_hidden, axis=0)\n",
    "    \n",
    "        g_hidden_hidden = pm_hiddens[n]['w'].transpose()\n",
    "        G_hidden = np.matmul(G_hidden, g_hidden_hidden)\n",
    "\n",
    "        pm_hiddens[n]['w'] -= LEARNING_RATE * G_w_hid\n",
    "        pm_hiddens[n]['b'] -= LEARNING_RATE * G_b_hid\n",
    "\n",
    "global hidden_config\n",
    "\n",
    "def init_model():\n",
    "    if hidden_config is not None:\n",
    "        print('은닉 계층 {}개를 갖는 다층 퍼셉트론이 작동되었습니다.'. \\\n",
    "              format(len(hidden_config)))\n",
    "        init_model_hiddens()\n",
    "    else:\n",
    "        print('은닉 계층 하나를 갖는 다층 퍼셉트론이 작동되었습니다.')\n",
    "        init_model_hidden1()\n",
    "    \n",
    "def forward_neuralnet(x):\n",
    "    if hidden_config is not None:\n",
    "        return forward_neuralnet_hiddens(x)\n",
    "    else:\n",
    "        return forward_neuralnet_hidden1(x)\n",
    "    \n",
    "def backprop_neuralnet(G_output, hiddens):\n",
    "    if hidden_config is not None:\n",
    "        backprop_neuralnet_hiddens(G_output, hiddens)\n",
    "    else:\n",
    "        backprop_neuralnet_hidden1(G_output, hiddens)\n",
    "        \n",
    "def set_hidden(info):\n",
    "    global hidden_cnt, hidden_config\n",
    "    if isinstance(info, int):\n",
    "        hidden_cnt = info\n",
    "        hidden_config = None\n",
    "    else:\n",
    "        hidden_config = info"
   ]
  },
  {
   "cell_type": "code",
   "execution_count": 13,
   "id": "8dbb35fb",
   "metadata": {},
   "outputs": [
    {
     "name": "stdout",
     "output_type": "stream",
     "text": [
      "Epoch 1: loss=33.875, accuracy=0.557/0.812\n",
      "Epoch 2: loss=8.226, accuracy=0.820/0.814\n",
      "Epoch 3: loss=7.582, accuracy=0.812/0.809\n",
      "Epoch 4: loss=7.475, accuracy=0.808/0.811\n",
      "Epoch 5: loss=7.395, accuracy=0.810/0.809\n",
      "Epoch 6: loss=7.328, accuracy=0.808/0.810\n",
      "Epoch 7: loss=7.269, accuracy=0.808/0.811\n",
      "Epoch 8: loss=7.217, accuracy=0.808/0.812\n",
      "Epoch 9: loss=7.175, accuracy=0.810/0.810\n",
      "Epoch 10: loss=7.135, accuracy=0.809/0.810\n",
      "\n",
      "Final Test: final accuracy = 0.810\n",
      "[[1.02697603]\n",
      " [1.47450981]\n",
      " [1.66960135]\n",
      " [2.04468668]\n",
      " [1.62513525]\n",
      " [0.60292627]\n",
      " [2.39993815]\n",
      " [0.54107313]\n",
      " [0.46878034]\n",
      " [1.01969382]]\n",
      "[4.16894769]\n",
      "Epoch 20: loss=5.804, accuracy=0.825/0.831\n",
      "Epoch 40: loss=5.259, accuracy=0.834/0.828\n",
      "Epoch 60: loss=5.056, accuracy=0.837/0.838\n",
      "Epoch 80: loss=4.950, accuracy=0.838/0.840\n",
      "Epoch 100: loss=4.910, accuracy=0.840/0.826\n",
      "\n",
      "Final Test: final accuracy = 0.826\n",
      "Epoch 1: loss=7.436, accuracy=0.801/0.843\n",
      "Epoch 2: loss=6.422, accuracy=0.815/0.819\n",
      "Epoch 3: loss=5.951, accuracy=0.822/0.843\n",
      "Epoch 4: loss=5.690, accuracy=0.826/0.851\n",
      "Epoch 5: loss=5.573, accuracy=0.828/0.845\n",
      "Epoch 6: loss=5.576, accuracy=0.827/0.833\n",
      "Epoch 7: loss=5.401, accuracy=0.830/0.845\n",
      "Epoch 8: loss=5.386, accuracy=0.830/0.857\n",
      "Epoch 9: loss=5.389, accuracy=0.831/0.838\n",
      "Epoch 10: loss=5.369, accuracy=0.830/0.860\n",
      "\n",
      "Final Test: final accuracy = 0.860\n"
     ]
    }
   ],
   "source": [
    "%run Chapter_1.ipynb\n",
    "set_hidden([])\n",
    "abalone_exec()"
   ]
  },
  {
   "cell_type": "code",
   "execution_count": 14,
   "id": "78e1b426",
   "metadata": {},
   "outputs": [
    {
     "name": "stdout",
     "output_type": "stream",
     "text": [
      "Epoch 10: loss=5.196, accuracy=0.833/0.844\n",
      "Epoch 20: loss=5.116, accuracy=0.835/0.831\n",
      "Epoch 30: loss=5.064, accuracy=0.836/0.801\n",
      "Epoch 40: loss=5.078, accuracy=0.834/0.843\n",
      "Epoch 50: loss=5.091, accuracy=0.836/0.822\n",
      "\n",
      "Final Test: final accuracy = 0.822\n"
     ]
    }
   ],
   "source": [
    "set_hidden(4)\n",
    "abalone_exec(epoch_count=50, report=10)"
   ]
  },
  {
   "cell_type": "code",
   "execution_count": 15,
   "id": "9db8c860",
   "metadata": {},
   "outputs": [
    {
     "name": "stdout",
     "output_type": "stream",
     "text": [
      "Epoch 10: loss=5.164, accuracy=0.833/0.835\n",
      "Epoch 20: loss=5.149, accuracy=0.834/0.842\n",
      "Epoch 30: loss=5.145, accuracy=0.833/0.853\n",
      "Epoch 40: loss=5.148, accuracy=0.834/0.827\n",
      "Epoch 50: loss=5.100, accuracy=0.834/0.848\n",
      "\n",
      "Final Test: final accuracy = 0.848\n"
     ]
    }
   ],
   "source": [
    "abalone_exec(epoch_count=50, report=10)"
   ]
  },
  {
   "cell_type": "code",
   "execution_count": 16,
   "id": "1cc8a0a4",
   "metadata": {},
   "outputs": [
    {
     "name": "stdout",
     "output_type": "stream",
     "text": [
      "Epoch 1: loss=33.875, accuracy=0.557/0.812\n",
      "Epoch 2: loss=8.226, accuracy=0.820/0.814\n",
      "Epoch 3: loss=7.582, accuracy=0.812/0.809\n",
      "Epoch 4: loss=7.475, accuracy=0.808/0.811\n",
      "Epoch 5: loss=7.395, accuracy=0.810/0.809\n",
      "Epoch 6: loss=7.328, accuracy=0.808/0.810\n",
      "Epoch 7: loss=7.269, accuracy=0.808/0.811\n",
      "Epoch 8: loss=7.217, accuracy=0.808/0.812\n",
      "Epoch 9: loss=7.175, accuracy=0.810/0.810\n",
      "Epoch 10: loss=7.135, accuracy=0.809/0.810\n",
      "\n",
      "Final Test: final accuracy = 0.810\n",
      "[[1.02697603]\n",
      " [1.47450981]\n",
      " [1.66960135]\n",
      " [2.04468668]\n",
      " [1.62513525]\n",
      " [0.60292627]\n",
      " [2.39993815]\n",
      " [0.54107313]\n",
      " [0.46878034]\n",
      " [1.01969382]]\n",
      "[4.16894769]\n",
      "Epoch 20: loss=5.804, accuracy=0.825/0.831\n",
      "Epoch 40: loss=5.259, accuracy=0.834/0.828\n",
      "Epoch 60: loss=5.056, accuracy=0.837/0.838\n",
      "Epoch 80: loss=4.950, accuracy=0.838/0.840\n",
      "Epoch 100: loss=4.910, accuracy=0.840/0.826\n",
      "\n",
      "Final Test: final accuracy = 0.826\n",
      "Epoch 1: loss=14.104, result=0.932,0.591,0.869,0.704\n",
      "Epoch 2: loss=12.449, result=0.973,0.958,0.746,0.839\n",
      "Epoch 3: loss=11.660, result=0.973,0.951,0.752,0.840\n",
      "Epoch 4: loss=10.214, result=0.948,0.675,0.851,0.753\n",
      "Epoch 5: loss=12.217, result=0.953,0.994,0.504,0.669\n",
      "Epoch 6: loss=11.340, result=0.970,0.857,0.821,0.838\n",
      "Epoch 7: loss=11.239, result=0.961,0.758,0.860,0.806\n",
      "Epoch 8: loss=10.970, result=0.972,0.968,0.722,0.827\n",
      "Epoch 9: loss=11.369, result=0.970,0.838,0.836,0.837\n",
      "Epoch 10: loss=10.798, result=0.949,1.000,0.451,0.621\n",
      "\n",
      "Final Test: final result = 0.949,1.000,0.451,0.621\n",
      "Epoch 1: loss=41.395, result=0.850,0.996,0.709,0.828\n",
      "Epoch 2: loss=37.350, result=0.916,0.925,0.909,0.917\n",
      "Epoch 3: loss=37.621, result=0.886,0.855,0.936,0.893\n",
      "Epoch 4: loss=35.285, result=0.516,0.513,1.000,0.678\n",
      "Epoch 5: loss=34.152, result=0.908,0.990,0.829,0.902\n",
      "Epoch 6: loss=33.929, result=0.916,0.919,0.916,0.917\n",
      "Epoch 7: loss=33.684, result=0.918,0.982,0.856,0.914\n",
      "Epoch 8: loss=36.195, result=0.925,0.967,0.883,0.923\n",
      "Epoch 9: loss=34.916, result=0.853,0.798,0.953,0.869\n",
      "Epoch 10: loss=37.392, result=0.876,0.831,0.951,0.887\n",
      "\n",
      "Final Test: final result = 0.876,0.831,0.951,0.887\n",
      "Epoch 1: loss=-4005.318, result=1.000,1.000,1.000,1.000\n",
      "Epoch 2: loss=-12038.183, result=1.000,1.000,1.000,1.000\n",
      "Epoch 3: loss=-20070.984, result=1.000,1.000,1.000,1.000\n",
      "Epoch 4: loss=-28103.800, result=1.000,1.000,1.000,1.000\n",
      "Epoch 5: loss=-36136.732, result=1.000,1.000,1.000,1.000\n",
      "Epoch 6: loss=-44169.581, result=1.000,1.000,1.000,1.000\n",
      "Epoch 7: loss=-52202.471, result=1.000,1.000,1.000,1.000\n",
      "Epoch 8: loss=-60235.356, result=1.000,1.000,1.000,1.000\n",
      "Epoch 9: loss=-68268.149, result=1.000,1.000,1.000,1.000\n",
      "Epoch 10: loss=-76301.046, result=1.000,1.000,1.000,1.000\n",
      "\n",
      "Final Test: final result = 1.000,1.000,1.000,1.000\n",
      "Epoch 10: loss=11.201, result=0.972,0.908,0.796,0.848\n",
      "Epoch 20: loss=10.617, result=0.970,0.960,0.735,0.832\n",
      "Epoch 30: loss=10.913, result=0.970,0.912,0.779,0.840\n",
      "Epoch 40: loss=11.279, result=0.958,0.986,0.592,0.740\n",
      "Epoch 50: loss=11.749, result=0.971,0.869,0.835,0.852\n",
      "\n",
      "Final Test: final result = 0.971,0.869,0.835,0.852\n"
     ]
    }
   ],
   "source": [
    "%run Chapter_2.ipynb\n",
    "set_hidden(6)\n",
    "pulsar_exec(epoch_count=50, report=10)"
   ]
  },
  {
   "cell_type": "code",
   "execution_count": 17,
   "id": "d246c6ab",
   "metadata": {},
   "outputs": [
    {
     "name": "stdout",
     "output_type": "stream",
     "text": [
      "Epoch 10: loss=10.671, result=0.970,0.972,0.711,0.821\n",
      "Epoch 20: loss=11.569, result=0.974,0.893,0.827,0.859\n",
      "Epoch 30: loss=11.590, result=0.977,0.896,0.857,0.876\n",
      "Epoch 40: loss=11.502, result=0.971,0.968,0.716,0.824\n",
      "Epoch 50: loss=12.662, result=0.972,0.962,0.740,0.836\n",
      "\n",
      "Final Test: final result = 0.972,0.962,0.740,0.836\n"
     ]
    }
   ],
   "source": [
    "set_hidden([6])\n",
    "pulsar_exec(epoch_count=50, report=10)"
   ]
  },
  {
   "cell_type": "code",
   "execution_count": 18,
   "id": "1751269a",
   "metadata": {},
   "outputs": [
    {
     "name": "stdout",
     "output_type": "stream",
     "text": [
      "Epoch 40: loss=11.605, result=0.977,0.897,0.824,0.859\n",
      "Epoch 80: loss=11.912, result=0.966,0.969,0.621,0.757\n",
      "Epoch 120: loss=10.889, result=0.978,0.945,0.788,0.859\n",
      "Epoch 160: loss=11.983, result=0.978,0.928,0.804,0.862\n",
      "Epoch 200: loss=10.180, result=0.968,0.970,0.641,0.772\n",
      "\n",
      "Final Test: final result = 0.968,0.970,0.641,0.772\n"
     ]
    }
   ],
   "source": [
    "set_hidden([12,6])\n",
    "pulsar_exec(epoch_count=200, report=40)"
   ]
  },
  {
   "cell_type": "code",
   "execution_count": 22,
   "id": "db668886",
   "metadata": {},
   "outputs": [
    {
     "name": "stdout",
     "output_type": "stream",
     "text": [
      "Epoch 1: loss=33.875, accuracy=0.557/0.812\n",
      "Epoch 2: loss=8.226, accuracy=0.820/0.814\n",
      "Epoch 3: loss=7.582, accuracy=0.812/0.809\n",
      "Epoch 4: loss=7.475, accuracy=0.808/0.811\n",
      "Epoch 5: loss=7.395, accuracy=0.810/0.809\n",
      "Epoch 6: loss=7.328, accuracy=0.808/0.810\n",
      "Epoch 7: loss=7.269, accuracy=0.808/0.811\n",
      "Epoch 8: loss=7.217, accuracy=0.808/0.812\n",
      "Epoch 9: loss=7.175, accuracy=0.810/0.810\n",
      "Epoch 10: loss=7.135, accuracy=0.809/0.810\n",
      "\n",
      "Final Test: final accuracy = 0.810\n",
      "[[1.02697603]\n",
      " [1.47450981]\n",
      " [1.66960135]\n",
      " [2.04468668]\n",
      " [1.62513525]\n",
      " [0.60292627]\n",
      " [2.39993815]\n",
      " [0.54107313]\n",
      " [0.46878034]\n",
      " [1.01969382]]\n",
      "[4.16894769]\n",
      "Epoch 20: loss=5.804, accuracy=0.825/0.831\n",
      "Epoch 40: loss=5.259, accuracy=0.834/0.828\n",
      "Epoch 60: loss=5.056, accuracy=0.837/0.838\n",
      "Epoch 80: loss=4.950, accuracy=0.838/0.840\n",
      "Epoch 100: loss=4.910, accuracy=0.840/0.826\n",
      "\n",
      "Final Test: final accuracy = 0.826\n",
      "Epoch 1: loss=15.866, accuracy=0.311/0.197\n",
      "Epoch 2: loss=15.464, accuracy=0.328/0.343\n",
      "Epoch 3: loss=15.464, accuracy=0.328/0.338\n",
      "Epoch 4: loss=15.687, accuracy=0.319/0.210\n",
      "Epoch 5: loss=15.242, accuracy=0.338/0.440\n",
      "Epoch 6: loss=15.301, accuracy=0.335/0.141\n",
      "Epoch 7: loss=15.717, accuracy=0.317/0.279\n",
      "Epoch 8: loss=15.450, accuracy=0.329/0.217\n",
      "Epoch 9: loss=15.152, accuracy=0.342/0.176\n",
      "Epoch 10: loss=15.613, accuracy=0.322/0.202\n",
      "\n",
      "Final Test: final accuracy = 0.202\n",
      "Epoch 1: loss=16.564, accuracy=0.281/0.248\n",
      "Epoch 2: loss=15.821, accuracy=0.313/0.358\n",
      "Epoch 3: loss=15.687, accuracy=0.319/0.355\n",
      "Epoch 4: loss=15.583, accuracy=0.323/0.419\n",
      "Epoch 5: loss=15.093, accuracy=0.345/0.207\n",
      "Epoch 6: loss=15.152, accuracy=0.342/0.358\n",
      "Epoch 7: loss=15.628, accuracy=0.321/0.419\n",
      "Epoch 8: loss=15.539, accuracy=0.325/0.189\n",
      "Epoch 9: loss=15.539, accuracy=0.325/0.353\n",
      "Epoch 10: loss=15.390, accuracy=0.332/0.435\n",
      "\n",
      "Final Test: final accuracy = 0.435\n"
     ]
    }
   ],
   "source": [
    "%run Chapter_3.ipynb"
   ]
  },
  {
   "cell_type": "code",
   "execution_count": 23,
   "id": "5511872d",
   "metadata": {},
   "outputs": [
    {
     "name": "stdout",
     "output_type": "stream",
     "text": [
      "Epoch 10: loss=15.256, accuracy=0.337/0.345\n",
      "Epoch 20: loss=15.479, accuracy=0.328/0.210\n",
      "Epoch 30: loss=15.227, accuracy=0.339/0.343\n",
      "Epoch 40: loss=15.197, accuracy=0.340/0.430\n",
      "Epoch 50: loss=15.405, accuracy=0.331/0.179\n",
      "\n",
      "Final Test: final accuracy = 0.179\n"
     ]
    }
   ],
   "source": [
    "set_hidden(10)\n",
    "steel_exec(epoch_count=50, report=10)"
   ]
  },
  {
   "cell_type": "code",
   "execution_count": 24,
   "id": "fc6a32d5",
   "metadata": {},
   "outputs": [
    {
     "name": "stdout",
     "output_type": "stream",
     "text": [
      "Epoch 10: loss=15.866, accuracy=0.311/0.294\n",
      "Epoch 20: loss=15.702, accuracy=0.318/0.238\n",
      "Epoch 30: loss=15.331, accuracy=0.334/0.381\n",
      "Epoch 40: loss=16.029, accuracy=0.304/0.437\n",
      "Epoch 50: loss=15.271, accuracy=0.337/0.210\n",
      "\n",
      "Final Test: final accuracy = 0.210\n"
     ]
    }
   ],
   "source": [
    "set_hidden([12, 6, 4])\n",
    "steel_exec(epoch_count=50, report=10)"
   ]
  },
  {
   "cell_type": "code",
   "execution_count": 25,
   "id": "a61b1781",
   "metadata": {},
   "outputs": [
    {
     "name": "stdout",
     "output_type": "stream",
     "text": [
      "Epoch 10: loss=15.880, accuracy=0.310/0.402\n",
      "Epoch 20: loss=15.821, accuracy=0.313/0.246\n",
      "Epoch 30: loss=15.509, accuracy=0.326/0.212\n",
      "Epoch 40: loss=15.821, accuracy=0.313/0.419\n",
      "Epoch 50: loss=15.464, accuracy=0.328/0.381\n",
      "\n",
      "Final Test: final accuracy = 0.381\n"
     ]
    }
   ],
   "source": [
    "LEARNING_RATE=0.0001\n",
    "hidden_config = [12, 6, 4]\n",
    "steel_exec(epoch_count=50, report=10)"
   ]
  },
  {
   "cell_type": "code",
   "execution_count": null,
   "id": "41c2907f",
   "metadata": {},
   "outputs": [],
   "source": []
  },
  {
   "cell_type": "code",
   "execution_count": null,
   "id": "4a8e284c",
   "metadata": {},
   "outputs": [],
   "source": []
  }
 ],
 "metadata": {
  "kernelspec": {
   "display_name": "Python 3",
   "language": "python",
   "name": "python3"
  },
  "language_info": {
   "codemirror_mode": {
    "name": "ipython",
    "version": 3
   },
   "file_extension": ".py",
   "mimetype": "text/x-python",
   "name": "python",
   "nbconvert_exporter": "python",
   "pygments_lexer": "ipython3",
   "version": "3.8.8"
  }
 },
 "nbformat": 4,
 "nbformat_minor": 5
}
