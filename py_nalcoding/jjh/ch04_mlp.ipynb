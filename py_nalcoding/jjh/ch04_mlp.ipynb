{
 "cells": [
  {
   "cell_type": "code",
   "execution_count": 1,
   "metadata": {},
   "outputs": [],
   "source": [
    "import model_def"
   ]
  },
  {
   "cell_type": "markdown",
   "metadata": {},
   "source": [
    "# Abalone - no hidden layer"
   ]
  },
  {
   "cell_type": "code",
   "execution_count": 2,
   "metadata": {},
   "outputs": [
    {
     "name": "stdout",
     "output_type": "stream",
     "text": [
      "[Epoch 10] loss: 6.827 | results: 0.809 / 0.817\n",
      "[Epoch 20] loss: 6.597 | results: 0.811 / 0.819\n",
      "[Epoch 30] loss: 6.425 | results: 0.813 / 0.822\n",
      "[Epoch 40] loss: 6.275 | results: 0.815 / 0.824\n",
      "[Epoch 50] loss: 6.139 | results: 0.818 / 0.826\n",
      "\n",
      "[Final Test] final results: 0.826\n"
     ]
    }
   ],
   "source": [
    "model = model_def.model(input_count=10, output_count=1, rnd_mean=0, rnd_std=0.03, m_type='regression', hidden_config=[])\n",
    "model.randomize()\n",
    "\n",
    "model.load_dataset(1)\n",
    "model.init_model()\n",
    "model.train_and_test(epoch_count=50, mb_size=10, report=10, learning_rate=0.002)"
   ]
  },
  {
   "cell_type": "markdown",
   "metadata": {},
   "source": [
    "# Abalone - 1 hidden layer"
   ]
  },
  {
   "cell_type": "code",
   "execution_count": 3,
   "metadata": {},
   "outputs": [
    {
     "name": "stdout",
     "output_type": "stream",
     "text": [
      "[Epoch 10] loss: 6.444 | results: 0.813 / 0.802\n",
      "[Epoch 20] loss: 5.285 | results: 0.831 / 0.826\n",
      "[Epoch 30] loss: 4.961 | results: 0.837 / 0.832\n",
      "[Epoch 40] loss: 4.938 | results: 0.839 / 0.841\n",
      "[Epoch 50] loss: 4.891 | results: 0.840 / 0.838\n",
      "\n",
      "[Final Test] final results: 0.838\n"
     ]
    }
   ],
   "source": [
    "model2 = model_def.model(input_count=10, output_count=1, rnd_mean=0, rnd_std=0.03, m_type='regression', hidden_config=[4])\n",
    "model2.randomize()\n",
    "\n",
    "model2.load_dataset(1)\n",
    "model2.init_model()\n",
    "model2.train_and_test(epoch_count=50, mb_size=10, report=10, learning_rate=0.002)"
   ]
  },
  {
   "cell_type": "markdown",
   "metadata": {},
   "source": [
    "# Pulsar - 1 hidden layer"
   ]
  },
  {
   "cell_type": "code",
   "execution_count": 4,
   "metadata": {},
   "outputs": [
    {
     "name": "stdout",
     "output_type": "stream",
     "text": [
      "[Epoch 10] loss: 0.207 | results: 0.921, 0.919, 0.924, 0.921\n",
      "[Epoch 20] loss: 0.204 | results: 0.935, 0.964, 0.903, 0.933\n",
      "[Epoch 30] loss: 0.202 | results: 0.935, 0.970, 0.898, 0.932\n",
      "[Epoch 40] loss: 0.202 | results: 0.936, 0.961, 0.909, 0.934\n",
      "[Epoch 50] loss: 0.200 | results: 0.932, 0.957, 0.905, 0.930\n",
      "\n",
      "[Final Test] final results: 0.932, 0.957, 0.905, 0.930\n"
     ]
    }
   ],
   "source": [
    "model_pulsar = model_def.model(input_count=8, output_count=1, rnd_mean=0, rnd_std=0.03, m_type='binary decision', hidden_config=[6], adjust=True)\n",
    "model_pulsar.randomize()\n",
    "\n",
    "model_pulsar.load_dataset(2)\n",
    "model_pulsar.init_model()\n",
    "model_pulsar.train_and_test(epoch_count=50, mb_size=10, report=10, learning_rate=0.002)"
   ]
  },
  {
   "cell_type": "markdown",
   "metadata": {},
   "source": [
    "# Pulsar - 2 hidden layer"
   ]
  },
  {
   "cell_type": "code",
   "execution_count": 6,
   "metadata": {},
   "outputs": [
    {
     "name": "stdout",
     "output_type": "stream",
     "text": [
      "[Epoch 40] loss: 0.198 | results: 0.927, 0.977, 0.876, 0.923\n",
      "[Epoch 80] loss: 0.194 | results: 0.929, 0.967, 0.888, 0.926\n",
      "[Epoch 120] loss: 0.189 | results: 0.927, 0.954, 0.899, 0.925\n",
      "[Epoch 160] loss: 0.186 | results: 0.932, 0.966, 0.896, 0.930\n",
      "[Epoch 200] loss: 0.185 | results: 0.934, 0.958, 0.908, 0.933\n",
      "\n",
      "[Final Test] final results: 0.934, 0.958, 0.908, 0.933\n"
     ]
    }
   ],
   "source": [
    "model_pulsar2 = model_def.model(input_count=8, output_count=1, rnd_mean=0, rnd_std=0.03, m_type='binary decision', hidden_config=[12, 6], adjust=True)\n",
    "model_pulsar2.randomize()\n",
    "\n",
    "model_pulsar2.load_dataset(2)\n",
    "model_pulsar2.init_model()\n",
    "model_pulsar2.train_and_test(epoch_count=200, mb_size=10, report=40, learning_rate=0.002)"
   ]
  },
  {
   "cell_type": "markdown",
   "metadata": {},
   "source": [
    "# Steel - 1 hidden layer"
   ]
  },
  {
   "cell_type": "code",
   "execution_count": 7,
   "metadata": {},
   "outputs": [
    {
     "name": "stdout",
     "output_type": "stream",
     "text": [
      "[Epoch 10] loss: 1.785 | results: 0.349 / 0.338\n",
      "[Epoch 20] loss: 1.718 | results: 0.349 / 0.338\n",
      "[Epoch 30] loss: 1.691 | results: 0.349 / 0.338\n",
      "[Epoch 40] loss: 1.678 | results: 0.349 / 0.338\n",
      "[Epoch 50] loss: 1.671 | results: 0.349 / 0.338\n",
      "\n",
      "[Final Test] final results: 0.338\n"
     ]
    }
   ],
   "source": [
    "model_steel = model_def.model(input_count=27, output_count=7, rnd_mean=0, rnd_std=0.03, m_type='classification', hidden_config=[10], adjust=True)\n",
    "model_steel.randomize()\n",
    "\n",
    "model_steel.load_dataset(3)\n",
    "model_steel.init_model()\n",
    "model_steel.train_and_test(epoch_count=50, mb_size=10, report=10, learning_rate=0.002)"
   ]
  },
  {
   "cell_type": "markdown",
   "metadata": {},
   "source": [
    "# Steel - 3 hidden layer"
   ]
  },
  {
   "cell_type": "code",
   "execution_count": 8,
   "metadata": {},
   "outputs": [
    {
     "name": "stdout",
     "output_type": "stream",
     "text": [
      "[Epoch 10] loss: 1.797 | results: 0.341 / 0.371\n",
      "[Epoch 20] loss: 1.735 | results: 0.341 / 0.371\n",
      "[Epoch 30] loss: 1.709 | results: 0.341 / 0.371\n",
      "[Epoch 40] loss: 1.697 | results: 0.341 / 0.371\n",
      "[Epoch 50] loss: 1.690 | results: 0.341 / 0.371\n",
      "\n",
      "[Final Test] final results: 0.371\n"
     ]
    }
   ],
   "source": [
    "model_steel2 = model_def.model(input_count=27, output_count=7, rnd_mean=0, rnd_std=0.03, m_type='classification', hidden_config=[12, 6, 4], adjust=True)\n",
    "model_steel2.randomize()\n",
    "\n",
    "model_steel2.load_dataset(3)\n",
    "model_steel2.init_model()\n",
    "model_steel2.train_and_test(epoch_count=50, mb_size=10, report=10, learning_rate=0.002)"
   ]
  },
  {
   "cell_type": "markdown",
   "metadata": {},
   "source": [
    "# Steel - 3 hidden layer, lower lr"
   ]
  },
  {
   "cell_type": "code",
   "execution_count": 9,
   "metadata": {},
   "outputs": [
    {
     "name": "stdout",
     "output_type": "stream",
     "text": [
      "[Epoch 10] loss: 1.547 | results: 0.415 / 0.394\n",
      "[Epoch 20] loss: 1.518 | results: 0.430 / 0.437\n",
      "[Epoch 30] loss: 1.511 | results: 0.428 / 0.442\n",
      "[Epoch 40] loss: 1.486 | results: 0.446 / 0.460\n",
      "[Epoch 50] loss: 1.480 | results: 0.475 / 0.455\n",
      "\n",
      "[Final Test] final results: 0.455\n"
     ]
    }
   ],
   "source": [
    "model_steel3 = model_def.model(input_count=27, output_count=7, rnd_mean=0, rnd_std=0.03, m_type='classification', hidden_config=[12, 6, 4], adjust=True)\n",
    "model_steel3.randomize()\n",
    "\n",
    "model_steel3.load_dataset(3)\n",
    "model_steel3.init_model()\n",
    "model_steel3.train_and_test(epoch_count=50, mb_size=10, report=10, learning_rate=0.0001)"
   ]
  }
 ],
 "metadata": {
  "interpreter": {
   "hash": "06ea3eee441606c3ca59f2ad3b0acaee2e7e209cf86bb330bdfaf882da5e9d54"
  },
  "kernelspec": {
   "display_name": "Python 3.9.7 64-bit ('nalcoding': conda)",
   "language": "python",
   "name": "python3"
  },
  "language_info": {
   "codemirror_mode": {
    "name": "ipython",
    "version": 3
   },
   "file_extension": ".py",
   "mimetype": "text/x-python",
   "name": "python",
   "nbconvert_exporter": "python",
   "pygments_lexer": "ipython3",
   "version": "3.9.7"
  },
  "orig_nbformat": 4
 },
 "nbformat": 4,
 "nbformat_minor": 2
}
