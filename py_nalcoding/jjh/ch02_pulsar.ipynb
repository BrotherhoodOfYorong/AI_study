{
 "cells": [
  {
   "cell_type": "markdown",
   "metadata": {},
   "source": [
    "# Hyperparameters"
   ]
  },
  {
   "cell_type": "code",
   "execution_count": null,
   "metadata": {},
   "outputs": [],
   "source": [
    "# Hyperparameters\n",
    "rnd_mean = 0\n",
    "rnd_std = 0.0030\n",
    "learning_rate = 0.001\n",
    "\n",
    "input_count = 8\n",
    "output_count = 1\n",
    "\n",
    "epoch = 10\n",
    "mb_size = 10\n",
    "report = 1\n",
    "\n",
    "m_type = 'binary decision'"
   ]
  }
 ],
 "metadata": {
  "language_info": {
   "name": "plaintext"
  },
  "orig_nbformat": 4
 },
 "nbformat": 4,
 "nbformat_minor": 2
}
