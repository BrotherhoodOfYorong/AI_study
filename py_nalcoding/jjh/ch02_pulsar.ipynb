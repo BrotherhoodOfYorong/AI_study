{
 "cells": [
  {
   "cell_type": "markdown",
   "metadata": {},
   "source": [
    "# Hyperparameters"
   ]
  },
  {
   "cell_type": "code",
   "execution_count": 1,
   "metadata": {},
   "outputs": [],
   "source": [
    "# Hyperparameters\n",
    "input_count = 8\n",
    "output_count = 1\n",
    "rnd_mean = 0\n",
    "rnd_std = 0.0030\n",
    "m_type = 'binary decision'\n",
    "adjust = True\n",
    "\n",
    "# Hyperparameters for train\n",
    "epoch = 10\n",
    "mb_size = 10\n",
    "report = 1\n",
    "learning_rate = 0.001"
   ]
  },
  {
   "cell_type": "markdown",
   "metadata": {},
   "source": [
    "# Declare model instance"
   ]
  },
  {
   "cell_type": "code",
   "execution_count": 2,
   "metadata": {},
   "outputs": [],
   "source": [
    "import model_def\n",
    "\n",
    "model = model_def.model(input_count=input_count, output_count=output_count, rnd_mean=rnd_mean, rnd_std=rnd_std, m_type=m_type, adjust=adjust)\n",
    "model.default_randomize()"
   ]
  },
  {
   "cell_type": "markdown",
   "metadata": {},
   "source": [
    "# Main Function"
   ]
  },
  {
   "cell_type": "code",
   "execution_count": 5,
   "metadata": {},
   "outputs": [
    {
     "name": "stdout",
     "output_type": "stream",
     "text": [
      "[Epoch 1] loss: 0.409 / results: 0.871,0.989,0.750,0.853\n",
      "[Epoch 2] loss: 0.407 / results: 0.902,0.985,0.816,0.893\n",
      "[Epoch 3] loss: 0.377 / results: 0.912,0.978,0.842,0.905\n",
      "[Epoch 4] loss: 0.364 / results: 0.914,0.941,0.883,0.911\n",
      "[Epoch 5] loss: 0.388 / results: 0.923,0.961,0.881,0.919\n",
      "[Epoch 6] loss: 0.380 / results: 0.852,0.791,0.956,0.866\n",
      "[Epoch 7] loss: 0.371 / results: 0.920,0.933,0.904,0.918\n",
      "[Epoch 8] loss: 0.387 / results: 0.918,0.974,0.858,0.913\n",
      "[Epoch 9] loss: 0.376 / results: 0.901,0.876,0.933,0.904\n",
      "[Epoch 10] loss: 0.375 / results: 0.878,0.839,0.937,0.885\n",
      "\n",
      "[Final Test] final results: 0.878,0.839,0.937,0.885\n"
     ]
    }
   ],
   "source": [
    "model.load_dataset(2)\n",
    "model.init_model()\n",
    "model.train_and_test(epoch, mb_size, report, learning_rate)"
   ]
  }
 ],
 "metadata": {
  "kernelspec": {
   "display_name": "Python 3 (ipykernel)",
   "language": "python",
   "name": "python3"
  },
  "language_info": {
   "codemirror_mode": {
    "name": "ipython",
    "version": 3
   },
   "file_extension": ".py",
   "mimetype": "text/x-python",
   "name": "python",
   "nbconvert_exporter": "python",
   "pygments_lexer": "ipython3",
   "version": "3.8.10"
  },
  "orig_nbformat": 4
 },
 "nbformat": 4,
 "nbformat_minor": 2
}
