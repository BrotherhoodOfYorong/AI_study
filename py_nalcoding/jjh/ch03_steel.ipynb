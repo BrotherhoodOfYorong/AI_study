{
 "cells": [
  {
   "cell_type": "markdown",
   "metadata": {},
   "source": [
    "# Hyperparameters"
   ]
  },
  {
   "cell_type": "code",
   "execution_count": 1,
   "metadata": {},
   "outputs": [],
   "source": [
    "# Hyperparameters\n",
    "input_count = 27\n",
    "output_count = 7\n",
    "rnd_mean = 0\n",
    "rnd_std = 0.0030\n",
    "m_type = 'classification'\n",
    "adjust = True\n",
    "\n",
    "# Hyperparameters for train\n",
    "epoch = 10\n",
    "mb_size = 10\n",
    "report = 1\n",
    "learning_rate = 0.001"
   ]
  },
  {
   "cell_type": "markdown",
   "metadata": {},
   "source": [
    "# Declare model instance"
   ]
  },
  {
   "cell_type": "code",
   "execution_count": 2,
   "metadata": {},
   "outputs": [],
   "source": [
    "import model_def\n",
    "\n",
    "model = model_def.model(input_count=input_count, output_count=output_count, rnd_mean=rnd_mean, rnd_std=rnd_std, m_type=m_type, adjust=adjust)\n",
    "model.default_randomize()"
   ]
  },
  {
   "cell_type": "markdown",
   "metadata": {},
   "source": [
    "# Main function"
   ]
  },
  {
   "cell_type": "code",
   "execution_count": 3,
   "metadata": {},
   "outputs": [
    {
     "name": "stdout",
     "output_type": "stream",
     "text": [
      "[Epoch 01] loss: 15.984 | results: 0.306 / 0.320\n",
      "[Epoch 02] loss: 15.509 | results: 0.326 / 0.197\n",
      "[Epoch 03] loss: 15.984 | results: 0.306 / 0.348\n",
      "[Epoch 04] loss: 15.004 | results: 0.348 / 0.197\n",
      "[Epoch 05] loss: 15.286 | results: 0.336 / 0.202\n",
      "[Epoch 06] loss: 15.390 | results: 0.332 / 0.440\n",
      "[Epoch 07] loss: 15.509 | results: 0.326 / 0.442\n",
      "[Epoch 08] loss: 15.628 | results: 0.321 / 0.455\n",
      "[Epoch 09] loss: 15.360 | results: 0.333 / 0.322\n",
      "[Epoch 10] loss: 15.316 | results: 0.335 / 0.455\n",
      "\n",
      "[Final Test] final results: 0.455\n"
     ]
    }
   ],
   "source": [
    "model.load_dataset(3)\n",
    "model.init_model()\n",
    "model.train_and_test(epoch, mb_size, report, learning_rate)"
   ]
  }
 ],
 "metadata": {
  "interpreter": {
   "hash": "06ea3eee441606c3ca59f2ad3b0acaee2e7e209cf86bb330bdfaf882da5e9d54"
  },
  "kernelspec": {
   "display_name": "Python 3.9.7 64-bit ('nalcoding': conda)",
   "language": "python",
   "name": "python3"
  },
  "language_info": {
   "codemirror_mode": {
    "name": "ipython",
    "version": 3
   },
   "file_extension": ".py",
   "mimetype": "text/x-python",
   "name": "python",
   "nbconvert_exporter": "python",
   "pygments_lexer": "ipython3",
   "version": "3.9.7"
  },
  "orig_nbformat": 4
 },
 "nbformat": 4,
 "nbformat_minor": 2
}
