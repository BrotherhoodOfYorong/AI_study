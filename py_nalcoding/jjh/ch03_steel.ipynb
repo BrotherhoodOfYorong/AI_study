{
 "cells": [
  {
   "cell_type": "markdown",
   "metadata": {},
   "source": [
    "# Hyperparameters"
   ]
  },
  {
   "cell_type": "code",
   "execution_count": null,
   "metadata": {},
   "outputs": [],
   "source": [
    "# Hyperparameters\n",
    "input_count = 27\n",
    "output_count = 7\n",
    "rnd_mean = 0\n",
    "rnd_std = 0.0030\n",
    "m_type = 'classification'\n",
    "adjust = True\n",
    "\n",
    "# Hyperparameters for train\n",
    "epoch = 10\n",
    "mb_size = 10\n",
    "report = 1\n",
    "learning_rate = 0.001"
   ]
  },
  {
   "cell_type": "markdown",
   "metadata": {},
   "source": [
    "# Declare model instance"
   ]
  },
  {
   "cell_type": "code",
   "execution_count": null,
   "metadata": {},
   "outputs": [],
   "source": [
    "import model_def\n",
    "\n",
    "model = model_def.model(input_count=input_count, output_count=output_count, rnd_mean=rnd_mean, rnd_std=rnd_std, m_type=m_type, adjust=adjust)\n",
    "model.default_randomize()"
   ]
  },
  {
   "cell_type": "markdown",
   "metadata": {},
   "source": [
    "# Main function"
   ]
  },
  {
   "cell_type": "markdown",
   "metadata": {},
   "source": []
  }
 ],
 "metadata": {
  "interpreter": {
   "hash": "06ea3eee441606c3ca59f2ad3b0acaee2e7e209cf86bb330bdfaf882da5e9d54"
  },
  "kernelspec": {
   "display_name": "Python 3.9.7 64-bit ('nalcoding': conda)",
   "language": "python",
   "name": "python3"
  },
  "language_info": {
   "name": "python",
   "version": "3.9.7"
  },
  "orig_nbformat": 4
 },
 "nbformat": 4,
 "nbformat_minor": 2
}
