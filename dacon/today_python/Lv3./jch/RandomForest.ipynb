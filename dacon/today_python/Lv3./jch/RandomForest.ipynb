{
 "cells": [
  {
   "cell_type": "code",
   "execution_count": 18,
   "id": "e71f2d51",
   "metadata": {},
   "outputs": [],
   "source": [
    "# 모델 정의\n",
    "from sklearn.ensemble import RandomForestClassifier\n",
    "\n",
    "random_classifier = RandomForestClassifier()"
   ]
  },
  {
   "cell_type": "code",
   "execution_count": 19,
   "id": "4b0e21c3",
   "metadata": {},
   "outputs": [
    {
     "data": {
      "text/plain": [
       "RandomForestClassifier()"
      ]
     },
     "execution_count": 19,
     "metadata": {},
     "output_type": "execute_result"
    }
   ],
   "source": [
    "random_classifier"
   ]
  },
  {
   "cell_type": "code",
   "execution_count": 20,
   "id": "36be3b97",
   "metadata": {},
   "outputs": [],
   "source": [
    "# 데이터 불러오기\n",
    "import pandas as pd\n",
    "\n",
    "train = pd.read_csv('data/train.csv')\n",
    "test = pd.read_csv('data/test.csv')"
   ]
  },
  {
   "cell_type": "code",
   "execution_count": 21,
   "id": "80672c8a",
   "metadata": {},
   "outputs": [],
   "source": [
    "# 데이터 전처리\n",
    "from sklearn.preprocessing import MinMaxScaler, OneHotEncoder\n",
    "\n",
    "# MinMaxScailing\n",
    "scaler = MinMaxScaler()\n",
    "scaler.fit(train[['fixed acidity']])\n",
    "train['Scaled fixed acidity'] = scaler.transform(train[['fixed acidity']])\n",
    "\n",
    "# Ont-hot encoding\n",
    "encoder = OneHotEncoder()\n",
    "encoder.fit(train[['type']])\n",
    "\n",
    "onehot = encoder.transform(train[['type']])\n",
    "onehot = onehot.toarray()\n",
    "onehot = pd.DataFrame(onehot)\n",
    "onehot.columns = encoder.get_feature_names()\n",
    "\n",
    "train = pd.concat([train, onehot], axis = 1)\n",
    "train = train.drop(columns = ['type'])"
   ]
  },
  {
   "cell_type": "code",
   "execution_count": 22,
   "id": "1a1661d5",
   "metadata": {},
   "outputs": [
    {
     "data": {
      "text/html": [
       "<div>\n",
       "<style scoped>\n",
       "    .dataframe tbody tr th:only-of-type {\n",
       "        vertical-align: middle;\n",
       "    }\n",
       "\n",
       "    .dataframe tbody tr th {\n",
       "        vertical-align: top;\n",
       "    }\n",
       "\n",
       "    .dataframe thead th {\n",
       "        text-align: right;\n",
       "    }\n",
       "</style>\n",
       "<table border=\"1\" class=\"dataframe\">\n",
       "  <thead>\n",
       "    <tr style=\"text-align: right;\">\n",
       "      <th></th>\n",
       "      <th>index</th>\n",
       "      <th>quality</th>\n",
       "      <th>fixed acidity</th>\n",
       "      <th>volatile acidity</th>\n",
       "      <th>citric acid</th>\n",
       "      <th>residual sugar</th>\n",
       "      <th>chlorides</th>\n",
       "      <th>free sulfur dioxide</th>\n",
       "      <th>total sulfur dioxide</th>\n",
       "      <th>density</th>\n",
       "      <th>pH</th>\n",
       "      <th>sulphates</th>\n",
       "      <th>alcohol</th>\n",
       "      <th>Scaled fixed acidity</th>\n",
       "      <th>x0_red</th>\n",
       "      <th>x0_white</th>\n",
       "    </tr>\n",
       "  </thead>\n",
       "  <tbody>\n",
       "    <tr>\n",
       "      <th>0</th>\n",
       "      <td>0</td>\n",
       "      <td>5</td>\n",
       "      <td>5.6</td>\n",
       "      <td>0.695</td>\n",
       "      <td>0.06</td>\n",
       "      <td>6.8</td>\n",
       "      <td>0.042</td>\n",
       "      <td>9.0</td>\n",
       "      <td>84.0</td>\n",
       "      <td>0.99432</td>\n",
       "      <td>3.44</td>\n",
       "      <td>0.44</td>\n",
       "      <td>10.2</td>\n",
       "      <td>0.148760</td>\n",
       "      <td>0.0</td>\n",
       "      <td>1.0</td>\n",
       "    </tr>\n",
       "    <tr>\n",
       "      <th>1</th>\n",
       "      <td>1</td>\n",
       "      <td>5</td>\n",
       "      <td>8.8</td>\n",
       "      <td>0.610</td>\n",
       "      <td>0.14</td>\n",
       "      <td>2.4</td>\n",
       "      <td>0.067</td>\n",
       "      <td>10.0</td>\n",
       "      <td>42.0</td>\n",
       "      <td>0.99690</td>\n",
       "      <td>3.19</td>\n",
       "      <td>0.59</td>\n",
       "      <td>9.5</td>\n",
       "      <td>0.413223</td>\n",
       "      <td>1.0</td>\n",
       "      <td>0.0</td>\n",
       "    </tr>\n",
       "    <tr>\n",
       "      <th>2</th>\n",
       "      <td>2</td>\n",
       "      <td>5</td>\n",
       "      <td>7.9</td>\n",
       "      <td>0.210</td>\n",
       "      <td>0.39</td>\n",
       "      <td>2.0</td>\n",
       "      <td>0.057</td>\n",
       "      <td>21.0</td>\n",
       "      <td>138.0</td>\n",
       "      <td>0.99176</td>\n",
       "      <td>3.05</td>\n",
       "      <td>0.52</td>\n",
       "      <td>10.9</td>\n",
       "      <td>0.338843</td>\n",
       "      <td>0.0</td>\n",
       "      <td>1.0</td>\n",
       "    </tr>\n",
       "    <tr>\n",
       "      <th>3</th>\n",
       "      <td>3</td>\n",
       "      <td>6</td>\n",
       "      <td>7.0</td>\n",
       "      <td>0.210</td>\n",
       "      <td>0.31</td>\n",
       "      <td>6.0</td>\n",
       "      <td>0.046</td>\n",
       "      <td>29.0</td>\n",
       "      <td>108.0</td>\n",
       "      <td>0.99390</td>\n",
       "      <td>3.26</td>\n",
       "      <td>0.50</td>\n",
       "      <td>10.8</td>\n",
       "      <td>0.264463</td>\n",
       "      <td>0.0</td>\n",
       "      <td>1.0</td>\n",
       "    </tr>\n",
       "    <tr>\n",
       "      <th>4</th>\n",
       "      <td>4</td>\n",
       "      <td>6</td>\n",
       "      <td>7.8</td>\n",
       "      <td>0.400</td>\n",
       "      <td>0.26</td>\n",
       "      <td>9.5</td>\n",
       "      <td>0.059</td>\n",
       "      <td>32.0</td>\n",
       "      <td>178.0</td>\n",
       "      <td>0.99550</td>\n",
       "      <td>3.04</td>\n",
       "      <td>0.43</td>\n",
       "      <td>10.9</td>\n",
       "      <td>0.330579</td>\n",
       "      <td>0.0</td>\n",
       "      <td>1.0</td>\n",
       "    </tr>\n",
       "    <tr>\n",
       "      <th>...</th>\n",
       "      <td>...</td>\n",
       "      <td>...</td>\n",
       "      <td>...</td>\n",
       "      <td>...</td>\n",
       "      <td>...</td>\n",
       "      <td>...</td>\n",
       "      <td>...</td>\n",
       "      <td>...</td>\n",
       "      <td>...</td>\n",
       "      <td>...</td>\n",
       "      <td>...</td>\n",
       "      <td>...</td>\n",
       "      <td>...</td>\n",
       "      <td>...</td>\n",
       "      <td>...</td>\n",
       "      <td>...</td>\n",
       "    </tr>\n",
       "    <tr>\n",
       "      <th>5492</th>\n",
       "      <td>5492</td>\n",
       "      <td>5</td>\n",
       "      <td>7.7</td>\n",
       "      <td>0.150</td>\n",
       "      <td>0.29</td>\n",
       "      <td>1.3</td>\n",
       "      <td>0.029</td>\n",
       "      <td>10.0</td>\n",
       "      <td>64.0</td>\n",
       "      <td>0.99320</td>\n",
       "      <td>3.35</td>\n",
       "      <td>0.39</td>\n",
       "      <td>10.1</td>\n",
       "      <td>0.322314</td>\n",
       "      <td>0.0</td>\n",
       "      <td>1.0</td>\n",
       "    </tr>\n",
       "    <tr>\n",
       "      <th>5493</th>\n",
       "      <td>5493</td>\n",
       "      <td>6</td>\n",
       "      <td>6.3</td>\n",
       "      <td>0.180</td>\n",
       "      <td>0.36</td>\n",
       "      <td>1.2</td>\n",
       "      <td>0.034</td>\n",
       "      <td>26.0</td>\n",
       "      <td>111.0</td>\n",
       "      <td>0.99074</td>\n",
       "      <td>3.16</td>\n",
       "      <td>0.51</td>\n",
       "      <td>11.0</td>\n",
       "      <td>0.206612</td>\n",
       "      <td>0.0</td>\n",
       "      <td>1.0</td>\n",
       "    </tr>\n",
       "    <tr>\n",
       "      <th>5494</th>\n",
       "      <td>5494</td>\n",
       "      <td>7</td>\n",
       "      <td>7.8</td>\n",
       "      <td>0.150</td>\n",
       "      <td>0.34</td>\n",
       "      <td>1.1</td>\n",
       "      <td>0.035</td>\n",
       "      <td>31.0</td>\n",
       "      <td>93.0</td>\n",
       "      <td>0.99096</td>\n",
       "      <td>3.07</td>\n",
       "      <td>0.72</td>\n",
       "      <td>11.3</td>\n",
       "      <td>0.330579</td>\n",
       "      <td>0.0</td>\n",
       "      <td>1.0</td>\n",
       "    </tr>\n",
       "    <tr>\n",
       "      <th>5495</th>\n",
       "      <td>5495</td>\n",
       "      <td>5</td>\n",
       "      <td>6.6</td>\n",
       "      <td>0.410</td>\n",
       "      <td>0.31</td>\n",
       "      <td>1.6</td>\n",
       "      <td>0.042</td>\n",
       "      <td>18.0</td>\n",
       "      <td>101.0</td>\n",
       "      <td>0.99195</td>\n",
       "      <td>3.13</td>\n",
       "      <td>0.41</td>\n",
       "      <td>10.5</td>\n",
       "      <td>0.231405</td>\n",
       "      <td>0.0</td>\n",
       "      <td>1.0</td>\n",
       "    </tr>\n",
       "    <tr>\n",
       "      <th>5496</th>\n",
       "      <td>5496</td>\n",
       "      <td>6</td>\n",
       "      <td>7.0</td>\n",
       "      <td>0.350</td>\n",
       "      <td>0.17</td>\n",
       "      <td>1.1</td>\n",
       "      <td>0.049</td>\n",
       "      <td>7.0</td>\n",
       "      <td>119.0</td>\n",
       "      <td>0.99297</td>\n",
       "      <td>3.13</td>\n",
       "      <td>0.36</td>\n",
       "      <td>9.7</td>\n",
       "      <td>0.264463</td>\n",
       "      <td>0.0</td>\n",
       "      <td>1.0</td>\n",
       "    </tr>\n",
       "  </tbody>\n",
       "</table>\n",
       "<p>5497 rows × 16 columns</p>\n",
       "</div>"
      ],
      "text/plain": [
       "      index  quality  fixed acidity  volatile acidity  citric acid  \\\n",
       "0         0        5            5.6             0.695         0.06   \n",
       "1         1        5            8.8             0.610         0.14   \n",
       "2         2        5            7.9             0.210         0.39   \n",
       "3         3        6            7.0             0.210         0.31   \n",
       "4         4        6            7.8             0.400         0.26   \n",
       "...     ...      ...            ...               ...          ...   \n",
       "5492   5492        5            7.7             0.150         0.29   \n",
       "5493   5493        6            6.3             0.180         0.36   \n",
       "5494   5494        7            7.8             0.150         0.34   \n",
       "5495   5495        5            6.6             0.410         0.31   \n",
       "5496   5496        6            7.0             0.350         0.17   \n",
       "\n",
       "      residual sugar  chlorides  free sulfur dioxide  total sulfur dioxide  \\\n",
       "0                6.8      0.042                  9.0                  84.0   \n",
       "1                2.4      0.067                 10.0                  42.0   \n",
       "2                2.0      0.057                 21.0                 138.0   \n",
       "3                6.0      0.046                 29.0                 108.0   \n",
       "4                9.5      0.059                 32.0                 178.0   \n",
       "...              ...        ...                  ...                   ...   \n",
       "5492             1.3      0.029                 10.0                  64.0   \n",
       "5493             1.2      0.034                 26.0                 111.0   \n",
       "5494             1.1      0.035                 31.0                  93.0   \n",
       "5495             1.6      0.042                 18.0                 101.0   \n",
       "5496             1.1      0.049                  7.0                 119.0   \n",
       "\n",
       "      density    pH  sulphates  alcohol  Scaled fixed acidity  x0_red  \\\n",
       "0     0.99432  3.44       0.44     10.2              0.148760     0.0   \n",
       "1     0.99690  3.19       0.59      9.5              0.413223     1.0   \n",
       "2     0.99176  3.05       0.52     10.9              0.338843     0.0   \n",
       "3     0.99390  3.26       0.50     10.8              0.264463     0.0   \n",
       "4     0.99550  3.04       0.43     10.9              0.330579     0.0   \n",
       "...       ...   ...        ...      ...                   ...     ...   \n",
       "5492  0.99320  3.35       0.39     10.1              0.322314     0.0   \n",
       "5493  0.99074  3.16       0.51     11.0              0.206612     0.0   \n",
       "5494  0.99096  3.07       0.72     11.3              0.330579     0.0   \n",
       "5495  0.99195  3.13       0.41     10.5              0.231405     0.0   \n",
       "5496  0.99297  3.13       0.36      9.7              0.264463     0.0   \n",
       "\n",
       "      x0_white  \n",
       "0          1.0  \n",
       "1          0.0  \n",
       "2          1.0  \n",
       "3          1.0  \n",
       "4          1.0  \n",
       "...        ...  \n",
       "5492       1.0  \n",
       "5493       1.0  \n",
       "5494       1.0  \n",
       "5495       1.0  \n",
       "5496       1.0  \n",
       "\n",
       "[5497 rows x 16 columns]"
      ]
     },
     "execution_count": 22,
     "metadata": {},
     "output_type": "execute_result"
    }
   ],
   "source": [
    "train"
   ]
  },
  {
   "cell_type": "code",
   "execution_count": 23,
   "id": "8cfe32b6",
   "metadata": {},
   "outputs": [],
   "source": [
    "X = train.drop(columns = ['quality'])\n",
    "Y = train['quality']"
   ]
  },
  {
   "cell_type": "code",
   "execution_count": 26,
   "id": "9eeae5e1",
   "metadata": {},
   "outputs": [
    {
     "data": {
      "text/plain": [
       "RandomForestClassifier()"
      ]
     },
     "execution_count": 26,
     "metadata": {},
     "output_type": "execute_result"
    }
   ],
   "source": [
    "random_classifier.fit(X, Y)"
   ]
  },
  {
   "cell_type": "code",
   "execution_count": 34,
   "id": "81c8f51f",
   "metadata": {},
   "outputs": [],
   "source": [
    "# 교차 검증\n",
    "from sklearn.model_selection import KFold\n",
    "\n",
    "kf = KFold(n_splits = 5, shuffle = True, random_state = 0)\n",
    "\n",
    "for train_idx, valid_idx in kf.split(train):\n",
    "    train_data = train.iloc[train_idx]\n",
    "    valid_data = train.iloc[valid_idx]"
   ]
  },
  {
   "cell_type": "code",
   "execution_count": 46,
   "id": "c26d620a",
   "metadata": {},
   "outputs": [
    {
     "data": {
      "image/png": "[encoded data removed]",
      "text/plain": [
       "<Figure size 432x288 with 1 Axes>"
      ]
     },
     "metadata": {
      "needs_background": "light"
     },
     "output_type": "display_data"
    }
   ],
   "source": [
    "# 교차 검증 데이터 시각화\n",
    "import matplotlib.pyplot as plt\n",
    "\n",
    "kf = KFold(n_splits = 5, shuffle = False)\n",
    "train_idx_store = []\n",
    "valid_idx_store = []\n",
    "\n",
    "i = 1\n",
    "for train_idx, valid_idx in kf.split(train):\n",
    "    plt.scatter(valid_idx, [i for x in range(len(valid_idx))], alpha = 0.1)\n",
    "    i += 1\n",
    "plt.show()"
   ]
  },
  {
   "cell_type": "code",
   "execution_count": 48,
   "id": "f41434c5",
   "metadata": {},
   "outputs": [],
   "source": [
    "X = train.drop(columns = ['index', 'quality'])\n",
    "Y = train['quality']\n",
    "\n",
    "kf = KFold(n_splits = 5, shuffle = True, random_state = 0)"
   ]
  },
  {
   "cell_type": "code",
   "execution_count": 49,
   "id": "7639b67b",
   "metadata": {},
   "outputs": [],
   "source": [
    "model = RandomForestClassifier(random_state = 0)\n",
    "valid_scores = []\n",
    "test_predictions = []"
   ]
  },
  {
   "cell_type": "code",
   "execution_count": 52,
   "id": "c7b43bf9",
   "metadata": {},
   "outputs": [
    {
     "name": "stdout",
     "output_type": "stream",
     "text": [
      "0.69\n",
      "평균 점수 : 0.69\n",
      "0.6663636363636364\n",
      "평균 점수 : 0.6821212121212121\n",
      "0.6569608735213831\n",
      "평균 점수 : 0.6758311274712548\n",
      "0.6760691537761602\n",
      "평균 점수 : 0.675878732732236\n",
      "0.6715195632393085\n",
      "평균 점수 : 0.6751522044834147\n"
     ]
    }
   ],
   "source": [
    "import numpy as np\n",
    "from sklearn.metrics import accuracy_score\n",
    "\n",
    "for train_idx, valid_idx in kf.split(X, Y):\n",
    "    X_tr = X.iloc[train_idx]\n",
    "    Y_tr = Y.iloc[train_idx]\n",
    "    X_val = X.iloc[valid_idx]\n",
    "    Y_val = Y.iloc[valid_idx]\n",
    "    model.fit(X_tr, Y_tr)\n",
    "    \n",
    "    valid_prediction = model.predict(X_val)\n",
    "    score = accuracy_score(Y_val, valid_prediction)\n",
    "    valid_scores.append(score)\n",
    "    print(score)\n",
    "    print('평균 점수 :', np.mean(valid_scores))"
   ]
  },
  {
   "cell_type": "code",
   "execution_count": 58,
   "id": "13726fa4",
   "metadata": {},
   "outputs": [],
   "source": [
    "train = pd.read_csv('data/train.csv')\n",
    "test = pd.read_csv('data/test.csv')\n",
    "\n",
    "# Scailing\n",
    "scaler = MinMaxScaler()\n",
    "scaler.fit(train[['fixed acidity']])\n",
    "train['Scaled fixed acidity'] = scaler.transform(train[['fixed acidity']])\n",
    "test['Scaled fixed acidity'] = scaler.transform(test[['fixed acidity']])\n",
    "\n",
    "# Encoding\n",
    "encoder = OneHotEncoder()\n",
    "encoder.fit(train[['type']])\n",
    "\n",
    "onehot = encoder.transform(train[['type']])\n",
    "onehot = onehot.toarray()\n",
    "onehot = pd.DataFrame(onehot)\n",
    "onehot.columns = encoder.get_feature_names()\n",
    "train = pd.concat([train, onehot], axis = 1)\n",
    "train = train.drop(columns = ['type'])\n",
    "\n",
    "onehot = encoder.transform(test[['type']])\n",
    "onehot = onehot.toarray()\n",
    "onehot = pd.DataFrame(onehot)\n",
    "onehot.columns = encoder.get_feature_names()\n",
    "test = pd.concat([test, onehot], axis = 1)\n",
    "test = test.drop(columns = ['type'])"
   ]
  },
  {
   "cell_type": "code",
   "execution_count": 59,
   "id": "3f4a4721",
   "metadata": {},
   "outputs": [],
   "source": [
    "for train_idx, valid_idx in kf.split(X, Y):\n",
    "    X_tr = X.iloc[train_idx]\n",
    "    Y_tr = Y.iloc[train_idx]\n",
    "    X_val = X.iloc[valid_idx]\n",
    "    Y_val = Y.iloc[valid_idx]\n",
    "    model.fit(X_tr, Y_tr)\n",
    "    \n",
    "    test_prediction = model.predict(test.drop(columns = ['index']))\n",
    "    test_predictions.append(test_prediction)"
   ]
  },
  {
   "cell_type": "code",
   "execution_count": 61,
   "id": "d495d89f",
   "metadata": {},
   "outputs": [],
   "source": [
    "test_predictions = pd.DataFrame(test_predictions)"
   ]
  },
  {
   "cell_type": "code",
   "execution_count": 63,
   "id": "d90d073f",
   "metadata": {},
   "outputs": [],
   "source": [
    "test_prediction = test_predictions.mode()"
   ]
  },
  {
   "cell_type": "code",
   "execution_count": 67,
   "id": "a3d2dcd1",
   "metadata": {},
   "outputs": [],
   "source": [
    "test_prediction = test_predictions.values[0]"
   ]
  },
  {
   "cell_type": "code",
   "execution_count": 71,
   "id": "eff50dbd",
   "metadata": {},
   "outputs": [],
   "source": [
    "sample_submission = pd.read_csv('data/sample_submission.csv')\n",
    "sample_submission['quality'] = test_prediction\n",
    "sample_submission.to_csv('data/submission_KFOLD.csv', index = False)"
   ]
  },
  {
   "cell_type": "code",
   "execution_count": 72,
   "id": "ce9fb0dc",
   "metadata": {},
   "outputs": [],
   "source": [
    "# Bayesian Optimization\n",
    "from bayes_opt import BayesianOptimization\n",
    "\n",
    "X = train.drop(columns = ['index', 'quality'])\n",
    "Y = train['quality']\n",
    "\n",
    "rf_parameter_bounds = {\n",
    "    'max_depth': (1, 3),\n",
    "    'n_estimators': (30, 100)\n",
    "}"
   ]
  },
  {
   "cell_type": "code",
   "execution_count": 77,
   "id": "f770c29e",
   "metadata": {},
   "outputs": [],
   "source": [
    "from sklearn.model_selection import train_test_split\n",
    "\n",
    "def rf_bo(max_depth, n_estimators):\n",
    "    rf_params = {\n",
    "        'max_depth': int(round(max_depth)),\n",
    "        'n_estimators': int(round(n_estimators))\n",
    "    }\n",
    "    \n",
    "    rf = RandomForestClassifier(**rf_params)\n",
    "    \n",
    "    X_train, X_valid, Y_train, Y_valid = train_test_split(X, Y, test_size = 0.2)\n",
    "    \n",
    "    rf.fit(X_train, Y_train)\n",
    "    score = accuracy_score(Y_valid, rf.predict(X_valid))\n",
    "    return score"
   ]
  },
  {
   "cell_type": "code",
   "execution_count": 78,
   "id": "ca16a459",
   "metadata": {},
   "outputs": [
    {
     "name": "stdout",
     "output_type": "stream",
     "text": [
      "|   iter    |  target   | max_depth | n_esti... |\n",
      "-------------------------------------------------\n",
      "| \u001b[0m 1       \u001b[0m | \u001b[0m 0.5327  \u001b[0m | \u001b[0m 2.098   \u001b[0m | \u001b[0m 80.06   \u001b[0m |\n",
      "| \u001b[95m 2       \u001b[0m | \u001b[95m 0.54    \u001b[0m | \u001b[95m 2.206   \u001b[0m | \u001b[95m 68.14   \u001b[0m |\n",
      "| \u001b[0m 3       \u001b[0m | \u001b[0m 0.5082  \u001b[0m | \u001b[0m 1.847   \u001b[0m | \u001b[0m 75.21   \u001b[0m |\n",
      "| \u001b[0m 4       \u001b[0m | \u001b[0m 0.5336  \u001b[0m | \u001b[0m 1.875   \u001b[0m | \u001b[0m 92.42   \u001b[0m |\n",
      "| \u001b[0m 5       \u001b[0m | \u001b[0m 0.5209  \u001b[0m | \u001b[0m 2.927   \u001b[0m | \u001b[0m 56.84   \u001b[0m |\n",
      "| \u001b[0m 6       \u001b[0m | \u001b[0m 0.4573  \u001b[0m | \u001b[0m 1.018   \u001b[0m | \u001b[0m 48.01   \u001b[0m |\n",
      "| \u001b[0m 7       \u001b[0m | \u001b[0m 0.5264  \u001b[0m | \u001b[0m 2.07    \u001b[0m | \u001b[0m 80.1    \u001b[0m |\n",
      "| \u001b[0m 8       \u001b[0m | \u001b[0m 0.5227  \u001b[0m | \u001b[0m 2.213   \u001b[0m | \u001b[0m 68.18   \u001b[0m |\n",
      "| \u001b[0m 9       \u001b[0m | \u001b[0m 0.5155  \u001b[0m | \u001b[0m 2.142   \u001b[0m | \u001b[0m 68.02   \u001b[0m |\n",
      "| \u001b[0m 10      \u001b[0m | \u001b[0m 0.5373  \u001b[0m | \u001b[0m 2.24    \u001b[0m | \u001b[0m 68.19   \u001b[0m |\n",
      "=================================================\n"
     ]
    }
   ],
   "source": [
    "BO_rf = BayesianOptimization(f = rf_bo, pbounds = rf_parameter_bounds, random_state = 0)\n",
    "BO_rf.maximize(init_points = 5, n_iter = 5)"
   ]
  },
  {
   "cell_type": "code",
   "execution_count": 79,
   "id": "97452229",
   "metadata": {},
   "outputs": [
    {
     "name": "stdout",
     "output_type": "stream",
     "text": [
      "{'max_depth': 2, 'n_estimators': 68}\n"
     ]
    }
   ],
   "source": [
    "max_params = BO_rf.max['params']\n",
    "max_params['max_depth'] = int(max_params['max_depth'])\n",
    "max_params['n_estimators'] = int(max_params['n_estimators'])\n",
    "print(max_params)\n",
    "\n",
    "BO_tuend_rf = RandomForestClassifier(**max_params)"
   ]
  },
  {
   "cell_type": "code",
   "execution_count": null,
   "id": "022b6d76",
   "metadata": {},
   "outputs": [],
   "source": []
  }
 ],
 "metadata": {
  "kernelspec": {
   "display_name": "Python 3 (ipykernel)",
   "language": "python",
   "name": "python3"
  },
  "language_info": {
   "codemirror_mode": {
    "name": "ipython",
    "version": 3
   },
   "file_extension": ".py",
   "mimetype": "text/x-python",
   "name": "python",
   "nbconvert_exporter": "python",
   "pygments_lexer": "ipython3",
   "version": "3.9.7"
  }
 },
 "nbformat": 4,
 "nbformat_minor": 5
}
