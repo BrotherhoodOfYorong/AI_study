{
 "cells": [
  {
   "cell_type": "markdown",
   "metadata": {},
   "source": [
    "# 랜덤포레스트 정의"
   ]
  },
  {
   "cell_type": "code",
   "execution_count": 1,
   "metadata": {},
   "outputs": [],
   "source": [
    "from sklearn.ensemble import RandomForestClassifier\n",
    "\n",
    "random_forest = RandomForestClassifier()"
   ]
  },
  {
   "cell_type": "markdown",
   "metadata": {},
   "source": [
    "# 랜덤포레스트 실습"
   ]
  },
  {
   "cell_type": "code",
   "execution_count": 2,
   "metadata": {},
   "outputs": [],
   "source": [
    "import pandas as pd\n",
    "from sklearn.preprocessing import MinMaxScaler, OneHotEncoder\n",
    "\n",
    "train = pd.read_csv('./data/train.csv')\n",
    "test = pd.read_csv('./data/test.csv')"
   ]
  },
  {
   "cell_type": "code",
   "execution_count": 3,
   "metadata": {},
   "outputs": [],
   "source": [
    "# 스케일링\n",
    "scaler = MinMaxScaler()\n",
    "scaler.fit(train[['fixed acidity']])\n",
    "train['Scaled fixed acidity'] = scaler.transform(train[['fixed acidity']])\n",
    "\n",
    "# 인코딩\n",
    "encoder = OneHotEncoder()\n",
    "encoder.fit(train[['type']])\n",
    "onehot = encoder.transform(train[['type']])\n",
    "onehot = onehot.toarray()\n",
    "onehot = pd.DataFrame(onehot)\n",
    "onehot.columns = encoder.get_feature_names()\n",
    "train = pd.concat([train, onehot], axis=1)\n",
    "train = train.drop(columns=['type'])"
   ]
  },
  {
   "cell_type": "code",
   "execution_count": 4,
   "metadata": {},
   "outputs": [
    {
     "data": {
      "text/plain": [
       "RandomForestClassifier()"
      ]
     },
     "execution_count": 4,
     "metadata": {},
     "output_type": "execute_result"
    }
   ],
   "source": [
    "# 실습\n",
    "\n",
    "# x 변수에 train에 quality 컬럼을 제거한 데이터프레임 저장\n",
    "x = train.drop(columns=['quality'])\n",
    "\n",
    "# y 변수에 quality 저장(정답)\n",
    "y = train['quality']\n",
    "\n",
    "# 학습\n",
    "random_forest.fit(x, y)"
   ]
  },
  {
   "cell_type": "markdown",
   "metadata": {},
   "source": [
    "# 교차검증"
   ]
  },
  {
   "cell_type": "code",
   "execution_count": 5,
   "metadata": {},
   "outputs": [
    {
     "data": {
      "image/png": "[encoded data removed]",
      "text/plain": [
       "<Figure size 432x288 with 1 Axes>"
      ]
     },
     "metadata": {
      "needs_background": "light"
     },
     "output_type": "display_data"
    }
   ],
   "source": [
    "from sklearn.model_selection import KFold\n",
    "import matplotlib.pyplot as plt\n",
    "\n",
    "kf = KFold(n_splits=5, shuffle=True, random_state=None)\n",
    "\n",
    "i = 1\n",
    "for train_idx, valid_idx in kf.split(train):\n",
    "    train_data = train.iloc[train_idx]\n",
    "    valid_data = train.iloc[valid_idx]\n",
    "    plt.scatter(valid_idx, [i for _ in range(len(valid_idx))], alpha=0.1)\n",
    "    i += 1\n",
    "\n",
    "plt.show()"
   ]
  },
  {
   "cell_type": "markdown",
   "metadata": {},
   "source": [
    "# 교차검증 실습"
   ]
  },
  {
   "cell_type": "code",
   "execution_count": 6,
   "metadata": {},
   "outputs": [],
   "source": [
    "import numpy as np\n",
    "from sklearn.metrics import accuracy_score\n",
    "\n",
    "# train 데이터\n",
    "x = train.drop(columns=['index', 'quality'])\n",
    "y = train['quality']\n",
    "\n",
    "# test 데이터 전처리\n",
    "test['Scaled fixed acidity'] = scaler.transform(test[['fixed acidity']])\n",
    "onehot = encoder.transform(test[['type']])\n",
    "onehot = onehot.toarray()\n",
    "onehot = pd.DataFrame(onehot)\n",
    "onehot.columns = encoder.get_feature_names()\n",
    "test = pd.concat([test, onehot], axis=1)\n",
    "test = test.drop(columns=['type'])"
   ]
  },
  {
   "cell_type": "code",
   "execution_count": 13,
   "metadata": {},
   "outputs": [
    {
     "name": "stdout",
     "output_type": "stream",
     "text": [
      "valid score for dataset 1:  0.6827272727272727\n",
      "valid score for dataset 1:  0.6954545454545454\n",
      "valid score for dataset 1:  0.6642402183803457\n",
      "valid score for dataset 1:  0.6624203821656051\n",
      "valid score for dataset 1:  0.6669699727024567\n",
      "mean validation score:  0.6743624782860451\n"
     ]
    }
   ],
   "source": [
    "# 모델 생성\n",
    "model = RandomForestClassifier(random_state=None)\n",
    "valid_scores = []\n",
    "test_predictions = []\n",
    "\n",
    "# trainset, validset 나누고 훈련\n",
    "i=1\n",
    "for train_idx, valid_idx in kf.split(x, y):\n",
    "    x_tr = x.iloc[train_idx]\n",
    "    y_tr = y.iloc[train_idx]\n",
    "    x_val = x.iloc[valid_idx]\n",
    "    y_val = y.iloc[valid_idx]\n",
    "\n",
    "    # 나뉜 데이터셋으로 훈련\n",
    "    model.fit(x_tr, y_tr)\n",
    "\n",
    "    # 결과 저장\n",
    "    valid_prediction = model.predict(x_val)\n",
    "\n",
    "    # validation score\n",
    "    score = accuracy_score(y_val, valid_prediction)\n",
    "    valid_scores.append(score)\n",
    "    print('valid score for dataset %01d: '%i, score)\n",
    "\n",
    "    # 모델 테스트\n",
    "    test_prediction = model.predict(test.drop(columns=['index']))\n",
    "    test_predictions.append(test_prediction)\n",
    "    \n",
    "# 평균 validation score\n",
    "print('mean validation score: ', np.mean(valid_scores))"
   ]
  },
  {
   "cell_type": "code",
   "execution_count": 15,
   "metadata": {},
   "outputs": [],
   "source": [
    "# 테스트 결과들을 데이터프레임으로 변환\n",
    "test_predictions = pd.DataFrame(test_predictions)\n",
    "\n",
    "test_prediction = test_predictions.values[0]\n",
    "\n",
    "# 결과 저장\n",
    "sample_submission = pd.read_csv('./data/sample_submission.csv')\n",
    "sample_submission['quality'] = test_prediction\n",
    "sample_submission.to_csv('./data/submission_KFOLD.csv', index=False)"
   ]
  },
  {
   "cell_type": "code",
   "execution_count": null,
   "metadata": {},
   "outputs": [],
   "source": []
  }
 ],
 "metadata": {
  "interpreter": {
   "hash": "31f2aee4e71d21fbe5cf8b01ff0e069b9275f58929596ceb00d14d90e3e16cd6"
  },
  "kernelspec": {
   "display_name": "Python 3 (ipykernel)",
   "language": "python",
   "name": "python3"
  },
  "language_info": {
   "codemirror_mode": {
    "name": "ipython",
    "version": 3
   },
   "file_extension": ".py",
   "mimetype": "text/x-python",
   "name": "python",
   "nbconvert_exporter": "python",
   "pygments_lexer": "ipython3",
   "version": "3.8.10"
  }
 },
 "nbformat": 4,
 "nbformat_minor": 4
}
