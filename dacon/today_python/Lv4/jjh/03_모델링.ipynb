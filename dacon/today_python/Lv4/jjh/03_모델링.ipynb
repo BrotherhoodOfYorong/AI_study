{
 "cells": [
  {
   "cell_type": "markdown",
   "id": "a18b10be-d7b6-4b9b-9cc9-049be05df8f2",
   "metadata": {},
   "source": [
    "# XGBoost"
   ]
  },
  {
   "cell_type": "code",
   "execution_count": 1,
   "id": "fb5d6696-cddb-4b96-b3cc-a72a5a779608",
   "metadata": {
    "execution": {
     "iopub.execute_input": "2021-09-13T07:05:06.406451Z",
     "iopub.status.busy": "2021-09-13T07:05:06.406193Z",
     "iopub.status.idle": "2021-09-13T07:05:06.761003Z",
     "shell.execute_reply": "2021-09-13T07:05:06.760754Z",
     "shell.execute_reply.started": "2021-09-13T07:05:06.406403Z"
    },
    "tags": []
   },
   "outputs": [],
   "source": [
    "import pandas as pd\n",
    "from xgboost import XGBClassifier"
   ]
  },
  {
   "cell_type": "code",
   "execution_count": 2,
   "id": "7b345ea6-418c-46f0-9513-1aa9cc7a2ec0",
   "metadata": {
    "execution": {
     "iopub.execute_input": "2021-09-13T07:05:06.761468Z",
     "iopub.status.busy": "2021-09-13T07:05:06.761391Z",
     "iopub.status.idle": "2021-09-13T07:05:06.768675Z",
     "shell.execute_reply": "2021-09-13T07:05:06.768470Z",
     "shell.execute_reply.started": "2021-09-13T07:05:06.761458Z"
    },
    "tags": []
   },
   "outputs": [],
   "source": [
    "# 데이터 불러오기\n",
    "train = pd.read_csv('./data/train.csv')\n",
    "test = pd.read_csv('./data/test.csv')"
   ]
  },
  {
   "cell_type": "code",
   "execution_count": 3,
   "id": "7d05da20-fb80-4445-b720-5cf308701ee0",
   "metadata": {
    "execution": {
     "iopub.execute_input": "2021-09-13T07:05:06.769082Z",
     "iopub.status.busy": "2021-09-13T07:05:06.768990Z",
     "iopub.status.idle": "2021-09-13T07:05:06.778842Z",
     "shell.execute_reply": "2021-09-13T07:05:06.778658Z",
     "shell.execute_reply.started": "2021-09-13T07:05:06.769073Z"
    },
    "tags": []
   },
   "outputs": [
    {
     "data": {
      "text/html": [
       "<div>\n",
       "<style scoped>\n",
       "    .dataframe tbody tr th:only-of-type {\n",
       "        vertical-align: middle;\n",
       "    }\n",
       "\n",
       "    .dataframe tbody tr th {\n",
       "        vertical-align: top;\n",
       "    }\n",
       "\n",
       "    .dataframe thead th {\n",
       "        text-align: right;\n",
       "    }\n",
       "</style>\n",
       "<table border=\"1\" class=\"dataframe\">\n",
       "  <thead>\n",
       "    <tr style=\"text-align: right;\">\n",
       "      <th></th>\n",
       "      <th>index</th>\n",
       "      <th>quality</th>\n",
       "      <th>fixed acidity</th>\n",
       "      <th>volatile acidity</th>\n",
       "      <th>citric acid</th>\n",
       "      <th>residual sugar</th>\n",
       "      <th>chlorides</th>\n",
       "      <th>free sulfur dioxide</th>\n",
       "      <th>total sulfur dioxide</th>\n",
       "      <th>density</th>\n",
       "      <th>pH</th>\n",
       "      <th>sulphates</th>\n",
       "      <th>alcohol</th>\n",
       "      <th>type</th>\n",
       "    </tr>\n",
       "  </thead>\n",
       "  <tbody>\n",
       "    <tr>\n",
       "      <th>0</th>\n",
       "      <td>0</td>\n",
       "      <td>5</td>\n",
       "      <td>5.6</td>\n",
       "      <td>0.695</td>\n",
       "      <td>0.06</td>\n",
       "      <td>6.8</td>\n",
       "      <td>0.042</td>\n",
       "      <td>9.0</td>\n",
       "      <td>84.0</td>\n",
       "      <td>0.99432</td>\n",
       "      <td>3.44</td>\n",
       "      <td>0.44</td>\n",
       "      <td>10.2</td>\n",
       "      <td>white</td>\n",
       "    </tr>\n",
       "    <tr>\n",
       "      <th>1</th>\n",
       "      <td>1</td>\n",
       "      <td>5</td>\n",
       "      <td>8.8</td>\n",
       "      <td>0.610</td>\n",
       "      <td>0.14</td>\n",
       "      <td>2.4</td>\n",
       "      <td>0.067</td>\n",
       "      <td>10.0</td>\n",
       "      <td>42.0</td>\n",
       "      <td>0.99690</td>\n",
       "      <td>3.19</td>\n",
       "      <td>0.59</td>\n",
       "      <td>9.5</td>\n",
       "      <td>red</td>\n",
       "    </tr>\n",
       "    <tr>\n",
       "      <th>2</th>\n",
       "      <td>2</td>\n",
       "      <td>5</td>\n",
       "      <td>7.9</td>\n",
       "      <td>0.210</td>\n",
       "      <td>0.39</td>\n",
       "      <td>2.0</td>\n",
       "      <td>0.057</td>\n",
       "      <td>21.0</td>\n",
       "      <td>138.0</td>\n",
       "      <td>0.99176</td>\n",
       "      <td>3.05</td>\n",
       "      <td>0.52</td>\n",
       "      <td>10.9</td>\n",
       "      <td>white</td>\n",
       "    </tr>\n",
       "    <tr>\n",
       "      <th>3</th>\n",
       "      <td>3</td>\n",
       "      <td>6</td>\n",
       "      <td>7.0</td>\n",
       "      <td>0.210</td>\n",
       "      <td>0.31</td>\n",
       "      <td>6.0</td>\n",
       "      <td>0.046</td>\n",
       "      <td>29.0</td>\n",
       "      <td>108.0</td>\n",
       "      <td>0.99390</td>\n",
       "      <td>3.26</td>\n",
       "      <td>0.50</td>\n",
       "      <td>10.8</td>\n",
       "      <td>white</td>\n",
       "    </tr>\n",
       "    <tr>\n",
       "      <th>4</th>\n",
       "      <td>4</td>\n",
       "      <td>6</td>\n",
       "      <td>7.8</td>\n",
       "      <td>0.400</td>\n",
       "      <td>0.26</td>\n",
       "      <td>9.5</td>\n",
       "      <td>0.059</td>\n",
       "      <td>32.0</td>\n",
       "      <td>178.0</td>\n",
       "      <td>0.99550</td>\n",
       "      <td>3.04</td>\n",
       "      <td>0.43</td>\n",
       "      <td>10.9</td>\n",
       "      <td>white</td>\n",
       "    </tr>\n",
       "  </tbody>\n",
       "</table>\n",
       "</div>"
      ],
      "text/plain": [
       "   index  quality  fixed acidity  volatile acidity  citric acid  \\\n",
       "0      0        5            5.6             0.695         0.06   \n",
       "1      1        5            8.8             0.610         0.14   \n",
       "2      2        5            7.9             0.210         0.39   \n",
       "3      3        6            7.0             0.210         0.31   \n",
       "4      4        6            7.8             0.400         0.26   \n",
       "\n",
       "   residual sugar  chlorides  free sulfur dioxide  total sulfur dioxide  \\\n",
       "0             6.8      0.042                  9.0                  84.0   \n",
       "1             2.4      0.067                 10.0                  42.0   \n",
       "2             2.0      0.057                 21.0                 138.0   \n",
       "3             6.0      0.046                 29.0                 108.0   \n",
       "4             9.5      0.059                 32.0                 178.0   \n",
       "\n",
       "   density    pH  sulphates  alcohol   type  \n",
       "0  0.99432  3.44       0.44     10.2  white  \n",
       "1  0.99690  3.19       0.59      9.5    red  \n",
       "2  0.99176  3.05       0.52     10.9  white  \n",
       "3  0.99390  3.26       0.50     10.8  white  \n",
       "4  0.99550  3.04       0.43     10.9  white  "
      ]
     },
     "execution_count": 3,
     "metadata": {},
     "output_type": "execute_result"
    }
   ],
   "source": [
    "# 데이터 확인\n",
    "train.head()"
   ]
  },
  {
   "cell_type": "code",
   "execution_count": 4,
   "id": "65e1add3-cca6-400a-bf56-5e1720830bf1",
   "metadata": {
    "execution": {
     "iopub.execute_input": "2021-09-13T07:05:06.779431Z",
     "iopub.status.busy": "2021-09-13T07:05:06.779357Z",
     "iopub.status.idle": "2021-09-13T07:05:06.789328Z",
     "shell.execute_reply": "2021-09-13T07:05:06.789144Z",
     "shell.execute_reply.started": "2021-09-13T07:05:06.779422Z"
    },
    "tags": []
   },
   "outputs": [
    {
     "data": {
      "text/html": [
       "<div>\n",
       "<style scoped>\n",
       "    .dataframe tbody tr th:only-of-type {\n",
       "        vertical-align: middle;\n",
       "    }\n",
       "\n",
       "    .dataframe tbody tr th {\n",
       "        vertical-align: top;\n",
       "    }\n",
       "\n",
       "    .dataframe thead th {\n",
       "        text-align: right;\n",
       "    }\n",
       "</style>\n",
       "<table border=\"1\" class=\"dataframe\">\n",
       "  <thead>\n",
       "    <tr style=\"text-align: right;\">\n",
       "      <th></th>\n",
       "      <th>index</th>\n",
       "      <th>quality</th>\n",
       "      <th>fixed acidity</th>\n",
       "      <th>volatile acidity</th>\n",
       "      <th>citric acid</th>\n",
       "      <th>residual sugar</th>\n",
       "      <th>chlorides</th>\n",
       "      <th>free sulfur dioxide</th>\n",
       "      <th>total sulfur dioxide</th>\n",
       "      <th>density</th>\n",
       "      <th>pH</th>\n",
       "      <th>sulphates</th>\n",
       "      <th>alcohol</th>\n",
       "      <th>type_red</th>\n",
       "      <th>type_white</th>\n",
       "    </tr>\n",
       "  </thead>\n",
       "  <tbody>\n",
       "    <tr>\n",
       "      <th>0</th>\n",
       "      <td>0</td>\n",
       "      <td>5</td>\n",
       "      <td>5.6</td>\n",
       "      <td>0.695</td>\n",
       "      <td>0.06</td>\n",
       "      <td>6.8</td>\n",
       "      <td>0.042</td>\n",
       "      <td>9.0</td>\n",
       "      <td>84.0</td>\n",
       "      <td>0.99432</td>\n",
       "      <td>3.44</td>\n",
       "      <td>0.44</td>\n",
       "      <td>10.2</td>\n",
       "      <td>0</td>\n",
       "      <td>1</td>\n",
       "    </tr>\n",
       "    <tr>\n",
       "      <th>1</th>\n",
       "      <td>1</td>\n",
       "      <td>5</td>\n",
       "      <td>8.8</td>\n",
       "      <td>0.610</td>\n",
       "      <td>0.14</td>\n",
       "      <td>2.4</td>\n",
       "      <td>0.067</td>\n",
       "      <td>10.0</td>\n",
       "      <td>42.0</td>\n",
       "      <td>0.99690</td>\n",
       "      <td>3.19</td>\n",
       "      <td>0.59</td>\n",
       "      <td>9.5</td>\n",
       "      <td>1</td>\n",
       "      <td>0</td>\n",
       "    </tr>\n",
       "    <tr>\n",
       "      <th>2</th>\n",
       "      <td>2</td>\n",
       "      <td>5</td>\n",
       "      <td>7.9</td>\n",
       "      <td>0.210</td>\n",
       "      <td>0.39</td>\n",
       "      <td>2.0</td>\n",
       "      <td>0.057</td>\n",
       "      <td>21.0</td>\n",
       "      <td>138.0</td>\n",
       "      <td>0.99176</td>\n",
       "      <td>3.05</td>\n",
       "      <td>0.52</td>\n",
       "      <td>10.9</td>\n",
       "      <td>0</td>\n",
       "      <td>1</td>\n",
       "    </tr>\n",
       "    <tr>\n",
       "      <th>3</th>\n",
       "      <td>3</td>\n",
       "      <td>6</td>\n",
       "      <td>7.0</td>\n",
       "      <td>0.210</td>\n",
       "      <td>0.31</td>\n",
       "      <td>6.0</td>\n",
       "      <td>0.046</td>\n",
       "      <td>29.0</td>\n",
       "      <td>108.0</td>\n",
       "      <td>0.99390</td>\n",
       "      <td>3.26</td>\n",
       "      <td>0.50</td>\n",
       "      <td>10.8</td>\n",
       "      <td>0</td>\n",
       "      <td>1</td>\n",
       "    </tr>\n",
       "    <tr>\n",
       "      <th>4</th>\n",
       "      <td>4</td>\n",
       "      <td>6</td>\n",
       "      <td>7.8</td>\n",
       "      <td>0.400</td>\n",
       "      <td>0.26</td>\n",
       "      <td>9.5</td>\n",
       "      <td>0.059</td>\n",
       "      <td>32.0</td>\n",
       "      <td>178.0</td>\n",
       "      <td>0.99550</td>\n",
       "      <td>3.04</td>\n",
       "      <td>0.43</td>\n",
       "      <td>10.9</td>\n",
       "      <td>0</td>\n",
       "      <td>1</td>\n",
       "    </tr>\n",
       "  </tbody>\n",
       "</table>\n",
       "</div>"
      ],
      "text/plain": [
       "   index  quality  fixed acidity  volatile acidity  citric acid  \\\n",
       "0      0        5            5.6             0.695         0.06   \n",
       "1      1        5            8.8             0.610         0.14   \n",
       "2      2        5            7.9             0.210         0.39   \n",
       "3      3        6            7.0             0.210         0.31   \n",
       "4      4        6            7.8             0.400         0.26   \n",
       "\n",
       "   residual sugar  chlorides  free sulfur dioxide  total sulfur dioxide  \\\n",
       "0             6.8      0.042                  9.0                  84.0   \n",
       "1             2.4      0.067                 10.0                  42.0   \n",
       "2             2.0      0.057                 21.0                 138.0   \n",
       "3             6.0      0.046                 29.0                 108.0   \n",
       "4             9.5      0.059                 32.0                 178.0   \n",
       "\n",
       "   density    pH  sulphates  alcohol  type_red  type_white  \n",
       "0  0.99432  3.44       0.44     10.2         0           1  \n",
       "1  0.99690  3.19       0.59      9.5         1           0  \n",
       "2  0.99176  3.05       0.52     10.9         0           1  \n",
       "3  0.99390  3.26       0.50     10.8         0           1  \n",
       "4  0.99550  3.04       0.43     10.9         0           1  "
      ]
     },
     "execution_count": 4,
     "metadata": {},
     "output_type": "execute_result"
    }
   ],
   "source": [
    "# 웟-핫 인코딩\n",
    "train_one = pd.get_dummies(train)\n",
    "test_one = pd.get_dummies(test)\n",
    "\n",
    "train_one.head()"
   ]
  },
  {
   "cell_type": "code",
   "execution_count": 5,
   "id": "4dd08184-3abf-43c6-80b9-549d79791a24",
   "metadata": {
    "execution": {
     "iopub.execute_input": "2021-09-13T07:05:06.789684Z",
     "iopub.status.busy": "2021-09-13T07:05:06.789612Z",
     "iopub.status.idle": "2021-09-13T07:05:06.791042Z",
     "shell.execute_reply": "2021-09-13T07:05:06.790842Z",
     "shell.execute_reply.started": "2021-09-13T07:05:06.789676Z"
    },
    "tags": []
   },
   "outputs": [],
   "source": [
    "# 모델 객체 생성\n",
    "model = XGBClassifier()"
   ]
  },
  {
   "cell_type": "code",
   "execution_count": 6,
   "id": "8ecf2d82-aed9-4b31-a758-dfb20fee9a44",
   "metadata": {
    "execution": {
     "iopub.execute_input": "2021-09-13T07:05:06.791394Z",
     "iopub.status.busy": "2021-09-13T07:05:06.791324Z",
     "iopub.status.idle": "2021-09-13T07:05:06.793313Z",
     "shell.execute_reply": "2021-09-13T07:05:06.793120Z",
     "shell.execute_reply.started": "2021-09-13T07:05:06.791386Z"
    },
    "tags": []
   },
   "outputs": [],
   "source": [
    "# x, y 변수 설정\n",
    "x = train_one.drop('quality', axis=1)\n",
    "y = train_one['quality']"
   ]
  },
  {
   "cell_type": "code",
   "execution_count": 7,
   "id": "0fe791d9-6cc3-4947-ad97-09f4c3d1d734",
   "metadata": {
    "execution": {
     "iopub.execute_input": "2021-09-13T07:05:06.793697Z",
     "iopub.status.busy": "2021-09-13T07:05:06.793591Z",
     "iopub.status.idle": "2021-09-13T07:05:07.555903Z",
     "shell.execute_reply": "2021-09-13T07:05:07.555682Z",
     "shell.execute_reply.started": "2021-09-13T07:05:06.793688Z"
    },
    "tags": []
   },
   "outputs": [
    {
     "name": "stderr",
     "output_type": "stream",
     "text": [
      "/home/junho/.local/lib/python3.8/site-packages/xgboost/sklearn.py:1146: UserWarning: The use of label encoder in XGBClassifier is deprecated and will be removed in a future release. To remove this warning, do the following: 1) Pass option use_label_encoder=False when constructing XGBClassifier object; and 2) Encode your labels (y) as integers starting with 0, i.e. 0, 1, 2, ..., [num_class - 1].\n",
      "  warnings.warn(label_encoder_deprecation_msg, UserWarning)\n"
     ]
    },
    {
     "name": "stdout",
     "output_type": "stream",
     "text": [
      "[16:05:06] WARNING: ../src/learner.cc:1095: Starting in XGBoost 1.3.0, the default evaluation metric used with the objective 'multi:softprob' was changed from 'merror' to 'mlogloss'. Explicitly set eval_metric if you'd like to restore the old behavior.\n"
     ]
    },
    {
     "data": {
      "text/plain": [
       "XGBClassifier(base_score=0.5, booster='gbtree', colsample_bylevel=1,\n",
       "              colsample_bynode=1, colsample_bytree=1, gamma=0, gpu_id=-1,\n",
       "              importance_type='gain', interaction_constraints='',\n",
       "              learning_rate=0.300000012, max_delta_step=0, max_depth=6,\n",
       "              min_child_weight=1, missing=nan, monotone_constraints='()',\n",
       "              n_estimators=100, n_jobs=16, num_parallel_tree=1,\n",
       "              objective='multi:softprob', random_state=0, reg_alpha=0,\n",
       "              reg_lambda=1, scale_pos_weight=None, subsample=1,\n",
       "              tree_method='exact', validate_parameters=1, verbosity=None)"
      ]
     },
     "execution_count": 7,
     "metadata": {},
     "output_type": "execute_result"
    }
   ],
   "source": [
    "# 모델 학습\n",
    "model.fit(x, y)"
   ]
  },
  {
   "cell_type": "code",
   "execution_count": 8,
   "id": "239a7174-0b15-46ff-8781-65e028dd5c4b",
   "metadata": {
    "execution": {
     "iopub.execute_input": "2021-09-13T07:05:07.556376Z",
     "iopub.status.busy": "2021-09-13T07:05:07.556297Z",
     "iopub.status.idle": "2021-09-13T07:05:07.560182Z",
     "shell.execute_reply": "2021-09-13T07:05:07.559962Z",
     "shell.execute_reply.started": "2021-09-13T07:05:07.556366Z"
    }
   },
   "outputs": [],
   "source": [
    "# test 데이터 품질 예측\n",
    "pred = model.predict(test_one)"
   ]
  },
  {
   "cell_type": "code",
   "execution_count": 9,
   "id": "f5dcf9cd-7bd4-4774-bd39-d9b4c606fb27",
   "metadata": {
    "execution": {
     "iopub.execute_input": "2021-09-13T07:05:07.561351Z",
     "iopub.status.busy": "2021-09-13T07:05:07.561250Z",
     "iopub.status.idle": "2021-09-13T07:05:07.567127Z",
     "shell.execute_reply": "2021-09-13T07:05:07.566933Z",
     "shell.execute_reply.started": "2021-09-13T07:05:07.561340Z"
    },
    "tags": []
   },
   "outputs": [
    {
     "data": {
      "text/html": [
       "<div>\n",
       "<style scoped>\n",
       "    .dataframe tbody tr th:only-of-type {\n",
       "        vertical-align: middle;\n",
       "    }\n",
       "\n",
       "    .dataframe tbody tr th {\n",
       "        vertical-align: top;\n",
       "    }\n",
       "\n",
       "    .dataframe thead th {\n",
       "        text-align: right;\n",
       "    }\n",
       "</style>\n",
       "<table border=\"1\" class=\"dataframe\">\n",
       "  <thead>\n",
       "    <tr style=\"text-align: right;\">\n",
       "      <th></th>\n",
       "      <th>index</th>\n",
       "      <th>quality</th>\n",
       "    </tr>\n",
       "  </thead>\n",
       "  <tbody>\n",
       "    <tr>\n",
       "      <th>0</th>\n",
       "      <td>0</td>\n",
       "      <td>6</td>\n",
       "    </tr>\n",
       "    <tr>\n",
       "      <th>1</th>\n",
       "      <td>1</td>\n",
       "      <td>5</td>\n",
       "    </tr>\n",
       "    <tr>\n",
       "      <th>2</th>\n",
       "      <td>2</td>\n",
       "      <td>5</td>\n",
       "    </tr>\n",
       "    <tr>\n",
       "      <th>3</th>\n",
       "      <td>3</td>\n",
       "      <td>5</td>\n",
       "    </tr>\n",
       "    <tr>\n",
       "      <th>4</th>\n",
       "      <td>4</td>\n",
       "      <td>7</td>\n",
       "    </tr>\n",
       "  </tbody>\n",
       "</table>\n",
       "</div>"
      ],
      "text/plain": [
       "   index  quality\n",
       "0      0        6\n",
       "1      1        5\n",
       "2      2        5\n",
       "3      3        5\n",
       "4      4        7"
      ]
     },
     "execution_count": 9,
     "metadata": {},
     "output_type": "execute_result"
    }
   ],
   "source": [
    "# sample_submission.csv에 예측값 채우기\n",
    "submission = pd.read_csv('data/sample_submission.csv')\n",
    "submission['quality'] = pred\n",
    "submission.to_csv('xgb_pred.csv', index=False)\n",
    "submission.head()"
   ]
  },
  {
   "cell_type": "markdown",
   "id": "0aedd0b9-9ed7-4f1e-b7fd-ffb2354cf8d1",
   "metadata": {},
   "source": [
    "# Light GBM (LGBM)"
   ]
  },
  {
   "cell_type": "code",
   "execution_count": 10,
   "id": "074043db-841f-4850-9159-74ba842a22c9",
   "metadata": {
    "execution": {
     "iopub.execute_input": "2021-09-13T07:05:58.293232Z",
     "iopub.status.busy": "2021-09-13T07:05:58.293098Z",
     "iopub.status.idle": "2021-09-13T07:05:58.322154Z",
     "shell.execute_reply": "2021-09-13T07:05:58.321936Z",
     "shell.execute_reply.started": "2021-09-13T07:05:58.293220Z"
    }
   },
   "outputs": [],
   "source": [
    "from lightgbm import LGBMClassifier\n",
    "\n",
    "# 모델 정의\n",
    "model = LGBMClassifier()"
   ]
  },
  {
   "cell_type": "code",
   "execution_count": 11,
   "id": "4a798257-adab-41c7-af4e-06e952356458",
   "metadata": {
    "execution": {
     "iopub.execute_input": "2021-09-13T07:06:37.321809Z",
     "iopub.status.busy": "2021-09-13T07:06:37.321642Z",
     "iopub.status.idle": "2021-09-13T07:06:37.575893Z",
     "shell.execute_reply": "2021-09-13T07:06:37.575643Z",
     "shell.execute_reply.started": "2021-09-13T07:06:37.321792Z"
    }
   },
   "outputs": [
    {
     "data": {
      "text/plain": [
       "LGBMClassifier()"
      ]
     },
     "execution_count": 11,
     "metadata": {},
     "output_type": "execute_result"
    }
   ],
   "source": [
    "# 모델 학습\n",
    "model.fit(x, y)"
   ]
  },
  {
   "cell_type": "code",
   "execution_count": 12,
   "id": "7f2834f4-22d1-49e3-b916-2bcd0d21b73a",
   "metadata": {
    "execution": {
     "iopub.execute_input": "2021-09-13T07:06:53.078841Z",
     "iopub.status.busy": "2021-09-13T07:06:53.078673Z",
     "iopub.status.idle": "2021-09-13T07:06:53.092439Z",
     "shell.execute_reply": "2021-09-13T07:06:53.092216Z",
     "shell.execute_reply.started": "2021-09-13T07:06:53.078821Z"
    }
   },
   "outputs": [],
   "source": [
    "# 품질 예측\n",
    "pred = model.predict(test_one)"
   ]
  },
  {
   "cell_type": "code",
   "execution_count": 14,
   "id": "b34595e7-37f2-4092-8296-ae206350b6f5",
   "metadata": {
    "execution": {
     "iopub.execute_input": "2021-09-13T07:08:05.553229Z",
     "iopub.status.busy": "2021-09-13T07:08:05.553083Z",
     "iopub.status.idle": "2021-09-13T07:08:05.557217Z",
     "shell.execute_reply": "2021-09-13T07:08:05.556859Z",
     "shell.execute_reply.started": "2021-09-13T07:08:05.553214Z"
    },
    "tags": []
   },
   "outputs": [
    {
     "data": {
      "text/html": [
       "<div>\n",
       "<style scoped>\n",
       "    .dataframe tbody tr th:only-of-type {\n",
       "        vertical-align: middle;\n",
       "    }\n",
       "\n",
       "    .dataframe tbody tr th {\n",
       "        vertical-align: top;\n",
       "    }\n",
       "\n",
       "    .dataframe thead th {\n",
       "        text-align: right;\n",
       "    }\n",
       "</style>\n",
       "<table border=\"1\" class=\"dataframe\">\n",
       "  <thead>\n",
       "    <tr style=\"text-align: right;\">\n",
       "      <th></th>\n",
       "      <th>quality</th>\n",
       "    </tr>\n",
       "  </thead>\n",
       "  <tbody>\n",
       "    <tr>\n",
       "      <th>0</th>\n",
       "      <td>5</td>\n",
       "    </tr>\n",
       "    <tr>\n",
       "      <th>1</th>\n",
       "      <td>5</td>\n",
       "    </tr>\n",
       "    <tr>\n",
       "      <th>2</th>\n",
       "      <td>5</td>\n",
       "    </tr>\n",
       "    <tr>\n",
       "      <th>3</th>\n",
       "      <td>5</td>\n",
       "    </tr>\n",
       "    <tr>\n",
       "      <th>4</th>\n",
       "      <td>7</td>\n",
       "    </tr>\n",
       "  </tbody>\n",
       "</table>\n",
       "</div>"
      ],
      "text/plain": [
       "   quality\n",
       "0        5\n",
       "1        5\n",
       "2        5\n",
       "3        5\n",
       "4        7"
      ]
     },
     "execution_count": 14,
     "metadata": {},
     "output_type": "execute_result"
    }
   ],
   "source": [
    "# 결과 출력\n",
    "result = pd.DataFrame(pred)\n",
    "result.columns = ['quality']\n",
    "result.head()"
   ]
  },
  {
   "cell_type": "markdown",
   "id": "4c3da5a5-224a-42a7-8bf0-451fc8c7e3c3",
   "metadata": {},
   "source": [
    "# Stratified k-fold"
   ]
  },
  {
   "cell_type": "code",
   "execution_count": 23,
   "id": "8faf5762-c414-45a7-a4d2-b6e2ce26c094",
   "metadata": {
    "execution": {
     "iopub.execute_input": "2021-09-13T07:17:00.928807Z",
     "iopub.status.busy": "2021-09-13T07:17:00.928637Z",
     "iopub.status.idle": "2021-09-13T07:17:02.207257Z",
     "shell.execute_reply": "2021-09-13T07:17:02.207015Z",
     "shell.execute_reply.started": "2021-09-13T07:17:00.928787Z"
    },
    "tags": []
   },
   "outputs": [
    {
     "name": "stdout",
     "output_type": "stream",
     "text": [
      "1  번째 모델 정확도:  0.4536363636363636\n",
      "2  번째 모델 정확도:  0.5790909090909091\n",
      "3  번째 모델 정확도:  0.6196542311191993\n",
      "4  번째 모델 정확도:  0.6105550500454959\n",
      "5  번째 모델 정확도:  0.5959963603275705\n",
      "모델 정확도 평균:  0.5717865828439076\n"
     ]
    }
   ],
   "source": [
    "from sklearn.model_selection import StratifiedKFold\n",
    "from sklearn.metrics import accuracy_score\n",
    "\n",
    "# stratified k-fold로 train set/validation set 나누기\n",
    "skf = StratifiedKFold(n_splits=5)\n",
    "\n",
    "cnt, acc = 1, 0\n",
    "\n",
    "for train_idx, valid_idx in skf.split(x, y):\n",
    "    train_data = train_one.iloc[train_idx]\n",
    "    valid_data = train_one.iloc[valid_idx]\n",
    "    \n",
    "    # LGBM 모델 객체 생성\n",
    "    model = LGBMClassifier()\n",
    "\n",
    "    # 훈련셋 데이터\n",
    "    train_x = train_data.drop('quality', axis=1)\n",
    "    train_y = train_data['quality']\n",
    "    \n",
    "    # 모델 학습\n",
    "    model.fit(train_x, train_y)\n",
    "    \n",
    "    # 검증셋 데이터 \n",
    "    valid_x = valid_data.drop('quality', axis=1)\n",
    "    valid_y = valid_data['quality']\n",
    "    \n",
    "    # 검증셋으로 품질 예측\n",
    "    pred = model.predict(valid_x)\n",
    "    \n",
    "    # 모델 정확도 출력\n",
    "    print(cnt, ' 번째 모델 정확도: ', accuracy_score(pred, valid_y))\n",
    "    acc += accuracy_score(pred, valid_y)\n",
    "    cnt += 1\n",
    "    \n",
    "print('모델 정확도 평균: ', acc/5)"
   ]
  },
  {
   "cell_type": "markdown",
   "id": "366eb6e0-c300-4858-9c44-69669c9f33a0",
   "metadata": {},
   "source": [
    "# Voting Classifier"
   ]
  },
  {
   "cell_type": "code",
   "execution_count": 24,
   "id": "97f9c91b-3090-4713-9b6f-332cb130c0ac",
   "metadata": {
    "execution": {
     "iopub.execute_input": "2021-09-13T07:20:36.323587Z",
     "iopub.status.busy": "2021-09-13T07:20:36.323469Z",
     "iopub.status.idle": "2021-09-13T07:20:36.348271Z",
     "shell.execute_reply": "2021-09-13T07:20:36.348022Z",
     "shell.execute_reply.started": "2021-09-13T07:20:36.323576Z"
    }
   },
   "outputs": [],
   "source": [
    "from sklearn.ensemble import VotingClassifier\n",
    "from sklearn.ensemble import RandomForestClassifier"
   ]
  },
  {
   "cell_type": "code",
   "execution_count": 27,
   "id": "13bd8a48-44d5-4c26-b2d3-e016d725a991",
   "metadata": {
    "execution": {
     "iopub.execute_input": "2021-09-13T07:21:52.529089Z",
     "iopub.status.busy": "2021-09-13T07:21:52.528923Z",
     "iopub.status.idle": "2021-09-13T07:21:52.531610Z",
     "shell.execute_reply": "2021-09-13T07:21:52.531394Z",
     "shell.execute_reply.started": "2021-09-13T07:21:52.529072Z"
    },
    "tags": []
   },
   "outputs": [],
   "source": [
    "# 모델 객체 생성\n",
    "LGBM = LGBMClassifier()\n",
    "XGB = XGBClassifier()\n",
    "RF = RandomForestClassifier()\n",
    "\n",
    "VC = VotingClassifier(estimators=[('rf',RF),('xgb',XGB),('lgbm',LGBM)],voting='soft')"
   ]
  },
  {
   "cell_type": "code",
   "execution_count": 33,
   "id": "d4efeb89-82cc-43f5-8032-72754d233e99",
   "metadata": {
    "execution": {
     "iopub.execute_input": "2021-09-13T07:23:19.813986Z",
     "iopub.status.busy": "2021-09-13T07:23:19.813658Z",
     "iopub.status.idle": "2021-09-13T07:23:21.425443Z",
     "shell.execute_reply": "2021-09-13T07:23:21.425237Z",
     "shell.execute_reply.started": "2021-09-13T07:23:19.813969Z"
    },
    "tags": []
   },
   "outputs": [
    {
     "name": "stderr",
     "output_type": "stream",
     "text": [
      "/home/junho/.local/lib/python3.8/site-packages/xgboost/sklearn.py:1146: UserWarning: The use of label encoder in XGBClassifier is deprecated and will be removed in a future release. To remove this warning, do the following: 1) Pass option use_label_encoder=False when constructing XGBClassifier object; and 2) Encode your labels (y) as integers starting with 0, i.e. 0, 1, 2, ..., [num_class - 1].\n",
      "  warnings.warn(label_encoder_deprecation_msg, UserWarning)\n"
     ]
    },
    {
     "name": "stdout",
     "output_type": "stream",
     "text": [
      "[16:23:20] WARNING: ../src/learner.cc:1095: Starting in XGBoost 1.3.0, the default evaluation metric used with the objective 'multi:softprob' was changed from 'merror' to 'mlogloss'. Explicitly set eval_metric if you'd like to restore the old behavior.\n"
     ]
    },
    {
     "data": {
      "text/plain": [
       "VotingClassifier(estimators=[('rf', RandomForestClassifier()),\n",
       "                             ('xgb',\n",
       "                              XGBClassifier(base_score=None, booster=None,\n",
       "                                            colsample_bylevel=None,\n",
       "                                            colsample_bynode=None,\n",
       "                                            colsample_bytree=None, gamma=None,\n",
       "                                            gpu_id=None, importance_type='gain',\n",
       "                                            interaction_constraints=None,\n",
       "                                            learning_rate=None,\n",
       "                                            max_delta_step=None, max_depth=None,\n",
       "                                            min_child_weight=None, missing=nan,\n",
       "                                            monotone_constraints=None,\n",
       "                                            n_estimators=100, n_jobs=None,\n",
       "                                            num_parallel_tree=None,\n",
       "                                            random_state=None, reg_alpha=None,\n",
       "                                            reg_lambda=None,\n",
       "                                            scale_pos_weight=None,\n",
       "                                            subsample=None, tree_method=None,\n",
       "                                            validate_parameters=None,\n",
       "                                            verbosity=None)),\n",
       "                             ('lgbm', LGBMClassifier())],\n",
       "                 voting='soft')"
      ]
     },
     "execution_count": 33,
     "metadata": {},
     "output_type": "execute_result"
    }
   ],
   "source": [
    "# 모델 학습\n",
    "VC.fit(x, y)"
   ]
  },
  {
   "cell_type": "code",
   "execution_count": 34,
   "id": "eae2beb5-795c-49ed-a96e-182d6515df7e",
   "metadata": {
    "execution": {
     "iopub.execute_input": "2021-09-13T07:23:26.678600Z",
     "iopub.status.busy": "2021-09-13T07:23:26.678434Z",
     "iopub.status.idle": "2021-09-13T07:23:26.716754Z",
     "shell.execute_reply": "2021-09-13T07:23:26.716535Z",
     "shell.execute_reply.started": "2021-09-13T07:23:26.678584Z"
    },
    "tags": []
   },
   "outputs": [
    {
     "data": {
      "text/html": [
       "<div>\n",
       "<style scoped>\n",
       "    .dataframe tbody tr th:only-of-type {\n",
       "        vertical-align: middle;\n",
       "    }\n",
       "\n",
       "    .dataframe tbody tr th {\n",
       "        vertical-align: top;\n",
       "    }\n",
       "\n",
       "    .dataframe thead th {\n",
       "        text-align: right;\n",
       "    }\n",
       "</style>\n",
       "<table border=\"1\" class=\"dataframe\">\n",
       "  <thead>\n",
       "    <tr style=\"text-align: right;\">\n",
       "      <th></th>\n",
       "      <th>0</th>\n",
       "    </tr>\n",
       "  </thead>\n",
       "  <tbody>\n",
       "    <tr>\n",
       "      <th>0</th>\n",
       "      <td>6</td>\n",
       "    </tr>\n",
       "    <tr>\n",
       "      <th>1</th>\n",
       "      <td>5</td>\n",
       "    </tr>\n",
       "    <tr>\n",
       "      <th>2</th>\n",
       "      <td>5</td>\n",
       "    </tr>\n",
       "    <tr>\n",
       "      <th>3</th>\n",
       "      <td>5</td>\n",
       "    </tr>\n",
       "    <tr>\n",
       "      <th>4</th>\n",
       "      <td>7</td>\n",
       "    </tr>\n",
       "  </tbody>\n",
       "</table>\n",
       "</div>"
      ],
      "text/plain": [
       "   0\n",
       "0  6\n",
       "1  5\n",
       "2  5\n",
       "3  5\n",
       "4  7"
      ]
     },
     "execution_count": 34,
     "metadata": {},
     "output_type": "execute_result"
    }
   ],
   "source": [
    "# 모델 예측 및 예측값 출력\n",
    "pred = VC.predict(test_one)\n",
    "pred = pd.DataFrame(pred)\n",
    "pred.head()"
   ]
  },
  {
   "cell_type": "code",
   "execution_count": null,
   "id": "7d8be708-d46a-402d-a589-519d02f5af6a",
   "metadata": {},
   "outputs": [],
   "source": []
  }
 ],
 "metadata": {
  "kernelspec": {
   "display_name": "Python 3 (ipykernel)",
   "language": "python",
   "name": "python3"
  },
  "language_info": {
   "codemirror_mode": {
    "name": "ipython",
    "version": 3
   },
   "file_extension": ".py",
   "mimetype": "text/x-python",
   "name": "python",
   "nbconvert_exporter": "python",
   "pygments_lexer": "ipython3",
   "version": "3.8.10"
  }
 },
 "nbformat": 4,
 "nbformat_minor": 5
}
