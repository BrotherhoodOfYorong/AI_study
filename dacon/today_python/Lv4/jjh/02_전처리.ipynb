{
 "cells": [
  {
   "cell_type": "markdown",
   "id": "92374562-0240-4dfd-8d64-0fdf2116ad7c",
   "metadata": {},
   "source": [
    "# 다중공선성 해결 - 변수 정규화"
   ]
  },
  {
   "cell_type": "code",
   "execution_count": 1,
   "id": "6c3eaec6-d9c2-4269-b06e-093e83961f76",
   "metadata": {
    "execution": {
     "iopub.execute_input": "2021-09-13T04:38:00.942051Z",
     "iopub.status.busy": "2021-09-13T04:38:00.941787Z",
     "iopub.status.idle": "2021-09-13T04:38:01.100784Z",
     "shell.execute_reply": "2021-09-13T04:38:01.100551Z",
     "shell.execute_reply.started": "2021-09-13T04:38:00.941976Z"
    },
    "tags": []
   },
   "outputs": [],
   "source": [
    "import pandas as pd\n",
    "\n",
    "train = pd.read_csv('./data/train.csv')\n",
    "test = pd.read_csv('./data/test.csv')"
   ]
  },
  {
   "cell_type": "code",
   "execution_count": 2,
   "id": "a14c38b6-faa3-4ab2-8562-d918223eabb5",
   "metadata": {
    "execution": {
     "iopub.execute_input": "2021-09-13T04:38:01.364288Z",
     "iopub.status.busy": "2021-09-13T04:38:01.364141Z",
     "iopub.status.idle": "2021-09-13T04:38:01.541220Z",
     "shell.execute_reply": "2021-09-13T04:38:01.540960Z",
     "shell.execute_reply.started": "2021-09-13T04:38:01.364273Z"
    },
    "tags": []
   },
   "outputs": [
    {
     "data": {
      "text/html": [
       "<div>\n",
       "<style scoped>\n",
       "    .dataframe tbody tr th:only-of-type {\n",
       "        vertical-align: middle;\n",
       "    }\n",
       "\n",
       "    .dataframe tbody tr th {\n",
       "        vertical-align: top;\n",
       "    }\n",
       "\n",
       "    .dataframe thead th {\n",
       "        text-align: right;\n",
       "    }\n",
       "</style>\n",
       "<table border=\"1\" class=\"dataframe\">\n",
       "  <thead>\n",
       "    <tr style=\"text-align: right;\">\n",
       "      <th></th>\n",
       "      <th>VIF Factor</th>\n",
       "      <th>features</th>\n",
       "    </tr>\n",
       "  </thead>\n",
       "  <tbody>\n",
       "    <tr>\n",
       "      <th>0</th>\n",
       "      <td>4.007175</td>\n",
       "      <td>index</td>\n",
       "    </tr>\n",
       "    <tr>\n",
       "      <th>1</th>\n",
       "      <td>64.107432</td>\n",
       "      <td>quality</td>\n",
       "    </tr>\n",
       "    <tr>\n",
       "      <th>2</th>\n",
       "      <td>59.149187</td>\n",
       "      <td>fixed acidity</td>\n",
       "    </tr>\n",
       "    <tr>\n",
       "      <th>3</th>\n",
       "      <td>9.610687</td>\n",
       "      <td>volatile acidity</td>\n",
       "    </tr>\n",
       "    <tr>\n",
       "      <th>4</th>\n",
       "      <td>9.273444</td>\n",
       "      <td>citric acid</td>\n",
       "    </tr>\n",
       "    <tr>\n",
       "      <th>5</th>\n",
       "      <td>3.616414</td>\n",
       "      <td>residual sugar</td>\n",
       "    </tr>\n",
       "    <tr>\n",
       "      <th>6</th>\n",
       "      <td>5.715981</td>\n",
       "      <td>chlorides</td>\n",
       "    </tr>\n",
       "    <tr>\n",
       "      <th>7</th>\n",
       "      <td>8.420883</td>\n",
       "      <td>free sulfur dioxide</td>\n",
       "    </tr>\n",
       "    <tr>\n",
       "      <th>8</th>\n",
       "      <td>14.833789</td>\n",
       "      <td>total sulfur dioxide</td>\n",
       "    </tr>\n",
       "    <tr>\n",
       "      <th>9</th>\n",
       "      <td>945.323991</td>\n",
       "      <td>density</td>\n",
       "    </tr>\n",
       "    <tr>\n",
       "      <th>10</th>\n",
       "      <td>583.501187</td>\n",
       "      <td>pH</td>\n",
       "    </tr>\n",
       "    <tr>\n",
       "      <th>11</th>\n",
       "      <td>18.535850</td>\n",
       "      <td>sulphates</td>\n",
       "    </tr>\n",
       "    <tr>\n",
       "      <th>12</th>\n",
       "      <td>131.126700</td>\n",
       "      <td>alcohol</td>\n",
       "    </tr>\n",
       "  </tbody>\n",
       "</table>\n",
       "</div>"
      ],
      "text/plain": [
       "    VIF Factor              features\n",
       "0     4.007175                 index\n",
       "1    64.107432               quality\n",
       "2    59.149187         fixed acidity\n",
       "3     9.610687      volatile acidity\n",
       "4     9.273444           citric acid\n",
       "5     3.616414        residual sugar\n",
       "6     5.715981             chlorides\n",
       "7     8.420883   free sulfur dioxide\n",
       "8    14.833789  total sulfur dioxide\n",
       "9   945.323991               density\n",
       "10  583.501187                    pH\n",
       "11   18.535850             sulphates\n",
       "12  131.126700               alcohol"
      ]
     },
     "execution_count": 2,
     "metadata": {},
     "output_type": "execute_result"
    }
   ],
   "source": [
    "from statsmodels.stats.outliers_influence import variance_inflation_factor\n",
    "\n",
    "data = train.drop('type', axis=1)\n",
    "\n",
    "vif = pd.DataFrame()\n",
    "vif['VIF Factor'] = [variance_inflation_factor(data.values, i) for i in range(data.shape[1])]\n",
    "vif['features'] = data.columns\n",
    "\n",
    "vif"
   ]
  },
  {
   "cell_type": "code",
   "execution_count": 3,
   "id": "f8991e33-97d9-4706-8bb5-4df23e2cb968",
   "metadata": {
    "execution": {
     "iopub.execute_input": "2021-09-13T04:38:01.942988Z",
     "iopub.status.busy": "2021-09-13T04:38:01.942849Z",
     "iopub.status.idle": "2021-09-13T04:38:02.002443Z",
     "shell.execute_reply": "2021-09-13T04:38:02.002215Z",
     "shell.execute_reply.started": "2021-09-13T04:38:01.942971Z"
    },
    "tags": []
   },
   "outputs": [],
   "source": [
    "from sklearn.preprocessing import MinMaxScaler\n",
    "\n",
    "scaler = MinMaxScaler()\n",
    "scaler.fit(data)\n",
    "data_scale = scaler.transform(data)"
   ]
  },
  {
   "cell_type": "code",
   "execution_count": 4,
   "id": "363140e7-effa-4133-b47c-8c6a206e84e2",
   "metadata": {
    "execution": {
     "iopub.execute_input": "2021-09-13T04:38:02.464413Z",
     "iopub.status.busy": "2021-09-13T04:38:02.464240Z",
     "iopub.status.idle": "2021-09-13T04:38:02.508842Z",
     "shell.execute_reply": "2021-09-13T04:38:02.508597Z",
     "shell.execute_reply.started": "2021-09-13T04:38:02.464392Z"
    },
    "tags": []
   },
   "outputs": [
    {
     "data": {
      "text/html": [
       "<div>\n",
       "<style scoped>\n",
       "    .dataframe tbody tr th:only-of-type {\n",
       "        vertical-align: middle;\n",
       "    }\n",
       "\n",
       "    .dataframe tbody tr th {\n",
       "        vertical-align: top;\n",
       "    }\n",
       "\n",
       "    .dataframe thead th {\n",
       "        text-align: right;\n",
       "    }\n",
       "</style>\n",
       "<table border=\"1\" class=\"dataframe\">\n",
       "  <thead>\n",
       "    <tr style=\"text-align: right;\">\n",
       "      <th></th>\n",
       "      <th>VIF Factor</th>\n",
       "      <th>features</th>\n",
       "    </tr>\n",
       "  </thead>\n",
       "  <tbody>\n",
       "    <tr>\n",
       "      <th>0</th>\n",
       "      <td>3.848628</td>\n",
       "      <td>index</td>\n",
       "    </tr>\n",
       "    <tr>\n",
       "      <th>1</th>\n",
       "      <td>14.491571</td>\n",
       "      <td>quality</td>\n",
       "    </tr>\n",
       "    <tr>\n",
       "      <th>2</th>\n",
       "      <td>37.792930</td>\n",
       "      <td>fixed acidity</td>\n",
       "    </tr>\n",
       "    <tr>\n",
       "      <th>3</th>\n",
       "      <td>6.978592</td>\n",
       "      <td>volatile acidity</td>\n",
       "    </tr>\n",
       "    <tr>\n",
       "      <th>4</th>\n",
       "      <td>9.094026</td>\n",
       "      <td>citric acid</td>\n",
       "    </tr>\n",
       "    <tr>\n",
       "      <th>5</th>\n",
       "      <td>14.246815</td>\n",
       "      <td>residual sugar</td>\n",
       "    </tr>\n",
       "    <tr>\n",
       "      <th>6</th>\n",
       "      <td>4.590877</td>\n",
       "      <td>chlorides</td>\n",
       "    </tr>\n",
       "    <tr>\n",
       "      <th>7</th>\n",
       "      <td>8.009056</td>\n",
       "      <td>free sulfur dioxide</td>\n",
       "    </tr>\n",
       "    <tr>\n",
       "      <th>8</th>\n",
       "      <td>11.227393</td>\n",
       "      <td>total sulfur dioxide</td>\n",
       "    </tr>\n",
       "    <tr>\n",
       "      <th>9</th>\n",
       "      <td>106.041429</td>\n",
       "      <td>density</td>\n",
       "    </tr>\n",
       "    <tr>\n",
       "      <th>10</th>\n",
       "      <td>23.477330</td>\n",
       "      <td>pH</td>\n",
       "    </tr>\n",
       "    <tr>\n",
       "      <th>11</th>\n",
       "      <td>8.249344</td>\n",
       "      <td>sulphates</td>\n",
       "    </tr>\n",
       "    <tr>\n",
       "      <th>12</th>\n",
       "      <td>22.504171</td>\n",
       "      <td>alcohol</td>\n",
       "    </tr>\n",
       "  </tbody>\n",
       "</table>\n",
       "</div>"
      ],
      "text/plain": [
       "    VIF Factor              features\n",
       "0     3.848628                 index\n",
       "1    14.491571               quality\n",
       "2    37.792930         fixed acidity\n",
       "3     6.978592      volatile acidity\n",
       "4     9.094026           citric acid\n",
       "5    14.246815        residual sugar\n",
       "6     4.590877             chlorides\n",
       "7     8.009056   free sulfur dioxide\n",
       "8    11.227393  total sulfur dioxide\n",
       "9   106.041429               density\n",
       "10   23.477330                    pH\n",
       "11    8.249344             sulphates\n",
       "12   22.504171               alcohol"
      ]
     },
     "execution_count": 4,
     "metadata": {},
     "output_type": "execute_result"
    }
   ],
   "source": [
    "new_data_df = pd.DataFrame(data_scale)\n",
    "new_data_df.columns = data.columns\n",
    "\n",
    "vif = pd.DataFrame()\n",
    "vif['VIF Factor'] = [variance_inflation_factor(new_data_df.values, i) for i in range(new_data_df.shape[1])]\n",
    "vif['features'] = new_data_df.columns\n",
    "\n",
    "vif"
   ]
  },
  {
   "cell_type": "markdown",
   "id": "4745e0c0-748e-4364-be91-2c108f31b6ce",
   "metadata": {},
   "source": [
    "# 다중공선성 해결 - 변수 제거"
   ]
  },
  {
   "cell_type": "code",
   "execution_count": 7,
   "id": "e5139532-1e52-4736-9f5f-949286d04354",
   "metadata": {
    "execution": {
     "iopub.execute_input": "2021-09-13T04:52:21.135580Z",
     "iopub.status.busy": "2021-09-13T04:52:21.135359Z",
     "iopub.status.idle": "2021-09-13T04:52:21.139378Z",
     "shell.execute_reply": "2021-09-13T04:52:21.138844Z",
     "shell.execute_reply.started": "2021-09-13T04:52:21.135549Z"
    },
    "tags": []
   },
   "outputs": [],
   "source": [
    "# 종속변수 quality를 제외한 vif 10 이상 변수 제거\n",
    "new_data = data.drop(['alcohol', 'fixed acidity', 'total sulfur dioxide', 'density', 'pH', 'sulphates'], axis=1)"
   ]
  },
  {
   "cell_type": "code",
   "execution_count": 9,
   "id": "51cb3a74-1da4-4846-8a23-803ed4c9727b",
   "metadata": {
    "execution": {
     "iopub.execute_input": "2021-09-13T04:53:50.205797Z",
     "iopub.status.busy": "2021-09-13T04:53:50.205625Z",
     "iopub.status.idle": "2021-09-13T04:53:50.225798Z",
     "shell.execute_reply": "2021-09-13T04:53:50.225566Z",
     "shell.execute_reply.started": "2021-09-13T04:53:50.205779Z"
    },
    "tags": []
   },
   "outputs": [
    {
     "data": {
      "text/html": [
       "<div>\n",
       "<style scoped>\n",
       "    .dataframe tbody tr th:only-of-type {\n",
       "        vertical-align: middle;\n",
       "    }\n",
       "\n",
       "    .dataframe tbody tr th {\n",
       "        vertical-align: top;\n",
       "    }\n",
       "\n",
       "    .dataframe thead th {\n",
       "        text-align: right;\n",
       "    }\n",
       "</style>\n",
       "<table border=\"1\" class=\"dataframe\">\n",
       "  <thead>\n",
       "    <tr style=\"text-align: right;\">\n",
       "      <th></th>\n",
       "      <th>VIF Factor</th>\n",
       "      <th>features</th>\n",
       "    </tr>\n",
       "  </thead>\n",
       "  <tbody>\n",
       "    <tr>\n",
       "      <th>0</th>\n",
       "      <td>3.833384</td>\n",
       "      <td>index</td>\n",
       "    </tr>\n",
       "    <tr>\n",
       "      <th>1</th>\n",
       "      <td>14.972137</td>\n",
       "      <td>quality</td>\n",
       "    </tr>\n",
       "    <tr>\n",
       "      <th>2</th>\n",
       "      <td>6.241906</td>\n",
       "      <td>volatile acidity</td>\n",
       "    </tr>\n",
       "    <tr>\n",
       "      <th>3</th>\n",
       "      <td>6.411839</td>\n",
       "      <td>citric acid</td>\n",
       "    </tr>\n",
       "    <tr>\n",
       "      <th>4</th>\n",
       "      <td>2.751270</td>\n",
       "      <td>residual sugar</td>\n",
       "    </tr>\n",
       "    <tr>\n",
       "      <th>5</th>\n",
       "      <td>4.407827</td>\n",
       "      <td>chlorides</td>\n",
       "    </tr>\n",
       "    <tr>\n",
       "      <th>6</th>\n",
       "      <td>4.853373</td>\n",
       "      <td>free sulfur dioxide</td>\n",
       "    </tr>\n",
       "  </tbody>\n",
       "</table>\n",
       "</div>"
      ],
      "text/plain": [
       "   VIF Factor             features\n",
       "0    3.833384                index\n",
       "1   14.972137              quality\n",
       "2    6.241906     volatile acidity\n",
       "3    6.411839          citric acid\n",
       "4    2.751270       residual sugar\n",
       "5    4.407827            chlorides\n",
       "6    4.853373  free sulfur dioxide"
      ]
     },
     "execution_count": 9,
     "metadata": {},
     "output_type": "execute_result"
    }
   ],
   "source": [
    "# VIF 재확인\n",
    "new_data_df = pd.DataFrame(new_data)\n",
    "new_data_df.columns = new_data.columns\n",
    "\n",
    "vif = pd.DataFrame()\n",
    "vif['VIF Factor'] = [variance_inflation_factor(new_data_df.values, i) for i in range(new_data_df.shape[1])]\n",
    "vif['features'] = new_data_df.columns\n",
    "vif"
   ]
  },
  {
   "cell_type": "markdown",
   "id": "5df6db15-0e2f-4d75-951a-c5015f0110c7",
   "metadata": {},
   "source": [
    "# 다중공선성 해결 - PCA"
   ]
  },
  {
   "cell_type": "code",
   "execution_count": 13,
   "id": "4b8aff11-92d4-4b89-bace-79a98553de6c",
   "metadata": {
    "execution": {
     "iopub.execute_input": "2021-09-13T05:20:02.378247Z",
     "iopub.status.busy": "2021-09-13T05:20:02.378079Z",
     "iopub.status.idle": "2021-09-13T05:20:02.387411Z",
     "shell.execute_reply": "2021-09-13T05:20:02.387074Z",
     "shell.execute_reply.started": "2021-09-13T05:20:02.378228Z"
    },
    "tags": []
   },
   "outputs": [
    {
     "data": {
      "text/html": [
       "<div>\n",
       "<style scoped>\n",
       "    .dataframe tbody tr th:only-of-type {\n",
       "        vertical-align: middle;\n",
       "    }\n",
       "\n",
       "    .dataframe tbody tr th {\n",
       "        vertical-align: top;\n",
       "    }\n",
       "\n",
       "    .dataframe thead th {\n",
       "        text-align: right;\n",
       "    }\n",
       "</style>\n",
       "<table border=\"1\" class=\"dataframe\">\n",
       "  <thead>\n",
       "    <tr style=\"text-align: right;\">\n",
       "      <th></th>\n",
       "      <th>sepal_length</th>\n",
       "      <th>sepal_width</th>\n",
       "      <th>petal_length</th>\n",
       "      <th>petal_width</th>\n",
       "      <th>target</th>\n",
       "    </tr>\n",
       "  </thead>\n",
       "  <tbody>\n",
       "    <tr>\n",
       "      <th>0</th>\n",
       "      <td>5.1</td>\n",
       "      <td>3.5</td>\n",
       "      <td>1.4</td>\n",
       "      <td>0.2</td>\n",
       "      <td>0</td>\n",
       "    </tr>\n",
       "    <tr>\n",
       "      <th>1</th>\n",
       "      <td>4.9</td>\n",
       "      <td>3.0</td>\n",
       "      <td>1.4</td>\n",
       "      <td>0.2</td>\n",
       "      <td>0</td>\n",
       "    </tr>\n",
       "    <tr>\n",
       "      <th>2</th>\n",
       "      <td>4.7</td>\n",
       "      <td>3.2</td>\n",
       "      <td>1.3</td>\n",
       "      <td>0.2</td>\n",
       "      <td>0</td>\n",
       "    </tr>\n",
       "  </tbody>\n",
       "</table>\n",
       "</div>"
      ],
      "text/plain": [
       "   sepal_length  sepal_width  petal_length  petal_width  target\n",
       "0           5.1          3.5           1.4          0.2       0\n",
       "1           4.9          3.0           1.4          0.2       0\n",
       "2           4.7          3.2           1.3          0.2       0"
      ]
     },
     "execution_count": 13,
     "metadata": {},
     "output_type": "execute_result"
    }
   ],
   "source": [
    "from sklearn.datasets import load_iris\n",
    "\n",
    "# iris 객체 생성\n",
    "iris = load_iris()\n",
    "\n",
    "# DataFrame으로 변환\n",
    "df = pd.DataFrame(iris.data)\n",
    "df.columns = ['sepal_length', 'sepal_width', 'petal_length', 'petal_width']\n",
    "df['target'] = iris.target\n",
    "df.head(3)"
   ]
  },
  {
   "cell_type": "code",
   "execution_count": 14,
   "id": "f3e571c0-94c4-464e-91af-4c090fb9ca12",
   "metadata": {
    "execution": {
     "iopub.execute_input": "2021-09-13T05:20:04.801079Z",
     "iopub.status.busy": "2021-09-13T05:20:04.800911Z",
     "iopub.status.idle": "2021-09-13T05:20:04.804600Z",
     "shell.execute_reply": "2021-09-13T05:20:04.804256Z",
     "shell.execute_reply.started": "2021-09-13T05:20:04.801059Z"
    },
    "tags": []
   },
   "outputs": [],
   "source": [
    "import matplotlib.pyplot as plt\n",
    "%matplotlib inline\n",
    "\n",
    "from sklearn.preprocessing import MinMaxScaler\n",
    "from sklearn.decomposition import PCA"
   ]
  },
  {
   "cell_type": "code",
   "execution_count": 18,
   "id": "b31059cf-2524-490d-a3ea-df76a2126724",
   "metadata": {
    "execution": {
     "iopub.execute_input": "2021-09-13T05:34:50.766859Z",
     "iopub.status.busy": "2021-09-13T05:34:50.766685Z",
     "iopub.status.idle": "2021-09-13T05:34:50.852621Z",
     "shell.execute_reply": "2021-09-13T05:34:50.852360Z",
     "shell.execute_reply.started": "2021-09-13T05:34:50.766840Z"
    },
    "tags": []
   },
   "outputs": [
    {
     "data": {
      "image/png": "[encoded data removed]",
      "text/plain": [
       "<Figure size 432x288 with 1 Axes>"
      ]
     },
     "metadata": {
      "needs_background": "light"
     },
     "output_type": "display_data"
    }
   ],
   "source": [
    "# 색상 지정(setosa: 빨간색, versicolor: 노란색, virginica: 파란색)\n",
    "color = ['r', 'y', 'b']\n",
    "\n",
    "# 각 target 별로 다른 색으로 scatter plot\n",
    "for i, c in enumerate(color):\n",
    "    x_axis_data = df[df['target']==i]['sepal_length']\n",
    "    y_axis_data = df[df['target']==i]['sepal_width']\n",
    "    plt.scatter(x_axis_data, y_axis_data, color=c, label=iris.target_names[i])\n",
    "    \n",
    "plt.legend()\n",
    "plt.xlabel('sepal length')\n",
    "plt.ylabel('sepal width')\n",
    "plt.show()"
   ]
  },
  {
   "cell_type": "code",
   "execution_count": 19,
   "id": "b9d9926e-17d8-4a1a-8efb-3c34e195cef5",
   "metadata": {
    "execution": {
     "iopub.execute_input": "2021-09-13T05:36:14.477158Z",
     "iopub.status.busy": "2021-09-13T05:36:14.476938Z",
     "iopub.status.idle": "2021-09-13T05:36:14.483688Z",
     "shell.execute_reply": "2021-09-13T05:36:14.483212Z",
     "shell.execute_reply.started": "2021-09-13T05:36:14.477127Z"
    }
   },
   "outputs": [],
   "source": [
    "# Target 값을 제외한 모든 속성 값을 MinMaxScaler 변환\n",
    "df_features = df[['sepal_length', 'sepal_width', 'petal_length', 'petal_width']]\n",
    "df_scaler = MinMaxScaler().fit_transform(df_features)"
   ]
  },
  {
   "cell_type": "code",
   "execution_count": 20,
   "id": "6a552f1d-c68e-4212-af7f-8e2f879d990b",
   "metadata": {
    "execution": {
     "iopub.execute_input": "2021-09-13T05:36:33.929214Z",
     "iopub.status.busy": "2021-09-13T05:36:33.928799Z",
     "iopub.status.idle": "2021-09-13T05:36:33.931769Z",
     "shell.execute_reply": "2021-09-13T05:36:33.931283Z",
     "shell.execute_reply.started": "2021-09-13T05:36:33.929189Z"
    }
   },
   "outputs": [],
   "source": [
    "# PCA를 이용하여 4차원 변수를 2차원으로 변환\n",
    "pca = PCA(n_components=2)"
   ]
  },
  {
   "cell_type": "code",
   "execution_count": 21,
   "id": "05b6f824-344b-4664-8040-e4e24614d0b9",
   "metadata": {
    "execution": {
     "iopub.execute_input": "2021-09-13T05:37:20.229978Z",
     "iopub.status.busy": "2021-09-13T05:37:20.229707Z",
     "iopub.status.idle": "2021-09-13T05:37:20.237540Z",
     "shell.execute_reply": "2021-09-13T05:37:20.237037Z",
     "shell.execute_reply.started": "2021-09-13T05:37:20.229948Z"
    }
   },
   "outputs": [
    {
     "name": "stdout",
     "output_type": "stream",
     "text": [
      "(150, 2)\n"
     ]
    }
   ],
   "source": [
    "# fit()과 transform() 을 호출하여 PCA 변환 / 데이터 반환\n",
    "pca.fit(df_scaler)\n",
    "df_pca = pca.transform(df_scaler)\n",
    "print(df_pca.shape)"
   ]
  },
  {
   "cell_type": "code",
   "execution_count": 23,
   "id": "a762fef6-958d-4529-8e1b-1219f7582113",
   "metadata": {
    "execution": {
     "iopub.execute_input": "2021-09-13T05:39:55.334939Z",
     "iopub.status.busy": "2021-09-13T05:39:55.334714Z",
     "iopub.status.idle": "2021-09-13T05:39:55.343478Z",
     "shell.execute_reply": "2021-09-13T05:39:55.342983Z",
     "shell.execute_reply.started": "2021-09-13T05:39:55.334912Z"
    },
    "tags": []
   },
   "outputs": [
    {
     "data": {
      "text/html": [
       "<div>\n",
       "<style scoped>\n",
       "    .dataframe tbody tr th:only-of-type {\n",
       "        vertical-align: middle;\n",
       "    }\n",
       "\n",
       "    .dataframe tbody tr th {\n",
       "        vertical-align: top;\n",
       "    }\n",
       "\n",
       "    .dataframe thead th {\n",
       "        text-align: right;\n",
       "    }\n",
       "</style>\n",
       "<table border=\"1\" class=\"dataframe\">\n",
       "  <thead>\n",
       "    <tr style=\"text-align: right;\">\n",
       "      <th></th>\n",
       "      <th>PCA_1</th>\n",
       "      <th>PCA_2</th>\n",
       "      <th>target</th>\n",
       "    </tr>\n",
       "  </thead>\n",
       "  <tbody>\n",
       "    <tr>\n",
       "      <th>0</th>\n",
       "      <td>-0.630703</td>\n",
       "      <td>0.107578</td>\n",
       "      <td>0</td>\n",
       "    </tr>\n",
       "    <tr>\n",
       "      <th>1</th>\n",
       "      <td>-0.622905</td>\n",
       "      <td>-0.104260</td>\n",
       "      <td>0</td>\n",
       "    </tr>\n",
       "    <tr>\n",
       "      <th>2</th>\n",
       "      <td>-0.669520</td>\n",
       "      <td>-0.051417</td>\n",
       "      <td>0</td>\n",
       "    </tr>\n",
       "  </tbody>\n",
       "</table>\n",
       "</div>"
      ],
      "text/plain": [
       "      PCA_1     PCA_2  target\n",
       "0 -0.630703  0.107578       0\n",
       "1 -0.622905 -0.104260       0\n",
       "2 -0.669520 -0.051417       0"
      ]
     },
     "execution_count": 23,
     "metadata": {},
     "output_type": "execute_result"
    }
   ],
   "source": [
    "# PCA 변환된 데이터의 컬럼명을 각각 PCA_1, PCA_2로 지정\n",
    "df_pca = pd.DataFrame(df_pca)\n",
    "df_pca.columns = ['PCA_1', 'PCA_2']\n",
    "df_pca['target'] = df.target\n",
    "df_pca.head(3)"
   ]
  },
  {
   "cell_type": "code",
   "execution_count": 25,
   "id": "3a6c1c2e-62a6-404f-b48e-3103ae2b9be9",
   "metadata": {
    "execution": {
     "iopub.execute_input": "2021-09-13T05:46:12.490855Z",
     "iopub.status.busy": "2021-09-13T05:46:12.490688Z",
     "iopub.status.idle": "2021-09-13T05:46:12.605314Z",
     "shell.execute_reply": "2021-09-13T05:46:12.605060Z",
     "shell.execute_reply.started": "2021-09-13T05:46:12.490838Z"
    },
    "tags": []
   },
   "outputs": [
    {
     "data": {
      "image/png": "[encoded data removed]",
      "text/plain": [
       "<Figure size 432x288 with 1 Axes>"
      ]
     },
     "metadata": {
      "needs_background": "light"
     },
     "output_type": "display_data"
    }
   ],
   "source": [
    "for i, c in enumerate(color):\n",
    "    x_axis_data = df_pca[df_pca['target']==i]['PCA_1']\n",
    "    y_axis_data = df_pca[df_pca['target']==i]['PCA_2']\n",
    "    plt.scatter(x_axis_data, y_axis_data, color=c, label=iris.target_names[i])\n",
    "    \n",
    "plt.legend()\n",
    "plt.xlabel('PCA_1')\n",
    "plt.ylabel('PCA_2')\n",
    "plt.show()"
   ]
  },
  {
   "cell_type": "markdown",
   "id": "c9e7633d-3c7e-4446-8b54-015cc8495723",
   "metadata": {},
   "source": [
    "# 연속형 변수 변환\n",
    "## 수치 범위 구간을 직접 지정하여 레이블링"
   ]
  },
  {
   "cell_type": "code",
   "execution_count": 26,
   "id": "ad9b8a23-e8cc-422c-95cf-df88dff5cbce",
   "metadata": {
    "execution": {
     "iopub.execute_input": "2021-09-13T05:49:27.286912Z",
     "iopub.status.busy": "2021-09-13T05:49:27.286740Z",
     "iopub.status.idle": "2021-09-13T05:49:27.298068Z",
     "shell.execute_reply": "2021-09-13T05:49:27.297843Z",
     "shell.execute_reply.started": "2021-09-13T05:49:27.286892Z"
    }
   },
   "outputs": [
    {
     "data": {
      "text/html": [
       "<div>\n",
       "<style scoped>\n",
       "    .dataframe tbody tr th:only-of-type {\n",
       "        vertical-align: middle;\n",
       "    }\n",
       "\n",
       "    .dataframe tbody tr th {\n",
       "        vertical-align: top;\n",
       "    }\n",
       "\n",
       "    .dataframe thead th {\n",
       "        text-align: right;\n",
       "    }\n",
       "</style>\n",
       "<table border=\"1\" class=\"dataframe\">\n",
       "  <thead>\n",
       "    <tr style=\"text-align: right;\">\n",
       "      <th></th>\n",
       "      <th>index</th>\n",
       "      <th>quality</th>\n",
       "      <th>fixed acidity</th>\n",
       "      <th>volatile acidity</th>\n",
       "      <th>citric acid</th>\n",
       "      <th>residual sugar</th>\n",
       "      <th>chlorides</th>\n",
       "      <th>free sulfur dioxide</th>\n",
       "      <th>total sulfur dioxide</th>\n",
       "      <th>density</th>\n",
       "      <th>pH</th>\n",
       "      <th>sulphates</th>\n",
       "      <th>alcohol</th>\n",
       "      <th>type</th>\n",
       "    </tr>\n",
       "  </thead>\n",
       "  <tbody>\n",
       "    <tr>\n",
       "      <th>0</th>\n",
       "      <td>0</td>\n",
       "      <td>5</td>\n",
       "      <td>5.6</td>\n",
       "      <td>0.695</td>\n",
       "      <td>0.06</td>\n",
       "      <td>6.8</td>\n",
       "      <td>0.042</td>\n",
       "      <td>9.0</td>\n",
       "      <td>84.0</td>\n",
       "      <td>0.99432</td>\n",
       "      <td>3.44</td>\n",
       "      <td>0.44</td>\n",
       "      <td>10.2</td>\n",
       "      <td>white</td>\n",
       "    </tr>\n",
       "    <tr>\n",
       "      <th>1</th>\n",
       "      <td>1</td>\n",
       "      <td>5</td>\n",
       "      <td>8.8</td>\n",
       "      <td>0.610</td>\n",
       "      <td>0.14</td>\n",
       "      <td>2.4</td>\n",
       "      <td>0.067</td>\n",
       "      <td>10.0</td>\n",
       "      <td>42.0</td>\n",
       "      <td>0.99690</td>\n",
       "      <td>3.19</td>\n",
       "      <td>0.59</td>\n",
       "      <td>9.5</td>\n",
       "      <td>red</td>\n",
       "    </tr>\n",
       "    <tr>\n",
       "      <th>2</th>\n",
       "      <td>2</td>\n",
       "      <td>5</td>\n",
       "      <td>7.9</td>\n",
       "      <td>0.210</td>\n",
       "      <td>0.39</td>\n",
       "      <td>2.0</td>\n",
       "      <td>0.057</td>\n",
       "      <td>21.0</td>\n",
       "      <td>138.0</td>\n",
       "      <td>0.99176</td>\n",
       "      <td>3.05</td>\n",
       "      <td>0.52</td>\n",
       "      <td>10.9</td>\n",
       "      <td>white</td>\n",
       "    </tr>\n",
       "    <tr>\n",
       "      <th>3</th>\n",
       "      <td>3</td>\n",
       "      <td>6</td>\n",
       "      <td>7.0</td>\n",
       "      <td>0.210</td>\n",
       "      <td>0.31</td>\n",
       "      <td>6.0</td>\n",
       "      <td>0.046</td>\n",
       "      <td>29.0</td>\n",
       "      <td>108.0</td>\n",
       "      <td>0.99390</td>\n",
       "      <td>3.26</td>\n",
       "      <td>0.50</td>\n",
       "      <td>10.8</td>\n",
       "      <td>white</td>\n",
       "    </tr>\n",
       "    <tr>\n",
       "      <th>4</th>\n",
       "      <td>4</td>\n",
       "      <td>6</td>\n",
       "      <td>7.8</td>\n",
       "      <td>0.400</td>\n",
       "      <td>0.26</td>\n",
       "      <td>9.5</td>\n",
       "      <td>0.059</td>\n",
       "      <td>32.0</td>\n",
       "      <td>178.0</td>\n",
       "      <td>0.99550</td>\n",
       "      <td>3.04</td>\n",
       "      <td>0.43</td>\n",
       "      <td>10.9</td>\n",
       "      <td>white</td>\n",
       "    </tr>\n",
       "  </tbody>\n",
       "</table>\n",
       "</div>"
      ],
      "text/plain": [
       "   index  quality  fixed acidity  volatile acidity  citric acid  \\\n",
       "0      0        5            5.6             0.695         0.06   \n",
       "1      1        5            8.8             0.610         0.14   \n",
       "2      2        5            7.9             0.210         0.39   \n",
       "3      3        6            7.0             0.210         0.31   \n",
       "4      4        6            7.8             0.400         0.26   \n",
       "\n",
       "   residual sugar  chlorides  free sulfur dioxide  total sulfur dioxide  \\\n",
       "0             6.8      0.042                  9.0                  84.0   \n",
       "1             2.4      0.067                 10.0                  42.0   \n",
       "2             2.0      0.057                 21.0                 138.0   \n",
       "3             6.0      0.046                 29.0                 108.0   \n",
       "4             9.5      0.059                 32.0                 178.0   \n",
       "\n",
       "   density    pH  sulphates  alcohol   type  \n",
       "0  0.99432  3.44       0.44     10.2  white  \n",
       "1  0.99690  3.19       0.59      9.5    red  \n",
       "2  0.99176  3.05       0.52     10.9  white  \n",
       "3  0.99390  3.26       0.50     10.8  white  \n",
       "4  0.99550  3.04       0.43     10.9  white  "
      ]
     },
     "execution_count": 26,
     "metadata": {},
     "output_type": "execute_result"
    }
   ],
   "source": [
    "# train data 확인\n",
    "train.head()"
   ]
  },
  {
   "cell_type": "code",
   "execution_count": 29,
   "id": "3c3ee0ba-5408-42cb-bd34-3b31045c4fd4",
   "metadata": {
    "execution": {
     "iopub.execute_input": "2021-09-13T06:08:46.942999Z",
     "iopub.status.busy": "2021-09-13T06:08:46.942664Z",
     "iopub.status.idle": "2021-09-13T06:08:46.956636Z",
     "shell.execute_reply": "2021-09-13T06:08:46.956436Z",
     "shell.execute_reply.started": "2021-09-13T06:08:46.942980Z"
    },
    "tags": []
   },
   "outputs": [
    {
     "data": {
      "text/html": [
       "<div>\n",
       "<style scoped>\n",
       "    .dataframe tbody tr th:only-of-type {\n",
       "        vertical-align: middle;\n",
       "    }\n",
       "\n",
       "    .dataframe tbody tr th {\n",
       "        vertical-align: top;\n",
       "    }\n",
       "\n",
       "    .dataframe thead th {\n",
       "        text-align: right;\n",
       "    }\n",
       "</style>\n",
       "<table border=\"1\" class=\"dataframe\">\n",
       "  <thead>\n",
       "    <tr style=\"text-align: right;\">\n",
       "      <th></th>\n",
       "      <th>index</th>\n",
       "      <th>quality</th>\n",
       "      <th>fixed acidity</th>\n",
       "      <th>volatile acidity</th>\n",
       "      <th>citric acid</th>\n",
       "      <th>residual sugar</th>\n",
       "      <th>chlorides</th>\n",
       "      <th>free sulfur dioxide</th>\n",
       "      <th>total sulfur dioxide</th>\n",
       "      <th>density</th>\n",
       "      <th>pH</th>\n",
       "      <th>sulphates</th>\n",
       "      <th>alcohol</th>\n",
       "      <th>type</th>\n",
       "    </tr>\n",
       "  </thead>\n",
       "  <tbody>\n",
       "    <tr>\n",
       "      <th>0</th>\n",
       "      <td>0</td>\n",
       "      <td>5</td>\n",
       "      <td>5.6</td>\n",
       "      <td>0.695</td>\n",
       "      <td>0.06</td>\n",
       "      <td>6.8</td>\n",
       "      <td>0.042</td>\n",
       "      <td>9.0</td>\n",
       "      <td>84.0</td>\n",
       "      <td>0.99432</td>\n",
       "      <td>normal</td>\n",
       "      <td>0.44</td>\n",
       "      <td>10.2</td>\n",
       "      <td>white</td>\n",
       "    </tr>\n",
       "    <tr>\n",
       "      <th>1</th>\n",
       "      <td>1</td>\n",
       "      <td>5</td>\n",
       "      <td>8.8</td>\n",
       "      <td>0.610</td>\n",
       "      <td>0.14</td>\n",
       "      <td>2.4</td>\n",
       "      <td>0.067</td>\n",
       "      <td>10.0</td>\n",
       "      <td>42.0</td>\n",
       "      <td>0.99690</td>\n",
       "      <td>low</td>\n",
       "      <td>0.59</td>\n",
       "      <td>9.5</td>\n",
       "      <td>red</td>\n",
       "    </tr>\n",
       "    <tr>\n",
       "      <th>2</th>\n",
       "      <td>2</td>\n",
       "      <td>5</td>\n",
       "      <td>7.9</td>\n",
       "      <td>0.210</td>\n",
       "      <td>0.39</td>\n",
       "      <td>2.0</td>\n",
       "      <td>0.057</td>\n",
       "      <td>21.0</td>\n",
       "      <td>138.0</td>\n",
       "      <td>0.99176</td>\n",
       "      <td>low</td>\n",
       "      <td>0.52</td>\n",
       "      <td>10.9</td>\n",
       "      <td>white</td>\n",
       "    </tr>\n",
       "    <tr>\n",
       "      <th>3</th>\n",
       "      <td>3</td>\n",
       "      <td>6</td>\n",
       "      <td>7.0</td>\n",
       "      <td>0.210</td>\n",
       "      <td>0.31</td>\n",
       "      <td>6.0</td>\n",
       "      <td>0.046</td>\n",
       "      <td>29.0</td>\n",
       "      <td>108.0</td>\n",
       "      <td>0.99390</td>\n",
       "      <td>low</td>\n",
       "      <td>0.50</td>\n",
       "      <td>10.8</td>\n",
       "      <td>white</td>\n",
       "    </tr>\n",
       "    <tr>\n",
       "      <th>4</th>\n",
       "      <td>4</td>\n",
       "      <td>6</td>\n",
       "      <td>7.8</td>\n",
       "      <td>0.400</td>\n",
       "      <td>0.26</td>\n",
       "      <td>9.5</td>\n",
       "      <td>0.059</td>\n",
       "      <td>32.0</td>\n",
       "      <td>178.0</td>\n",
       "      <td>0.99550</td>\n",
       "      <td>low</td>\n",
       "      <td>0.43</td>\n",
       "      <td>10.9</td>\n",
       "      <td>white</td>\n",
       "    </tr>\n",
       "  </tbody>\n",
       "</table>\n",
       "</div>"
      ],
      "text/plain": [
       "   index  quality  fixed acidity  volatile acidity  citric acid  \\\n",
       "0      0        5            5.6             0.695         0.06   \n",
       "1      1        5            8.8             0.610         0.14   \n",
       "2      2        5            7.9             0.210         0.39   \n",
       "3      3        6            7.0             0.210         0.31   \n",
       "4      4        6            7.8             0.400         0.26   \n",
       "\n",
       "   residual sugar  chlorides  free sulfur dioxide  total sulfur dioxide  \\\n",
       "0             6.8      0.042                  9.0                  84.0   \n",
       "1             2.4      0.067                 10.0                  42.0   \n",
       "2             2.0      0.057                 21.0                 138.0   \n",
       "3             6.0      0.046                 29.0                 108.0   \n",
       "4             9.5      0.059                 32.0                 178.0   \n",
       "\n",
       "   density      pH  sulphates  alcohol   type  \n",
       "0  0.99432  normal       0.44     10.2  white  \n",
       "1  0.99690     low       0.59      9.5    red  \n",
       "2  0.99176     low       0.52     10.9  white  \n",
       "3  0.99390     low       0.50     10.8  white  \n",
       "4  0.99550     low       0.43     10.9  white  "
      ]
     },
     "execution_count": 29,
     "metadata": {},
     "output_type": "execute_result"
    }
   ],
   "source": [
    "data = train.copy()\n",
    "\n",
    "# 연속변수 -> 범주형 변수 변환 함수 선언\n",
    "def func(x):\n",
    "    if x < 3: return 'lowest'\n",
    "    elif x < 3.3: return 'low'\n",
    "    elif x < 3.5: return 'normal'\n",
    "    else: return 'high'\n",
    "\n",
    "data['pH'] = train['pH'].apply(lambda x : func(x))\n",
    "\n",
    "# 변환 데이터 확인\n",
    "data.head()"
   ]
  },
  {
   "cell_type": "markdown",
   "id": "30677fb1-cc13-48b1-ba71-45e7e8a98074",
   "metadata": {},
   "source": [
    "## 판다스 cut() 함수로 레이블링"
   ]
  },
  {
   "cell_type": "code",
   "execution_count": 30,
   "id": "9ed5414a-2f0d-4619-8770-04c9ca1303a5",
   "metadata": {
    "execution": {
     "iopub.execute_input": "2021-09-13T06:11:32.704451Z",
     "iopub.status.busy": "2021-09-13T06:11:32.704236Z",
     "iopub.status.idle": "2021-09-13T06:11:32.718253Z",
     "shell.execute_reply": "2021-09-13T06:11:32.718061Z",
     "shell.execute_reply.started": "2021-09-13T06:11:32.704428Z"
    }
   },
   "outputs": [
    {
     "data": {
      "text/html": [
       "<div>\n",
       "<style scoped>\n",
       "    .dataframe tbody tr th:only-of-type {\n",
       "        vertical-align: middle;\n",
       "    }\n",
       "\n",
       "    .dataframe tbody tr th {\n",
       "        vertical-align: top;\n",
       "    }\n",
       "\n",
       "    .dataframe thead th {\n",
       "        text-align: right;\n",
       "    }\n",
       "</style>\n",
       "<table border=\"1\" class=\"dataframe\">\n",
       "  <thead>\n",
       "    <tr style=\"text-align: right;\">\n",
       "      <th></th>\n",
       "      <th>index</th>\n",
       "      <th>quality</th>\n",
       "      <th>fixed acidity</th>\n",
       "      <th>volatile acidity</th>\n",
       "      <th>citric acid</th>\n",
       "      <th>residual sugar</th>\n",
       "      <th>chlorides</th>\n",
       "      <th>free sulfur dioxide</th>\n",
       "      <th>total sulfur dioxide</th>\n",
       "      <th>density</th>\n",
       "      <th>pH</th>\n",
       "      <th>sulphates</th>\n",
       "      <th>alcohol</th>\n",
       "      <th>type</th>\n",
       "    </tr>\n",
       "  </thead>\n",
       "  <tbody>\n",
       "    <tr>\n",
       "      <th>0</th>\n",
       "      <td>0</td>\n",
       "      <td>5</td>\n",
       "      <td>5.6</td>\n",
       "      <td>0.695</td>\n",
       "      <td>0.06</td>\n",
       "      <td>6.8</td>\n",
       "      <td>0.042</td>\n",
       "      <td>9.0</td>\n",
       "      <td>84.0</td>\n",
       "      <td>0.99432</td>\n",
       "      <td>3.44</td>\n",
       "      <td>0.44</td>\n",
       "      <td>1</td>\n",
       "      <td>white</td>\n",
       "    </tr>\n",
       "    <tr>\n",
       "      <th>1</th>\n",
       "      <td>1</td>\n",
       "      <td>5</td>\n",
       "      <td>8.8</td>\n",
       "      <td>0.610</td>\n",
       "      <td>0.14</td>\n",
       "      <td>2.4</td>\n",
       "      <td>0.067</td>\n",
       "      <td>10.0</td>\n",
       "      <td>42.0</td>\n",
       "      <td>0.99690</td>\n",
       "      <td>3.19</td>\n",
       "      <td>0.59</td>\n",
       "      <td>1</td>\n",
       "      <td>red</td>\n",
       "    </tr>\n",
       "    <tr>\n",
       "      <th>2</th>\n",
       "      <td>2</td>\n",
       "      <td>5</td>\n",
       "      <td>7.9</td>\n",
       "      <td>0.210</td>\n",
       "      <td>0.39</td>\n",
       "      <td>2.0</td>\n",
       "      <td>0.057</td>\n",
       "      <td>21.0</td>\n",
       "      <td>138.0</td>\n",
       "      <td>0.99176</td>\n",
       "      <td>3.05</td>\n",
       "      <td>0.52</td>\n",
       "      <td>2</td>\n",
       "      <td>white</td>\n",
       "    </tr>\n",
       "    <tr>\n",
       "      <th>3</th>\n",
       "      <td>3</td>\n",
       "      <td>6</td>\n",
       "      <td>7.0</td>\n",
       "      <td>0.210</td>\n",
       "      <td>0.31</td>\n",
       "      <td>6.0</td>\n",
       "      <td>0.046</td>\n",
       "      <td>29.0</td>\n",
       "      <td>108.0</td>\n",
       "      <td>0.99390</td>\n",
       "      <td>3.26</td>\n",
       "      <td>0.50</td>\n",
       "      <td>2</td>\n",
       "      <td>white</td>\n",
       "    </tr>\n",
       "    <tr>\n",
       "      <th>4</th>\n",
       "      <td>4</td>\n",
       "      <td>6</td>\n",
       "      <td>7.8</td>\n",
       "      <td>0.400</td>\n",
       "      <td>0.26</td>\n",
       "      <td>9.5</td>\n",
       "      <td>0.059</td>\n",
       "      <td>32.0</td>\n",
       "      <td>178.0</td>\n",
       "      <td>0.99550</td>\n",
       "      <td>3.04</td>\n",
       "      <td>0.43</td>\n",
       "      <td>2</td>\n",
       "      <td>white</td>\n",
       "    </tr>\n",
       "  </tbody>\n",
       "</table>\n",
       "</div>"
      ],
      "text/plain": [
       "   index  quality  fixed acidity  volatile acidity  citric acid  \\\n",
       "0      0        5            5.6             0.695         0.06   \n",
       "1      1        5            8.8             0.610         0.14   \n",
       "2      2        5            7.9             0.210         0.39   \n",
       "3      3        6            7.0             0.210         0.31   \n",
       "4      4        6            7.8             0.400         0.26   \n",
       "\n",
       "   residual sugar  chlorides  free sulfur dioxide  total sulfur dioxide  \\\n",
       "0             6.8      0.042                  9.0                  84.0   \n",
       "1             2.4      0.067                 10.0                  42.0   \n",
       "2             2.0      0.057                 21.0                 138.0   \n",
       "3             6.0      0.046                 29.0                 108.0   \n",
       "4             9.5      0.059                 32.0                 178.0   \n",
       "\n",
       "   density    pH  sulphates  alcohol   type  \n",
       "0  0.99432  3.44       0.44        1  white  \n",
       "1  0.99690  3.19       0.59        1    red  \n",
       "2  0.99176  3.05       0.52        2  white  \n",
       "3  0.99390  3.26       0.50        2  white  \n",
       "4  0.99550  3.04       0.43        2  white  "
      ]
     },
     "execution_count": 30,
     "metadata": {},
     "output_type": "execute_result"
    }
   ],
   "source": [
    "data = train.copy()\n",
    "\n",
    "data['alcohol'] = pd.cut(data.alcohol, 5, labels=False)\n",
    "\n",
    "data.head()"
   ]
  },
  {
   "cell_type": "markdown",
   "id": "76681f9a-9685-4769-af04-f19f650557f5",
   "metadata": {},
   "source": [
    "# Polynomial Features\n",
    "## 간단예제"
   ]
  },
  {
   "cell_type": "code",
   "execution_count": 33,
   "id": "c530c71f-1bc9-444a-b867-055cf81976b8",
   "metadata": {
    "execution": {
     "iopub.execute_input": "2021-09-13T06:14:56.501094Z",
     "iopub.status.busy": "2021-09-13T06:14:56.500876Z",
     "iopub.status.idle": "2021-09-13T06:14:56.503785Z",
     "shell.execute_reply": "2021-09-13T06:14:56.503362Z",
     "shell.execute_reply.started": "2021-09-13T06:14:56.501066Z"
    },
    "tags": []
   },
   "outputs": [],
   "source": [
    "from sklearn.preprocessing import PolynomialFeatures\n",
    "import numpy as np"
   ]
  },
  {
   "cell_type": "code",
   "execution_count": 34,
   "id": "71d7a4d8-1005-410b-88cc-e191d4967661",
   "metadata": {
    "execution": {
     "iopub.execute_input": "2021-09-13T06:14:57.187317Z",
     "iopub.status.busy": "2021-09-13T06:14:57.187106Z",
     "iopub.status.idle": "2021-09-13T06:14:57.194043Z",
     "shell.execute_reply": "2021-09-13T06:14:57.193590Z",
     "shell.execute_reply.started": "2021-09-13T06:14:57.187295Z"
    },
    "tags": []
   },
   "outputs": [
    {
     "data": {
      "text/html": [
       "<div>\n",
       "<style scoped>\n",
       "    .dataframe tbody tr th:only-of-type {\n",
       "        vertical-align: middle;\n",
       "    }\n",
       "\n",
       "    .dataframe tbody tr th {\n",
       "        vertical-align: top;\n",
       "    }\n",
       "\n",
       "    .dataframe thead th {\n",
       "        text-align: right;\n",
       "    }\n",
       "</style>\n",
       "<table border=\"1\" class=\"dataframe\">\n",
       "  <thead>\n",
       "    <tr style=\"text-align: right;\">\n",
       "      <th></th>\n",
       "      <th>x_1</th>\n",
       "      <th>x_2</th>\n",
       "    </tr>\n",
       "  </thead>\n",
       "  <tbody>\n",
       "    <tr>\n",
       "      <th>0</th>\n",
       "      <td>0</td>\n",
       "      <td>1</td>\n",
       "    </tr>\n",
       "    <tr>\n",
       "      <th>1</th>\n",
       "      <td>2</td>\n",
       "      <td>3</td>\n",
       "    </tr>\n",
       "    <tr>\n",
       "      <th>2</th>\n",
       "      <td>4</td>\n",
       "      <td>5</td>\n",
       "    </tr>\n",
       "  </tbody>\n",
       "</table>\n",
       "</div>"
      ],
      "text/plain": [
       "   x_1  x_2\n",
       "0    0    1\n",
       "1    2    3\n",
       "2    4    5"
      ]
     },
     "execution_count": 34,
     "metadata": {},
     "output_type": "execute_result"
    }
   ],
   "source": [
    "# 임의 데이터 생성\n",
    "X = np.arange(6).reshape(3, 2)\n",
    "\n",
    "df = pd.DataFrame(X)\n",
    "df.columns = ['x_1', 'x_2']\n",
    "df"
   ]
  },
  {
   "cell_type": "code",
   "execution_count": 35,
   "id": "2c95d894-2c63-4200-ad53-f24c8835a0ab",
   "metadata": {
    "execution": {
     "iopub.execute_input": "2021-09-13T06:17:16.374830Z",
     "iopub.status.busy": "2021-09-13T06:17:16.374660Z",
     "iopub.status.idle": "2021-09-13T06:17:16.383714Z",
     "shell.execute_reply": "2021-09-13T06:17:16.383442Z",
     "shell.execute_reply.started": "2021-09-13T06:17:16.374810Z"
    }
   },
   "outputs": [
    {
     "data": {
      "text/html": [
       "<div>\n",
       "<style scoped>\n",
       "    .dataframe tbody tr th:only-of-type {\n",
       "        vertical-align: middle;\n",
       "    }\n",
       "\n",
       "    .dataframe tbody tr th {\n",
       "        vertical-align: top;\n",
       "    }\n",
       "\n",
       "    .dataframe thead th {\n",
       "        text-align: right;\n",
       "    }\n",
       "</style>\n",
       "<table border=\"1\" class=\"dataframe\">\n",
       "  <thead>\n",
       "    <tr style=\"text-align: right;\">\n",
       "      <th></th>\n",
       "      <th>1</th>\n",
       "      <th>x1</th>\n",
       "      <th>x2</th>\n",
       "      <th>x1^2</th>\n",
       "      <th>x1*x2</th>\n",
       "      <th>x2^2</th>\n",
       "    </tr>\n",
       "  </thead>\n",
       "  <tbody>\n",
       "    <tr>\n",
       "      <th>0</th>\n",
       "      <td>1.0</td>\n",
       "      <td>0.0</td>\n",
       "      <td>1.0</td>\n",
       "      <td>0.0</td>\n",
       "      <td>0.0</td>\n",
       "      <td>1.0</td>\n",
       "    </tr>\n",
       "    <tr>\n",
       "      <th>1</th>\n",
       "      <td>1.0</td>\n",
       "      <td>2.0</td>\n",
       "      <td>3.0</td>\n",
       "      <td>4.0</td>\n",
       "      <td>6.0</td>\n",
       "      <td>9.0</td>\n",
       "    </tr>\n",
       "    <tr>\n",
       "      <th>2</th>\n",
       "      <td>1.0</td>\n",
       "      <td>4.0</td>\n",
       "      <td>5.0</td>\n",
       "      <td>16.0</td>\n",
       "      <td>20.0</td>\n",
       "      <td>25.0</td>\n",
       "    </tr>\n",
       "  </tbody>\n",
       "</table>\n",
       "</div>"
      ],
      "text/plain": [
       "     1   x1   x2  x1^2  x1*x2  x2^2\n",
       "0  1.0  0.0  1.0   0.0    0.0   1.0\n",
       "1  1.0  2.0  3.0   4.0    6.0   9.0\n",
       "2  1.0  4.0  5.0  16.0   20.0  25.0"
      ]
     },
     "execution_count": 35,
     "metadata": {},
     "output_type": "execute_result"
    }
   ],
   "source": [
    "# 차원은 2로 설정\n",
    "poly_features = PolynomialFeatures(degree=2)\n",
    "\n",
    "# fit_transform 함수로 데이터 변환\n",
    "df_poly = poly_features.fit_transform(df)\n",
    "df_poly = pd.DataFrame(df_poly)\n",
    "\n",
    "# df_ply의 컬럼 변경\n",
    "df_poly.columns = ['1', 'x1', 'x2', 'x1^2', 'x1*x2', 'x2^2']\n",
    "df_poly"
   ]
  },
  {
   "cell_type": "markdown",
   "id": "975b8d10-97a1-4a50-bd36-c1fbd79b286d",
   "metadata": {},
   "source": [
    "## 와인 품질 분류 데이터에 적용해보기"
   ]
  },
  {
   "cell_type": "code",
   "execution_count": 37,
   "id": "15990ead-a03b-47bf-b889-26e8e7193f14",
   "metadata": {
    "execution": {
     "iopub.execute_input": "2021-09-13T06:24:25.432445Z",
     "iopub.status.busy": "2021-09-13T06:24:25.432233Z",
     "iopub.status.idle": "2021-09-13T06:24:25.442369Z",
     "shell.execute_reply": "2021-09-13T06:24:25.442162Z",
     "shell.execute_reply.started": "2021-09-13T06:24:25.432423Z"
    },
    "tags": []
   },
   "outputs": [],
   "source": [
    "# type 데이터 원-핫 인코딩\n",
    "from sklearn.preprocessing import OneHotEncoder\n",
    "\n",
    "encoder = OneHotEncoder()\n",
    "encoder.fit(train[['type']])\n",
    "\n",
    "onehot = encoder.transform(train[['type']])\n",
    "onehot = onehot.toarray()\n",
    "onehot = pd.DataFrame(onehot)\n",
    "\n",
    "data = train.copy()\n",
    "data = pd.concat([data, onehot], axis=1)\n",
    "\n",
    "data = data.drop(columns=['type'])"
   ]
  },
  {
   "cell_type": "code",
   "execution_count": 39,
   "id": "1faba9ce-de4c-4a81-9618-f69e063bc917",
   "metadata": {
    "execution": {
     "iopub.execute_input": "2021-09-13T06:24:59.793008Z",
     "iopub.status.busy": "2021-09-13T06:24:59.792863Z",
     "iopub.status.idle": "2021-09-13T06:24:59.799410Z",
     "shell.execute_reply": "2021-09-13T06:24:59.799210Z",
     "shell.execute_reply.started": "2021-09-13T06:24:59.792993Z"
    },
    "tags": []
   },
   "outputs": [],
   "source": [
    "# train 데이터를 PolynomialFeatures를 이용하여 변환\n",
    "poly_features = PolynomialFeatures(degree=2)\n",
    "\n",
    "df = data.drop('quality', axis=1) # 와인 품질은 target이므로 제외\n",
    "df_poly = poly_features.fit_transform(df)\n",
    "df_poly = pd.DataFrame(df_poly)"
   ]
  },
  {
   "cell_type": "code",
   "execution_count": 40,
   "id": "4879a652-6c7b-4732-be0a-0ad812bb65e9",
   "metadata": {
    "execution": {
     "iopub.execute_input": "2021-09-13T06:26:08.733858Z",
     "iopub.status.busy": "2021-09-13T06:26:08.733688Z",
     "iopub.status.idle": "2021-09-13T06:26:09.118008Z",
     "shell.execute_reply": "2021-09-13T06:26:09.117810Z",
     "shell.execute_reply.started": "2021-09-13T06:26:08.733839Z"
    }
   },
   "outputs": [
    {
     "data": {
      "text/plain": [
       "DecisionTreeClassifier()"
      ]
     },
     "execution_count": 40,
     "metadata": {},
     "output_type": "execute_result"
    }
   ],
   "source": [
    "# Decision Tree Classifier 모델을 변환된 데이터로 학습\n",
    "from sklearn.tree import DecisionTreeClassifier\n",
    "\n",
    "model = DecisionTreeClassifier()\n",
    "model.fit(df_poly, train['quality'])"
   ]
  },
  {
   "cell_type": "code",
   "execution_count": 41,
   "id": "9bebc86c-be60-421a-84dc-4fa5a2b5dd28",
   "metadata": {
    "execution": {
     "iopub.execute_input": "2021-09-13T06:27:45.405320Z",
     "iopub.status.busy": "2021-09-13T06:27:45.405096Z",
     "iopub.status.idle": "2021-09-13T06:27:45.412109Z",
     "shell.execute_reply": "2021-09-13T06:27:45.411673Z",
     "shell.execute_reply.started": "2021-09-13T06:27:45.405287Z"
    }
   },
   "outputs": [],
   "source": [
    "# test 데이터 원-핫 인코딩\n",
    "onehot = encoder.transform(test[['type']])\n",
    "onehot = onehot.toarray()\n",
    "onehot = pd.DataFrame(onehot)\n",
    "\n",
    "tdata = test.copy()\n",
    "tdata = pd.concat([tdata, onehot], axis=1)\n",
    "\n",
    "tdata = tdata.drop(columns=['type'])"
   ]
  },
  {
   "cell_type": "code",
   "execution_count": 43,
   "id": "7f2bd318-7fce-4818-a0e4-f6e5ed513bef",
   "metadata": {
    "execution": {
     "iopub.execute_input": "2021-09-13T06:28:57.642677Z",
     "iopub.status.busy": "2021-09-13T06:28:57.642456Z",
     "iopub.status.idle": "2021-09-13T06:28:57.649207Z",
     "shell.execute_reply": "2021-09-13T06:28:57.648780Z",
     "shell.execute_reply.started": "2021-09-13T06:28:57.642646Z"
    },
    "tags": []
   },
   "outputs": [],
   "source": [
    "# test 데이터 변환\n",
    "poly_features = PolynomialFeatures(degree=2)\n",
    "\n",
    "test_poly = poly_features.fit_transform(tdata)\n",
    "test_poly = pd.DataFrame(test_poly)"
   ]
  },
  {
   "cell_type": "code",
   "execution_count": 44,
   "id": "068d787c-8dba-4ddd-8564-9c7ced014b54",
   "metadata": {
    "execution": {
     "iopub.execute_input": "2021-09-13T06:29:14.874589Z",
     "iopub.status.busy": "2021-09-13T06:29:14.874420Z",
     "iopub.status.idle": "2021-09-13T06:29:14.878537Z",
     "shell.execute_reply": "2021-09-13T06:29:14.878191Z",
     "shell.execute_reply.started": "2021-09-13T06:29:14.874572Z"
    }
   },
   "outputs": [],
   "source": [
    "# 결과값 추론\n",
    "pred = model.predict(test_poly)"
   ]
  },
  {
   "cell_type": "code",
   "execution_count": 45,
   "id": "436ffa28-6063-41d4-a978-2627e780d5cc",
   "metadata": {
    "execution": {
     "iopub.execute_input": "2021-09-13T06:29:56.100264Z",
     "iopub.status.busy": "2021-09-13T06:29:56.100056Z",
     "iopub.status.idle": "2021-09-13T06:29:56.107612Z",
     "shell.execute_reply": "2021-09-13T06:29:56.107216Z",
     "shell.execute_reply.started": "2021-09-13T06:29:56.100242Z"
    }
   },
   "outputs": [],
   "source": [
    "# 정답 파일 생성\n",
    "submission = pd.read_csv('./data/sample_submission.csv')\n",
    "submission['quality'] = pred\n",
    "submission.to_csv('poly.csv', index = False)"
   ]
  }
 ],
 "metadata": {
  "kernelspec": {
   "display_name": "Python 3 (ipykernel)",
   "language": "python",
   "name": "python3"
  },
  "language_info": {
   "codemirror_mode": {
    "name": "ipython",
    "version": 3
   },
   "file_extension": ".py",
   "mimetype": "text/x-python",
   "name": "python",
   "nbconvert_exporter": "python",
   "pygments_lexer": "ipython3",
   "version": "3.8.10"
  }
 },
 "nbformat": 4,
 "nbformat_minor": 5
}
