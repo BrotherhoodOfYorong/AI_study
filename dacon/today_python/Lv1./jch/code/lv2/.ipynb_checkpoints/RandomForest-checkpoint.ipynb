{
 "cells": [
  {
   "cell_type": "code",
   "execution_count": 2,
   "id": "3783b82b",
   "metadata": {},
   "outputs": [],
   "source": [
    "import pandas as pd\n",
    "\n",
    "train = pd.read_csv('data/train.csv')\n",
    "test = pd.read_csv('data/test.csv')"
   ]
  },
  {
   "cell_type": "code",
   "execution_count": 4,
   "id": "466c18c1",
   "metadata": {},
   "outputs": [
    {
     "name": "stdout",
     "output_type": "stream",
     "text": [
      "<class 'pandas.core.frame.DataFrame'>\n",
      "RangeIndex: 1459 entries, 0 to 1458\n",
      "Data columns (total 11 columns):\n",
      " #   Column                  Non-Null Count  Dtype  \n",
      "---  ------                  --------------  -----  \n",
      " 0   id                      1459 non-null   int64  \n",
      " 1   hour                    1459 non-null   int64  \n",
      " 2   hour_bef_temperature    1457 non-null   float64\n",
      " 3   hour_bef_precipitation  1457 non-null   float64\n",
      " 4   hour_bef_windspeed      1450 non-null   float64\n",
      " 5   hour_bef_humidity       1457 non-null   float64\n",
      " 6   hour_bef_visibility     1457 non-null   float64\n",
      " 7   hour_bef_ozone          1383 non-null   float64\n",
      " 8   hour_bef_pm10           1369 non-null   float64\n",
      " 9   hour_bef_pm2.5          1342 non-null   float64\n",
      " 10  count                   1459 non-null   float64\n",
      "dtypes: float64(9), int64(2)\n",
      "memory usage: 125.5 KB\n"
     ]
    }
   ],
   "source": [
    "train.info()"
   ]
  },
  {
   "cell_type": "code",
   "execution_count": 10,
   "id": "60655138",
   "metadata": {},
   "outputs": [
    {
     "name": "stdout",
     "output_type": "stream",
     "text": [
      "<class 'pandas.core.frame.DataFrame'>\n",
      "RangeIndex: 715 entries, 0 to 714\n",
      "Data columns (total 10 columns):\n",
      " #   Column                  Non-Null Count  Dtype  \n",
      "---  ------                  --------------  -----  \n",
      " 0   id                      715 non-null    int64  \n",
      " 1   hour                    715 non-null    int64  \n",
      " 2   hour_bef_temperature    714 non-null    float64\n",
      " 3   hour_bef_precipitation  714 non-null    float64\n",
      " 4   hour_bef_windspeed      714 non-null    float64\n",
      " 5   hour_bef_humidity       714 non-null    float64\n",
      " 6   hour_bef_visibility     714 non-null    float64\n",
      " 7   hour_bef_ozone          680 non-null    float64\n",
      " 8   hour_bef_pm10           678 non-null    float64\n",
      " 9   hour_bef_pm2.5          679 non-null    float64\n",
      "dtypes: float64(8), int64(2)\n",
      "memory usage: 56.0 KB\n"
     ]
    }
   ],
   "source": [
    "test.info()"
   ]
  },
  {
   "cell_type": "code",
   "execution_count": 19,
   "id": "6b513128",
   "metadata": {},
   "outputs": [],
   "source": [
    "# 결측치를 평균 값으로 대체\n",
    "for col in train.columns:\n",
    "    train.fillna({ col: int(train[col].mean()) }, inplace=True)"
   ]
  },
  {
   "cell_type": "code",
   "execution_count": 18,
   "id": "5fd531df",
   "metadata": {},
   "outputs": [
    {
     "name": "stdout",
     "output_type": "stream",
     "text": [
      "<class 'pandas.core.frame.DataFrame'>\n",
      "RangeIndex: 1459 entries, 0 to 1458\n",
      "Data columns (total 11 columns):\n",
      " #   Column                  Non-Null Count  Dtype  \n",
      "---  ------                  --------------  -----  \n",
      " 0   id                      1459 non-null   int64  \n",
      " 1   hour                    1459 non-null   int64  \n",
      " 2   hour_bef_temperature    1459 non-null   float64\n",
      " 3   hour_bef_precipitation  1459 non-null   float64\n",
      " 4   hour_bef_windspeed      1459 non-null   float64\n",
      " 5   hour_bef_humidity       1459 non-null   float64\n",
      " 6   hour_bef_visibility     1459 non-null   float64\n",
      " 7   hour_bef_ozone          1459 non-null   float64\n",
      " 8   hour_bef_pm10           1459 non-null   float64\n",
      " 9   hour_bef_pm2.5          1459 non-null   float64\n",
      " 10  count                   1459 non-null   float64\n",
      "dtypes: float64(9), int64(2)\n",
      "memory usage: 125.5 KB\n"
     ]
    }
   ],
   "source": [
    "train.info()"
   ]
  },
  {
   "cell_type": "code",
   "execution_count": 48,
   "id": "d3d72ebe",
   "metadata": {},
   "outputs": [],
   "source": [
    "# 결측치를 보간법으로 대체\n",
    "train = pd.read_csv('data/train.csv')\n",
    "test = pd.read_csv('data/test.csv')"
   ]
  },
  {
   "cell_type": "code",
   "execution_count": 49,
   "id": "daea5deb",
   "metadata": {},
   "outputs": [
    {
     "name": "stdout",
     "output_type": "stream",
     "text": [
      "<class 'pandas.core.frame.DataFrame'>\n",
      "RangeIndex: 1459 entries, 0 to 1458\n",
      "Data columns (total 11 columns):\n",
      " #   Column                  Non-Null Count  Dtype  \n",
      "---  ------                  --------------  -----  \n",
      " 0   id                      1459 non-null   int64  \n",
      " 1   hour                    1459 non-null   int64  \n",
      " 2   hour_bef_temperature    1457 non-null   float64\n",
      " 3   hour_bef_precipitation  1457 non-null   float64\n",
      " 4   hour_bef_windspeed      1450 non-null   float64\n",
      " 5   hour_bef_humidity       1457 non-null   float64\n",
      " 6   hour_bef_visibility     1457 non-null   float64\n",
      " 7   hour_bef_ozone          1383 non-null   float64\n",
      " 8   hour_bef_pm10           1369 non-null   float64\n",
      " 9   hour_bef_pm2.5          1342 non-null   float64\n",
      " 10  count                   1459 non-null   float64\n",
      "dtypes: float64(9), int64(2)\n",
      "memory usage: 125.5 KB\n"
     ]
    }
   ],
   "source": [
    "train.info()"
   ]
  },
  {
   "cell_type": "code",
   "execution_count": 50,
   "id": "6cedcd40",
   "metadata": {},
   "outputs": [],
   "source": [
    "train.interpolate(inplace=True)"
   ]
  },
  {
   "cell_type": "code",
   "execution_count": 51,
   "id": "dd718822",
   "metadata": {},
   "outputs": [
    {
     "name": "stdout",
     "output_type": "stream",
     "text": [
      "<class 'pandas.core.frame.DataFrame'>\n",
      "RangeIndex: 1459 entries, 0 to 1458\n",
      "Data columns (total 11 columns):\n",
      " #   Column                  Non-Null Count  Dtype  \n",
      "---  ------                  --------------  -----  \n",
      " 0   id                      1459 non-null   int64  \n",
      " 1   hour                    1459 non-null   int64  \n",
      " 2   hour_bef_temperature    1459 non-null   float64\n",
      " 3   hour_bef_precipitation  1459 non-null   float64\n",
      " 4   hour_bef_windspeed      1459 non-null   float64\n",
      " 5   hour_bef_humidity       1459 non-null   float64\n",
      " 6   hour_bef_visibility     1459 non-null   float64\n",
      " 7   hour_bef_ozone          1459 non-null   float64\n",
      " 8   hour_bef_pm10           1459 non-null   float64\n",
      " 9   hour_bef_pm2.5          1459 non-null   float64\n",
      " 10  count                   1459 non-null   float64\n",
      "dtypes: float64(9), int64(2)\n",
      "memory usage: 125.5 KB\n"
     ]
    }
   ],
   "source": [
    "train.info()"
   ]
  },
  {
   "cell_type": "code",
   "execution_count": 52,
   "id": "2586304a",
   "metadata": {},
   "outputs": [],
   "source": [
    "# 랜덤포레스트회귀 모델 선언\n",
    "from sklearn.ensemble import RandomForestRegressor\n",
    "\n",
    "model = RandomForestRegressor()"
   ]
  },
  {
   "cell_type": "code",
   "execution_count": 53,
   "id": "6b5871b4",
   "metadata": {},
   "outputs": [
    {
     "data": {
      "text/plain": [
       "RandomForestRegressor()"
      ]
     },
     "execution_count": 53,
     "metadata": {},
     "output_type": "execute_result"
    }
   ],
   "source": [
    "# 랜덤포레스트회귀 모델을 평가 척도(RMSE)에 맞게 학습\n",
    "X_train = train.drop(['count'], axis=1)\n",
    "Y_train = train['count']\n",
    "\n",
    "model = RandomForestRegressor(criterion = 'mse')\n",
    "model.fit(X_train, Y_train)"
   ]
  },
  {
   "cell_type": "code",
   "execution_count": 54,
   "id": "2d82589d",
   "metadata": {},
   "outputs": [
    {
     "data": {
      "text/plain": [
       "array([0.02541219, 0.59332047, 0.17910898, 0.01778045, 0.02656155,\n",
       "       0.03631797, 0.03435563, 0.03505358, 0.03166829, 0.02042091])"
      ]
     },
     "execution_count": 54,
     "metadata": {},
     "output_type": "execute_result"
    }
   ],
   "source": [
    "model.feature_importances_"
   ]
  },
  {
   "cell_type": "code",
   "execution_count": 56,
   "id": "f1d7c413",
   "metadata": {},
   "outputs": [
    {
     "name": "stdout",
     "output_type": "stream",
     "text": [
      "컬럼 : id / 중요도 : 0.025412\n",
      "컬럼 : hour / 중요도 : 0.593320\n",
      "컬럼 : hour_bef_temperature / 중요도 : 0.179109\n",
      "컬럼 : hour_bef_precipitation / 중요도 : 0.017780\n",
      "컬럼 : hour_bef_windspeed / 중요도 : 0.026562\n",
      "컬럼 : hour_bef_humidity / 중요도 : 0.036318\n",
      "컬럼 : hour_bef_visibility / 중요도 : 0.034356\n",
      "컬럼 : hour_bef_ozone / 중요도 : 0.035054\n",
      "컬럼 : hour_bef_pm10 / 중요도 : 0.031668\n",
      "컬럼 : hour_bef_pm2.5 / 중요도 : 0.020421\n"
     ]
    }
   ],
   "source": [
    "for i in range(len(train.columns) - 1):\n",
    "    print(\"컬럼 : %s / 중요도 : %f\" % (train.columns[i], model.feature_importances_[i]))"
   ]
  },
  {
   "cell_type": "code",
   "execution_count": 67,
   "id": "cf9a4595",
   "metadata": {},
   "outputs": [],
   "source": [
    "# 변수 제거 후 예측하여 성능 비교\n",
    "X_train_1 = train.drop(['count', 'hour_bef_precipitation'], axis=1)\n",
    "X_train_2 = train.drop(['count', 'hour_bef_precipitation', 'hour_bef_pm2.5'], axis=1)\n",
    "X_train_3 = train.drop(['count', 'hour_bef_precipitation', 'hour_bef_pm2.5', 'hour_bef_windspeed'], axis=1)\n",
    "\n",
    "test.fillna(0, inplace=True)\n",
    "test_1 = test.drop(['hour_bef_precipitation'], axis=1)\n",
    "test_2 = test.drop(['hour_bef_precipitation', 'hour_bef_pm2.5'], axis=1)\n",
    "test_3 = test.drop(['hour_bef_precipitation', 'hour_bef_pm2.5', 'hour_bef_windspeed'], axis=1)"
   ]
  },
  {
   "cell_type": "code",
   "execution_count": 68,
   "id": "5bd25642",
   "metadata": {},
   "outputs": [
    {
     "data": {
      "text/plain": [
       "RandomForestRegressor()"
      ]
     },
     "execution_count": 68,
     "metadata": {},
     "output_type": "execute_result"
    }
   ],
   "source": [
    "model_1 = RandomForestRegressor(criterion = 'mse')\n",
    "model_1.fit(X_train_1, Y_train)\n",
    "\n",
    "model_2 = RandomForestRegressor(criterion = 'mse')\n",
    "model_2.fit(X_train_2, Y_train)\n",
    "\n",
    "model_3 = RandomForestRegressor(criterion = 'mse')\n",
    "model_3.fit(X_train_3, Y_train)"
   ]
  },
  {
   "cell_type": "code",
   "execution_count": 69,
   "id": "10e5bc03",
   "metadata": {},
   "outputs": [],
   "source": [
    "result_1 = model_1.predict(test_1)\n",
    "result_2 = model_2.predict(test_2)\n",
    "result_3 = model_3.predict(test_3)"
   ]
  },
  {
   "cell_type": "code",
   "execution_count": 70,
   "id": "78c9c53a",
   "metadata": {},
   "outputs": [],
   "source": [
    "submission_1 = pd.read_csv('data/submission.csv')\n",
    "submission_2 = pd.read_csv('data/submission.csv')\n",
    "submission_3 = pd.read_csv('data/submission.csv')\n",
    "\n",
    "submission_1['count'] = result_1\n",
    "submission_2['count'] = result_2\n",
    "submission_3['count'] = result_3\n",
    "\n",
    "submission_1.to_csv('sub_1.csv',index=False)\n",
    "submission_2.to_csv('sub_2.csv',index=False)\n",
    "submission_3.to_csv('sub_3.csv',index=False)"
   ]
  }
 ],
 "metadata": {
  "kernelspec": {
   "display_name": "Python 3 (ipykernel)",
   "language": "python",
   "name": "python3"
  },
  "language_info": {
   "codemirror_mode": {
    "name": "ipython",
    "version": 3
   },
   "file_extension": ".py",
   "mimetype": "text/x-python",
   "name": "python",
   "nbconvert_exporter": "python",
   "pygments_lexer": "ipython3",
   "version": "3.9.7"
  }
 },
 "nbformat": 4,
 "nbformat_minor": 5
}
