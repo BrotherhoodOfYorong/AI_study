{
 "cells": [
  {
   "cell_type": "markdown",
   "id": "247b74ab-366a-44a6-b619-d1910ca5ca75",
   "metadata": {},
   "source": [
    "# Bayesian Optimization"
   ]
  },
  {
   "cell_type": "code",
   "execution_count": 1,
   "id": "cb06e6ef-a60e-4f1e-ad76-b2ba57b0d56d",
   "metadata": {
    "execution": {
     "iopub.execute_input": "2021-09-13T13:17:58.951546Z",
     "iopub.status.busy": "2021-09-13T13:17:58.951319Z",
     "iopub.status.idle": "2021-09-13T13:17:59.301887Z",
     "shell.execute_reply": "2021-09-13T13:17:59.301648Z",
     "shell.execute_reply.started": "2021-09-13T13:17:58.951484Z"
    },
    "tags": []
   },
   "outputs": [],
   "source": [
    "import pandas as pd\n",
    "from sklearn.preprocessing import MinMaxScaler, OneHotEncoder\n",
    "from sklearn.ensemble import RandomForestClassifier\n",
    "\n",
    "from sklearn.model_selection import KFold, train_test_split\n",
    "from sklearn.metrics import accuracy_score\n",
    "import numpy as np"
   ]
  },
  {
   "cell_type": "code",
   "execution_count": 2,
   "id": "a6fa7542-bc79-4901-8885-747df60ba236",
   "metadata": {
    "execution": {
     "iopub.execute_input": "2021-09-13T13:17:59.302378Z",
     "iopub.status.busy": "2021-09-13T13:17:59.302297Z",
     "iopub.status.idle": "2021-09-13T13:17:59.317099Z",
     "shell.execute_reply": "2021-09-13T13:17:59.316898Z",
     "shell.execute_reply.started": "2021-09-13T13:17:59.302368Z"
    },
    "tags": []
   },
   "outputs": [],
   "source": [
    "train = pd.read_csv('./data/train.csv')\n",
    "test = pd.read_csv('./data/test.csv')\n",
    "\n",
    "# MinMax\n",
    "scaler = MinMaxScaler()\n",
    "scaler.fit(train[['fixed acidity']])\n",
    "train['Scaled fixed acidity'] = scaler.transform(train[['fixed acidity']])\n",
    "test['Scaled fixed acidity'] = scaler.transform(test[['fixed acidity']])\n",
    "\n",
    "# 원-핫 인코딩\n",
    "encoder = OneHotEncoder()\n",
    "encoder.fit(train[['type']])\n",
    "\n",
    "onehot = encoder.transform(train[['type']])\n",
    "onehot = onehot.toarray()\n",
    "onehot = pd.DataFrame(onehot)\n",
    "onehot.columns = encoder.get_feature_names()\n",
    "train = pd.concat([train, onehot], axis=1)\n",
    "train = train.drop(columns=['type'])\n",
    "\n",
    "onehot = encoder.transform(test[['type']])\n",
    "onehot = onehot.toarray()\n",
    "onehot = pd.DataFrame(onehot)\n",
    "onehot.columns = encoder.get_feature_names()\n",
    "test = pd.concat([test, onehot], axis=1)\n",
    "test = test.drop(columns=['type'])"
   ]
  },
  {
   "cell_type": "code",
   "execution_count": 3,
   "id": "8ba3fb07-7abb-4d6a-8cc3-9c1c00ff924f",
   "metadata": {
    "execution": {
     "iopub.execute_input": "2021-09-13T13:17:59.317475Z",
     "iopub.status.busy": "2021-09-13T13:17:59.317402Z",
     "iopub.status.idle": "2021-09-13T13:17:59.321251Z",
     "shell.execute_reply": "2021-09-13T13:17:59.321052Z",
     "shell.execute_reply.started": "2021-09-13T13:17:59.317466Z"
    },
    "tags": []
   },
   "outputs": [],
   "source": [
    "from bayes_opt import BayesianOptimization"
   ]
  },
  {
   "cell_type": "code",
   "execution_count": 4,
   "id": "498cb510-22b7-4df8-ba78-5f147ba6603a",
   "metadata": {
    "execution": {
     "iopub.execute_input": "2021-09-13T13:17:59.321843Z",
     "iopub.status.busy": "2021-09-13T13:17:59.321769Z",
     "iopub.status.idle": "2021-09-13T13:17:59.323608Z",
     "shell.execute_reply": "2021-09-13T13:17:59.323412Z",
     "shell.execute_reply.started": "2021-09-13T13:17:59.321834Z"
    },
    "tags": []
   },
   "outputs": [],
   "source": [
    "# x: 학습데이터 // y: 목표 변수\n",
    "x = train.drop(columns=['index', 'quality'])\n",
    "y = train['quality']"
   ]
  },
  {
   "cell_type": "code",
   "execution_count": 5,
   "id": "cfc2e363-d722-445c-acbe-b0a43465cf46",
   "metadata": {
    "execution": {
     "iopub.execute_input": "2021-09-13T13:17:59.324056Z",
     "iopub.status.busy": "2021-09-13T13:17:59.323962Z",
     "iopub.status.idle": "2021-09-13T13:17:59.325638Z",
     "shell.execute_reply": "2021-09-13T13:17:59.325451Z",
     "shell.execute_reply.started": "2021-09-13T13:17:59.324045Z"
    },
    "tags": []
   },
   "outputs": [],
   "source": [
    "# 랜덤포레스트 모델 하이퍼파라미터\n",
    "rf_parameter_bounds = {\n",
    "    'max_depth': (1, 3), # 트리 깊이\n",
    "    'n_estimators': (30, 100),\n",
    "}"
   ]
  },
  {
   "cell_type": "code",
   "execution_count": 6,
   "id": "d8bf58e4-a9cd-42d1-b705-f84eead573cb",
   "metadata": {
    "execution": {
     "iopub.execute_input": "2021-09-13T13:17:59.325990Z",
     "iopub.status.busy": "2021-09-13T13:17:59.325921Z",
     "iopub.status.idle": "2021-09-13T13:17:59.327920Z",
     "shell.execute_reply": "2021-09-13T13:17:59.327722Z",
     "shell.execute_reply.started": "2021-09-13T13:17:59.325982Z"
    },
    "tags": []
   },
   "outputs": [],
   "source": [
    "# 랜덤포레스트 함수 생성\n",
    "def rf_bo(max_depth, n_estimators):\n",
    "    rf_params = {\n",
    "        'max_depth': int(round(max_depth)),\n",
    "        'n_estimators': int(round(n_estimators)),\n",
    "    }\n",
    "    rf = RandomForestClassifier(**rf_params)\n",
    "    \n",
    "    x_train, x_valid, y_train, y_valid = train_test_split(x, y, test_size=0.2, )\n",
    "    rf.fit(x_train, y_train)\n",
    "    score = accuracy_score(y_valid, rf.predict(x_valid))\n",
    "    return score"
   ]
  },
  {
   "cell_type": "code",
   "execution_count": 7,
   "id": "36e9d715-2c48-4a0d-8ed3-986aca7be591",
   "metadata": {
    "execution": {
     "iopub.execute_input": "2021-09-13T13:17:59.328264Z",
     "iopub.status.busy": "2021-09-13T13:17:59.328195Z",
     "iopub.status.idle": "2021-09-13T13:17:59.329931Z",
     "shell.execute_reply": "2021-09-13T13:17:59.329743Z",
     "shell.execute_reply.started": "2021-09-13T13:17:59.328255Z"
    },
    "tags": []
   },
   "outputs": [],
   "source": [
    "# Bayesian Optimization 객체 생성\n",
    "BO_rf = BayesianOptimization(f=rf_bo, pbounds=rf_parameter_bounds, random_state=0)"
   ]
  },
  {
   "cell_type": "code",
   "execution_count": 8,
   "id": "c19cc925-1ccb-4825-ac2f-1d028da7e4f7",
   "metadata": {
    "execution": {
     "iopub.execute_input": "2021-09-13T13:17:59.330322Z",
     "iopub.status.busy": "2021-09-13T13:17:59.330210Z",
     "iopub.status.idle": "2021-09-13T13:18:00.615083Z",
     "shell.execute_reply": "2021-09-13T13:18:00.614872Z",
     "shell.execute_reply.started": "2021-09-13T13:17:59.330313Z"
    },
    "tags": []
   },
   "outputs": [
    {
     "name": "stdout",
     "output_type": "stream",
     "text": [
      "|   iter    |  target   | max_depth | n_esti... |\n",
      "-------------------------------------------------\n",
      "| \u001b[0m 1       \u001b[0m | \u001b[0m 0.4945  \u001b[0m | \u001b[0m 2.098   \u001b[0m | \u001b[0m 80.06   \u001b[0m |\n",
      "| \u001b[0m 2       \u001b[0m | \u001b[0m 0.4882  \u001b[0m | \u001b[0m 2.206   \u001b[0m | \u001b[0m 68.14   \u001b[0m |\n",
      "| \u001b[0m 3       \u001b[0m | \u001b[0m 0.4736  \u001b[0m | \u001b[0m 1.847   \u001b[0m | \u001b[0m 75.21   \u001b[0m |\n",
      "| \u001b[95m 4       \u001b[0m | \u001b[95m 0.5091  \u001b[0m | \u001b[95m 1.875   \u001b[0m | \u001b[95m 92.42   \u001b[0m |\n",
      "| \u001b[0m 5       \u001b[0m | \u001b[0m 0.5082  \u001b[0m | \u001b[0m 2.927   \u001b[0m | \u001b[0m 56.84   \u001b[0m |\n",
      "| \u001b[95m 6       \u001b[0m | \u001b[95m 0.5164  \u001b[0m | \u001b[95m 1.906   \u001b[0m | \u001b[95m 88.77   \u001b[0m |\n",
      "| \u001b[95m 7       \u001b[0m | \u001b[95m 0.5182  \u001b[0m | \u001b[95m 2.874   \u001b[0m | \u001b[95m 47.47   \u001b[0m |\n",
      "| \u001b[0m 8       \u001b[0m | \u001b[0m 0.5155  \u001b[0m | \u001b[0m 1.0     \u001b[0m | \u001b[0m 39.21   \u001b[0m |\n",
      "| \u001b[95m 9       \u001b[0m | \u001b[95m 0.5273  \u001b[0m | \u001b[95m 3.0     \u001b[0m | \u001b[95m 30.0    \u001b[0m |\n",
      "| \u001b[0m 10      \u001b[0m | \u001b[0m 0.4664  \u001b[0m | \u001b[0m 1.0     \u001b[0m | \u001b[0m 32.87   \u001b[0m |\n",
      "=================================================\n"
     ]
    }
   ],
   "source": [
    "# Bayesian Optimization 실행\n",
    "BO_rf.maximize(init_points=5, n_iter=5)"
   ]
  },
  {
   "cell_type": "code",
   "execution_count": 9,
   "id": "803b01cf-0327-45ad-b8af-70fdf7d3d68a",
   "metadata": {
    "execution": {
     "iopub.execute_input": "2021-09-13T13:19:58.821879Z",
     "iopub.status.busy": "2021-09-13T13:19:58.821713Z",
     "iopub.status.idle": "2021-09-13T13:19:58.824951Z",
     "shell.execute_reply": "2021-09-13T13:19:58.824631Z",
     "shell.execute_reply.started": "2021-09-13T13:19:58.821862Z"
    }
   },
   "outputs": [
    {
     "name": "stdout",
     "output_type": "stream",
     "text": [
      "{'max_depth': 3, 'n_estimators': 30}\n"
     ]
    }
   ],
   "source": [
    "# 하이퍼파라미터 결과값 저장\n",
    "max_params = BO_rf.max['params']\n",
    "max_params['max_depth'] = int(max_params['max_depth'])\n",
    "max_params['n_estimators'] = int(max_params['n_estimators'])\n",
    "print(max_params)"
   ]
  },
  {
   "cell_type": "code",
   "execution_count": 10,
   "id": "44d5c995-6aee-4e1c-a391-3cb8d069d028",
   "metadata": {
    "execution": {
     "iopub.execute_input": "2021-09-13T13:20:33.790386Z",
     "iopub.status.busy": "2021-09-13T13:20:33.790241Z",
     "iopub.status.idle": "2021-09-13T13:20:33.792391Z",
     "shell.execute_reply": "2021-09-13T13:20:33.792157Z",
     "shell.execute_reply.started": "2021-09-13T13:20:33.790372Z"
    }
   },
   "outputs": [],
   "source": [
    "BO_tuend_rf = RandomForestClassifier(**max_params)"
   ]
  },
  {
   "cell_type": "code",
   "execution_count": null,
   "id": "9cd54e15-227e-42a1-8f27-f53c0c02bb36",
   "metadata": {},
   "outputs": [],
   "source": []
  }
 ],
 "metadata": {
  "kernelspec": {
   "display_name": "Python 3 (ipykernel)",
   "language": "python",
   "name": "python3"
  },
  "language_info": {
   "codemirror_mode": {
    "name": "ipython",
    "version": 3
   },
   "file_extension": ".py",
   "mimetype": "text/x-python",
   "name": "python",
   "nbconvert_exporter": "python",
   "pygments_lexer": "ipython3",
   "version": "3.8.10"
  }
 },
 "nbformat": 4,
 "nbformat_minor": 5
}
