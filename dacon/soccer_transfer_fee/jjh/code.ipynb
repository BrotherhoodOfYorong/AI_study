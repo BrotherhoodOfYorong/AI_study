{
 "cells": [
  {
   "cell_type": "markdown",
   "id": "38153c8f-0406-49b2-a37b-08727f311540",
   "metadata": {},
   "source": [
    "# 기본 라이브러리 import"
   ]
  },
  {
   "cell_type": "code",
   "execution_count": 1,
   "id": "81cd5da3-ba7b-48c6-83ae-0866e8a33108",
   "metadata": {
    "execution": {
     "iopub.execute_input": "2021-09-29T00:38:27.140576Z",
     "iopub.status.busy": "2021-09-29T00:38:27.140378Z",
     "iopub.status.idle": "2021-09-29T00:38:27.674200Z",
     "shell.execute_reply": "2021-09-29T00:38:27.673952Z",
     "shell.execute_reply.started": "2021-09-29T00:38:27.140526Z"
    },
    "tags": []
   },
   "outputs": [],
   "source": [
    "import pandas as pd\n",
    "import numpy as np\n",
    "import torch\n",
    "import matplotlib.pyplot as plt"
   ]
  },
  {
   "cell_type": "markdown",
   "id": "3ab1f326-cd05-4c58-a85a-d9b5c90f51eb",
   "metadata": {},
   "source": [
    "# Data load"
   ]
  },
  {
   "cell_type": "code",
   "execution_count": 2,
   "id": "38c8fcda-34f4-40ae-9e9f-afb806837531",
   "metadata": {
    "execution": {
     "iopub.execute_input": "2021-09-29T00:38:27.674996Z",
     "iopub.status.busy": "2021-09-29T00:38:27.674828Z",
     "iopub.status.idle": "2021-09-29T00:38:27.712520Z",
     "shell.execute_reply": "2021-09-29T00:38:27.712279Z",
     "shell.execute_reply.started": "2021-09-29T00:38:27.674982Z"
    },
    "tags": []
   },
   "outputs": [],
   "source": [
    "train = pd.read_csv('../data/FIFA_train.csv')\n",
    "test = pd.read_csv('../data/FIFA_test.csv')"
   ]
  },
  {
   "cell_type": "markdown",
   "id": "614dd372-5f8d-44f3-b50f-3b09c90c5b32",
   "metadata": {},
   "source": [
    "# 전처리"
   ]
  },
  {
   "cell_type": "code",
   "execution_count": 3,
   "id": "ec71d37c-2b35-453d-8d28-592196ff4e94",
   "metadata": {
    "execution": {
     "iopub.execute_input": "2021-09-29T00:38:27.713079Z",
     "iopub.status.busy": "2021-09-29T00:38:27.712948Z",
     "iopub.status.idle": "2021-09-29T00:38:27.886353Z",
     "shell.execute_reply": "2021-09-29T00:38:27.886128Z",
     "shell.execute_reply.started": "2021-09-29T00:38:27.713065Z"
    },
    "tags": []
   },
   "outputs": [],
   "source": [
    "from sklearn.preprocessing import OneHotEncoder as OHE\n",
    "\n",
    "# 불필요 피처(이름) Drop\n",
    "train = train.drop(columns='name')\n",
    "test = test.drop(columns='name')\n",
    "\n",
    "# 계약기간 포맷 통일\n",
    "tr_contract, te_contract = [], []\n",
    "for tr in train.contract_until: tr_contract.append(tr[-4:])\n",
    "for te in test.contract_until: te_contract.append(te[-4:])\n",
    "train.contract_until = tr_contract\n",
    "test.contract_until = te_contract\n",
    "\n",
    "to_encode_cols = ['continent', 'position', 'prefer_foot']\n",
    "encoder = OHE()\n",
    "encoder.fit(train[to_encode_cols])\n",
    "\n",
    "onehot = encoder.transform(train[to_encode_cols])\n",
    "onehot = onehot.toarray()\n",
    "onehot = pd.DataFrame(onehot)\n",
    "onehot.columns = encoder.get_feature_names()\n",
    "\n",
    "tr_encoded = train.drop(columns=to_encode_cols)\n",
    "tr_encoded = pd.concat([tr_encoded, onehot], axis=1)\n",
    "\n",
    "onehot = encoder.transform(test[to_encode_cols])\n",
    "onehot = onehot.toarray()\n",
    "onehot = pd.DataFrame(onehot)\n",
    "onehot.columns = encoder.get_feature_names()\n",
    "\n",
    "te_encoded = test.drop(columns=to_encode_cols)\n",
    "te_encoded = pd.concat([te_encoded, onehot], axis=1)"
   ]
  },
  {
   "cell_type": "markdown",
   "id": "2692c03d-60c2-4dfa-8a28-7be4f9977a5f",
   "metadata": {},
   "source": [
    "# KFold"
   ]
  },
  {
   "cell_type": "code",
   "execution_count": 4,
   "id": "a32efc5c-75dd-41d0-b570-2c619941e5ef",
   "metadata": {
    "execution": {
     "iopub.execute_input": "2021-09-29T00:38:27.886956Z",
     "iopub.status.busy": "2021-09-29T00:38:27.886792Z",
     "iopub.status.idle": "2021-09-29T00:38:27.896036Z",
     "shell.execute_reply": "2021-09-29T00:38:27.895832Z",
     "shell.execute_reply.started": "2021-09-29T00:38:27.886942Z"
    },
    "tags": []
   },
   "outputs": [],
   "source": [
    "from sklearn.model_selection import KFold\n",
    "\n",
    "kf = KFold(n_splits=5, shuffle=True, random_state=0)\n",
    "datasets = {}\n",
    "\n",
    "i = 1\n",
    "for tr, val in kf.split(tr_encoded):\n",
    "    datasets[i] = (tr, val)\n",
    "    i += 1"
   ]
  },
  {
   "cell_type": "markdown",
   "id": "246e637e-1b57-4718-ae31-ce077b5b7160",
   "metadata": {},
   "source": [
    "## Decision Tree "
   ]
  },
  {
   "cell_type": "code",
   "execution_count": 5,
   "id": "51c5ebcc-5e3d-4a86-8266-8adf07be065e",
   "metadata": {
    "execution": {
     "iopub.execute_input": "2021-09-29T00:38:27.896916Z",
     "iopub.status.busy": "2021-09-29T00:38:27.896711Z",
     "iopub.status.idle": "2021-09-29T00:38:27.944997Z",
     "shell.execute_reply": "2021-09-29T00:38:27.944792Z",
     "shell.execute_reply.started": "2021-09-29T00:38:27.896902Z"
    },
    "tags": []
   },
   "outputs": [],
   "source": [
    "from sklearn.tree import DecisionTreeRegressor as DTR\n",
    "\n",
    "model = DTR(random_state=0)\n",
    "\n",
    "# id 제거, target 분리\n",
    "tr_feat = tr_encoded.drop(columns=['id', 'value'])\n",
    "tr_target = tr_encoded['value']\n",
    "\n",
    "model.fit(tr_feat, tr_target)\n",
    "\n",
    "# id 분리\n",
    "te_id = te_encoded['id']\n",
    "te_feat = te_encoded.drop(columns='id')\n",
    "\n",
    "# 결과예측\n",
    "prediction = model.predict(te_feat)\n",
    "\n",
    "# id와 결과를 데이터프레임으로 변환\n",
    "te_id = te_id.tolist()\n",
    "prediction = prediction.tolist()\n",
    "\n",
    "result = {\n",
    "    'id': te_id,\n",
    "    'value': prediction\n",
    "}\n",
    "result = pd.DataFrame(result)\n",
    "result.to_csv('decision_tree.csv', index=False)"
   ]
  },
  {
   "cell_type": "markdown",
   "id": "ee0a3ce3-4a75-4e9c-a157-61ce8c33c327",
   "metadata": {},
   "source": [
    "# Random Forest"
   ]
  },
  {
   "cell_type": "code",
   "execution_count": 6,
   "id": "d35bb41f-b59f-4471-b973-8b373426cad1",
   "metadata": {
    "execution": {
     "iopub.execute_input": "2021-09-29T00:38:27.945575Z",
     "iopub.status.busy": "2021-09-29T00:38:27.945388Z",
     "iopub.status.idle": "2021-09-29T00:38:29.069502Z",
     "shell.execute_reply": "2021-09-29T00:38:29.069209Z",
     "shell.execute_reply.started": "2021-09-29T00:38:27.945560Z"
    },
    "tags": []
   },
   "outputs": [],
   "source": [
    "from sklearn.ensemble import RandomForestRegressor as RFR\n",
    "\n",
    "model = RFR(n_estimators=100, criterion='mse', random_state=0)\n",
    "\n",
    "# Decision Tree의 Trainset을 그대로 사용\n",
    "model.fit(tr_feat, tr_target)\n",
    "\n",
    "# Decision Tree의 Testset을 그대로 사용\n",
    "prediction = model.predict(te_feat)\n",
    "\n",
    "# id와 결과를 데이터프레임으로 변환\n",
    "prediction = prediction.tolist()\n",
    "\n",
    "result = {\n",
    "    'id': te_id,\n",
    "    'value': prediction\n",
    "}\n",
    "result = pd.DataFrame(result)\n",
    "result.to_csv('RandomForest.csv', index=False)"
   ]
  },
  {
   "cell_type": "markdown",
   "id": "f3a03e41-7c66-4dbe-b481-1e22daffd4ab",
   "metadata": {},
   "source": [
    "# "
   ]
  }
 ],
 "metadata": {
  "kernelspec": {
   "display_name": "Python 3 (ipykernel)",
   "language": "python",
   "name": "python3"
  },
  "language_info": {
   "codemirror_mode": {
    "name": "ipython",
    "version": 3
   },
   "file_extension": ".py",
   "mimetype": "text/x-python",
   "name": "python",
   "nbconvert_exporter": "python",
   "pygments_lexer": "ipython3",
   "version": "3.8.10"
  }
 },
 "nbformat": 4,
 "nbformat_minor": 5
}
