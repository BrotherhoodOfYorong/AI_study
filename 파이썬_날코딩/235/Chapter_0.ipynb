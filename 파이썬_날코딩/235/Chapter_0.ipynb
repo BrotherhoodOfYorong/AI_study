{
 "cells": [
  {
   "cell_type": "markdown",
   "id": "ae27e2d7",
   "metadata": {},
   "source": [
    "## Goal\n",
    "\n",
    "딥러닝 알고리즘을 직접 구현해보며,딥러닝 동작 원리와 구현 방법을 속속들이 알기!"
   ]
  },
  {
   "cell_type": "markdown",
   "id": "1ceb4e04",
   "metadata": {},
   "source": [
    "## 퍼셉트론\n",
    "\n",
    "#### 다음의 구조를 가짐\n",
    "입력 -> 가중치 -> 합산 -> 비선형 함수 -> 출력  \n",
    "- 입력 : 전기 신호\n",
    "- 가중치 : 뉴런 연결 부위에 형성된 시냅스의 발달 정도\n",
    "- 합산 : 각 가지돌기로부터 들어오는 전기 신호들이 뉴런 세포체 안에서 합해지는 과정\n",
    "- 비선형 함수(활성화 함수) : 단순히 입력 전기 신호를 합한 값을 출력으로 삼지 않고, 나름의 처리를 거쳐 출력\n"
   ]
  },
  {
   "cell_type": "markdown",
   "id": "335f1167",
   "metadata": {},
   "source": [
    "## 딥러닝을 위한 수학\n",
    "- 선형대수학\n",
    "    - 벡터나 행렬 같은 텐서를 다루는데 필요\n",
    "- 미분적분학\n",
    "    - 원하는 동작을 하도록 퍼셉트론 가중치를 조금씩 바꾸는 학습 과정이 편미분을 이용한 역전파 처리로 구성\n",
    "- 확률통계\n",
    "    - 딥러닝 알고리즘의 동작 방식은 경험적이고 귀납적인 추론 방식에 해당\n",
    "    - 딥러닝 알고리즘이 답을 만들어 내는 과정은 조건부 확률 분포의 추정에 해당"
   ]
  },
  {
   "cell_type": "markdown",
   "id": "71139742",
   "metadata": {},
   "source": [
    "## 예제 소스\n",
    "- https://github.com/konantechnology/academy.alzza\n",
    "- www.hanbit.co.kr/src/10200"
   ]
  }
 ],
 "metadata": {
  "kernelspec": {
   "display_name": "Python 3",
   "language": "python",
   "name": "python3"
  },
  "language_info": {
   "codemirror_mode": {
    "name": "ipython",
    "version": 3
   },
   "file_extension": ".py",
   "mimetype": "text/x-python",
   "name": "python",
   "nbconvert_exporter": "python",
   "pygments_lexer": "ipython3",
   "version": "3.8.8"
  }
 },
 "nbformat": 4,
 "nbformat_minor": 5
}
