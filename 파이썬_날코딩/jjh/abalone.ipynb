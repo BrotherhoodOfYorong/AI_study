{
 "cells": [
  {
   "cell_type": "markdown",
   "metadata": {},
   "source": [
    "# Hyperparameters"
   ]
  },
  {
   "cell_type": "code",
   "execution_count": null,
   "metadata": {},
   "outputs": [],
   "source": [
    "abalone_hypers = {\n",
    "    'rnd_mean': 0,\n",
    "    'rnd_std': 0.0030,\n",
    "    'learning_rate': 0.001,\n",
    "\n",
    "    'epoch': 10,\n",
    "    'mb_size': 10,\n",
    "    'report': 1,\n",
    "\n",
    "    'input_count': 10,\n",
    "    'output_count': 1\n",
    "}"
   ]
  },
  {
   "cell_type": "markdown",
   "metadata": {},
   "source": [
    "# Declare model instance"
   ]
  },
  {
   "cell_type": "code",
   "execution_count": null,
   "metadata": {},
   "outputs": [],
   "source": [
    "import basics\n",
    "\n",
    "basic = basics.model()\n",
    "basic.default_randomize()"
   ]
  },
  {
   "cell_type": "markdown",
   "metadata": {},
   "source": [
    "# Main function"
   ]
  },
  {
   "cell_type": "code",
   "execution_count": null,
   "metadata": {},
   "outputs": [],
   "source": [
    "def abalone_exec(self, epoch_count=10, mb_size=10, report=1):\n",
    "    self.load_abalone_dataset()\n",
    "    self.init_model()\n",
    "    self.train_and_test(epoch_count, mb_size, report)"
   ]
  }
 ],
 "metadata": {
  "interpreter": {
   "hash": "31f2aee4e71d21fbe5cf8b01ff0e069b9275f58929596ceb00d14d90e3e16cd6"
  },
  "kernelspec": {
   "display_name": "Python 3.8.10 64-bit",
   "language": "python",
   "name": "python3"
  },
  "language_info": {
   "name": "python",
   "version": "3.8.10"
  },
  "orig_nbformat": 4
 },
 "nbformat": 4,
 "nbformat_minor": 2
}
