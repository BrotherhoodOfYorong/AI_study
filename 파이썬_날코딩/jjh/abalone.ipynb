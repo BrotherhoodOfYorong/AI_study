{
 "cells": [
  {
   "cell_type": "markdown",
   "metadata": {},
   "source": [
    "# Hyperparameters"
   ]
  },
  {
   "cell_type": "code",
   "execution_count": 1,
   "metadata": {},
   "outputs": [],
   "source": [
    "# Hyperparameters\n",
    "rnd_mean = 0\n",
    "rnd_std = 0.0030\n",
    "learning_rate = 0.001\n",
    "\n",
    "input_count = 10\n",
    "output_count = 1\n",
    "\n",
    "epoch = 10\n",
    "mb_size = 10\n",
    "report = 1"
   ]
  },
  {
   "cell_type": "markdown",
   "metadata": {},
   "source": [
    "# Declare model instance"
   ]
  },
  {
   "cell_type": "code",
   "execution_count": 2,
   "metadata": {},
   "outputs": [],
   "source": [
    "import basics\n",
    "\n",
    "model = basics.model(input_count=input_count, output_count=output_count, rnd_mean=rnd_mean, rnd_std=rnd_std)\n",
    "model.default_randomize()"
   ]
  },
  {
   "cell_type": "markdown",
   "metadata": {},
   "source": [
    "# Main function"
   ]
  },
  {
   "cell_type": "code",
   "execution_count": 3,
   "metadata": {},
   "outputs": [
    {
     "name": "stdout",
     "output_type": "stream",
     "text": [
      "Epoch 1: loss=33.875, accuracy=0.557/0.812\n",
      "Epoch 2: loss=8.226, accuracy=0.820/0.814\n",
      "Epoch 3: loss=7.582, accuracy=0.812/0.809\n",
      "Epoch 4: loss=7.475, accuracy=0.808/0.811\n",
      "Epoch 5: loss=7.395, accuracy=0.810/0.809\n",
      "Epoch 6: loss=7.328, accuracy=0.808/0.810\n",
      "Epoch 7: loss=7.269, accuracy=0.808/0.811\n",
      "Epoch 8: loss=7.217, accuracy=0.808/0.812\n",
      "Epoch 9: loss=7.175, accuracy=0.810/0.810\n",
      "Epoch 10: loss=7.135, accuracy=0.809/0.810\n",
      "\n",
      "Final Test: final accuracy = 0.810\n"
     ]
    }
   ],
   "source": [
    "model.load_abalone_dataset()\n",
    "model.init_model()\n",
    "model.train_and_test(epoch, mb_size, report, learning_rate)"
   ]
  }
 ],
 "metadata": {
  "interpreter": {
   "hash": "31f2aee4e71d21fbe5cf8b01ff0e069b9275f58929596ceb00d14d90e3e16cd6"
  },
  "kernelspec": {
   "display_name": "Python 3.8.10 64-bit",
   "language": "python",
   "name": "python3"
  },
  "language_info": {
   "codemirror_mode": {
    "name": "ipython",
    "version": 3
   },
   "file_extension": ".py",
   "mimetype": "text/x-python",
   "name": "python",
   "nbconvert_exporter": "python",
   "pygments_lexer": "ipython3",
   "version": "3.8.10"
  },
  "orig_nbformat": 4
 },
 "nbformat": 4,
 "nbformat_minor": 2
}
